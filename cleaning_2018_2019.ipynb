{
 "cells": [
  {
   "cell_type": "code",
   "execution_count": null,
   "id": "d639f71c",
   "metadata": {},
   "outputs": [],
   "source": [
    "def anio(x):\n",
    "    return f\"{x}/2019\"\n",
    "\n",
    "df_fronton_2019.date = df_fronton_2019.date.apply(anio)\n",
    "\n",
    "df_fronton_2019[\"prueba\"] = pd.to_datetime(df_fronton_2019.date)\n"
   ]
  }
 ],
 "metadata": {
  "kernelspec": {
   "display_name": "Python 3 (ipykernel)",
   "language": "python",
   "name": "python3"
  },
  "language_info": {
   "codemirror_mode": {
    "name": "ipython",
    "version": 3
   },
   "file_extension": ".py",
   "mimetype": "text/x-python",
   "name": "python",
   "nbconvert_exporter": "python",
   "pygments_lexer": "ipython3",
   "version": "3.8.10"
  }
 },
 "nbformat": 4,
 "nbformat_minor": 5
}
