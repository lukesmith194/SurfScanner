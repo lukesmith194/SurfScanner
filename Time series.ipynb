{
 "cells": [
  {
   "cell_type": "code",
   "execution_count": 106,
   "id": "94e8c7ee",
   "metadata": {},
   "outputs": [],
   "source": [
    "import seaborn as sns\n",
    "import pandas as pd\n",
    "import matplotlib.pyplot as plt\n",
    "import statsmodels.tsa.api as smt\n",
    "import statsmodels.api as sm\n",
    "from statsmodels.tsa.seasonal import seasonal_decompose, STL\n",
    "from statsmodels.tsa.arima_model import ARIMA\n",
    "from statsmodels.tsa.stattools import acf\n",
    "from statsmodels.graphics.tsaplots import plot_acf\n",
    "from statsmodels.graphics.tsaplots import plot_pacf\n",
    "from matplotlib import pyplot"
   ]
  },
  {
   "cell_type": "code",
   "execution_count": 83,
   "id": "b253ec02",
   "metadata": {},
   "outputs": [],
   "source": [
    "sns.set_context(\"poster\")\n",
    "sns.set(rc={\"figure.figsize\": (12.,6.)})\n",
    "sns.set_style(\"whitegrid\")"
   ]
  },
  {
   "cell_type": "code",
   "execution_count": 3,
   "id": "42ab13d5",
   "metadata": {},
   "outputs": [],
   "source": [
    "df_2020= pd.read_csv (r'full_2020.csv')\n",
    "df_2019 = pd.read_csv (r'full_2019.csv')\n",
    "df_2018 = pd.read_csv (r'full_2018.csv')"
   ]
  },
  {
   "cell_type": "code",
   "execution_count": 28,
   "id": "25363104",
   "metadata": {},
   "outputs": [
    {
     "data": {
      "text/html": [
       "<div>\n",
       "<style scoped>\n",
       "    .dataframe tbody tr th:only-of-type {\n",
       "        vertical-align: middle;\n",
       "    }\n",
       "\n",
       "    .dataframe tbody tr th {\n",
       "        vertical-align: top;\n",
       "    }\n",
       "\n",
       "    .dataframe thead th {\n",
       "        text-align: right;\n",
       "    }\n",
       "</style>\n",
       "<table border=\"1\" class=\"dataframe\">\n",
       "  <thead>\n",
       "    <tr style=\"text-align: right;\">\n",
       "      <th></th>\n",
       "      <th>Spot</th>\n",
       "      <th>date</th>\n",
       "      <th>time</th>\n",
       "      <th>range</th>\n",
       "      <th>height_ft</th>\n",
       "      <th>swell_dir</th>\n",
       "      <th>swell_angle</th>\n",
       "      <th>period_sec</th>\n",
       "      <th>wind_kmh</th>\n",
       "      <th>wind_dir</th>\n",
       "      <th>wind</th>\n",
       "      <th>wind_angle</th>\n",
       "      <th>temp_°c</th>\n",
       "      <th>Conditions</th>\n",
       "      <th>Condition_ratings</th>\n",
       "    </tr>\n",
       "  </thead>\n",
       "  <tbody>\n",
       "    <tr>\n",
       "      <th>0</th>\n",
       "      <td>Nazare</td>\n",
       "      <td>2018-01-01</td>\n",
       "      <td>6am</td>\n",
       "      <td>20-30ft</td>\n",
       "      <td>15.5</td>\n",
       "      <td>WNW</td>\n",
       "      <td>292</td>\n",
       "      <td>15</td>\n",
       "      <td>6</td>\n",
       "      <td>S</td>\n",
       "      <td>Cross/Offshore</td>\n",
       "      <td>186</td>\n",
       "      <td>8</td>\n",
       "      <td>Good</td>\n",
       "      <td>4</td>\n",
       "    </tr>\n",
       "    <tr>\n",
       "      <th>1</th>\n",
       "      <td>Nazare</td>\n",
       "      <td>2018-01-01</td>\n",
       "      <td>12pm</td>\n",
       "      <td>18-28ft</td>\n",
       "      <td>14.5</td>\n",
       "      <td>WNW</td>\n",
       "      <td>292</td>\n",
       "      <td>15</td>\n",
       "      <td>14</td>\n",
       "      <td>W</td>\n",
       "      <td>Onshore</td>\n",
       "      <td>277</td>\n",
       "      <td>15</td>\n",
       "      <td>Good</td>\n",
       "      <td>4</td>\n",
       "    </tr>\n",
       "    <tr>\n",
       "      <th>2</th>\n",
       "      <td>Nazare</td>\n",
       "      <td>2018-01-01</td>\n",
       "      <td>6pm</td>\n",
       "      <td>18-26ft</td>\n",
       "      <td>13.5</td>\n",
       "      <td>WNW</td>\n",
       "      <td>293</td>\n",
       "      <td>14</td>\n",
       "      <td>6</td>\n",
       "      <td>WSW</td>\n",
       "      <td>Onshore</td>\n",
       "      <td>253</td>\n",
       "      <td>11</td>\n",
       "      <td>Good</td>\n",
       "      <td>4</td>\n",
       "    </tr>\n",
       "    <tr>\n",
       "      <th>3</th>\n",
       "      <td>Nazare</td>\n",
       "      <td>2018-02-01</td>\n",
       "      <td>6am</td>\n",
       "      <td>16-26ft</td>\n",
       "      <td>12.5</td>\n",
       "      <td>WNW</td>\n",
       "      <td>297</td>\n",
       "      <td>14</td>\n",
       "      <td>5</td>\n",
       "      <td>SSW</td>\n",
       "      <td>Cross-shore</td>\n",
       "      <td>207</td>\n",
       "      <td>10</td>\n",
       "      <td>Good</td>\n",
       "      <td>4</td>\n",
       "    </tr>\n",
       "    <tr>\n",
       "      <th>4</th>\n",
       "      <td>Nazare</td>\n",
       "      <td>2018-02-01</td>\n",
       "      <td>12pm</td>\n",
       "      <td>14-24ft</td>\n",
       "      <td>11.5</td>\n",
       "      <td>WNW</td>\n",
       "      <td>297</td>\n",
       "      <td>14</td>\n",
       "      <td>11</td>\n",
       "      <td>WSW</td>\n",
       "      <td>Onshore</td>\n",
       "      <td>258</td>\n",
       "      <td>16</td>\n",
       "      <td>Good</td>\n",
       "      <td>4</td>\n",
       "    </tr>\n",
       "  </tbody>\n",
       "</table>\n",
       "</div>"
      ],
      "text/plain": [
       "     Spot       date  time    range  height_ft swell_dir  swell_angle  \\\n",
       "0  Nazare 2018-01-01   6am  20-30ft       15.5       WNW          292   \n",
       "1  Nazare 2018-01-01  12pm  18-28ft       14.5       WNW          292   \n",
       "2  Nazare 2018-01-01   6pm  18-26ft       13.5       WNW          293   \n",
       "3  Nazare 2018-02-01   6am  16-26ft       12.5       WNW          297   \n",
       "4  Nazare 2018-02-01  12pm  14-24ft       11.5       WNW          297   \n",
       "\n",
       "   period_sec  wind_kmh wind_dir            wind  wind_angle  temp_°c  \\\n",
       "0          15         6        S  Cross/Offshore         186        8   \n",
       "1          15        14        W         Onshore         277       15   \n",
       "2          14         6      WSW         Onshore         253       11   \n",
       "3          14         5      SSW     Cross-shore         207       10   \n",
       "4          14        11      WSW         Onshore         258       16   \n",
       "\n",
       "  Conditions  Condition_ratings  \n",
       "0       Good                  4  \n",
       "1       Good                  4  \n",
       "2       Good                  4  \n",
       "3       Good                  4  \n",
       "4       Good                  4  "
      ]
     },
     "execution_count": 28,
     "metadata": {},
     "output_type": "execute_result"
    }
   ],
   "source": [
    "full.head()"
   ]
  },
  {
   "cell_type": "code",
   "execution_count": 4,
   "id": "54a161fb",
   "metadata": {},
   "outputs": [],
   "source": [
    "full = pd.concat([df_2018,df_2019,df_2020], ignore_index=True)"
   ]
  },
  {
   "cell_type": "code",
   "execution_count": 10,
   "id": "2e49803c",
   "metadata": {},
   "outputs": [],
   "source": [
    "full[\"date\"] = pd.to_datetime(full.date)"
   ]
  },
  {
   "cell_type": "code",
   "execution_count": 29,
   "id": "79c5f025",
   "metadata": {},
   "outputs": [
    {
     "data": {
      "text/plain": [
       "Not recommended    9633\n",
       "Good               9588\n",
       "Epic               9036\n",
       "Mediocre           3795\n",
       "Choppy              828\n",
       "Name: Conditions, dtype: int64"
      ]
     },
     "execution_count": 29,
     "metadata": {},
     "output_type": "execute_result"
    }
   ],
   "source": [
    "full.Conditions.value_counts()"
   ]
  },
  {
   "cell_type": "code",
   "execution_count": 22,
   "id": "55c0d483",
   "metadata": {},
   "outputs": [],
   "source": [
    "conditions_rank = {\n",
    "    'Epic':5, \n",
    "    'Good':4, \n",
    "    'Mediocre':3, \n",
    "    'Choppy':2,\n",
    "    'Not recommended':1\n",
    "}"
   ]
  },
  {
   "cell_type": "code",
   "execution_count": 27,
   "id": "d6fe3ead",
   "metadata": {},
   "outputs": [],
   "source": [
    "full[\"Condition_ratings\"] = full.Conditions.map(conditions_rank)"
   ]
  },
  {
   "cell_type": "code",
   "execution_count": 42,
   "id": "6f02d9da",
   "metadata": {},
   "outputs": [],
   "source": [
    "def group_by (col):\n",
    "    full_prueba = full.groupby([\"date\",\"Spot\"])[f'{col}'].agg(\"mean\")\n",
    "    df1 = pd.DataFrame(full_prueba)\n",
    "    df1 = df1.reset_index()\n",
    "    return df1\n",
    "    "
   ]
  },
  {
   "cell_type": "code",
   "execution_count": 142,
   "id": "1a99adde",
   "metadata": {},
   "outputs": [],
   "source": [
    "height = group_by(\"height_ft\")"
   ]
  },
  {
   "cell_type": "code",
   "execution_count": 143,
   "id": "28df733b",
   "metadata": {},
   "outputs": [
    {
     "data": {
      "text/html": [
       "<div>\n",
       "<style scoped>\n",
       "    .dataframe tbody tr th:only-of-type {\n",
       "        vertical-align: middle;\n",
       "    }\n",
       "\n",
       "    .dataframe tbody tr th {\n",
       "        vertical-align: top;\n",
       "    }\n",
       "\n",
       "    .dataframe thead th {\n",
       "        text-align: right;\n",
       "    }\n",
       "</style>\n",
       "<table border=\"1\" class=\"dataframe\">\n",
       "  <thead>\n",
       "    <tr style=\"text-align: right;\">\n",
       "      <th></th>\n",
       "      <th>date</th>\n",
       "      <th>Spot</th>\n",
       "      <th>height_ft</th>\n",
       "    </tr>\n",
       "  </thead>\n",
       "  <tbody>\n",
       "    <tr>\n",
       "      <th>0</th>\n",
       "      <td>2018-01-01</td>\n",
       "      <td>Fronton</td>\n",
       "      <td>3.333333</td>\n",
       "    </tr>\n",
       "    <tr>\n",
       "      <th>1</th>\n",
       "      <td>2018-01-01</td>\n",
       "      <td>Itacoatiara</td>\n",
       "      <td>0.800000</td>\n",
       "    </tr>\n",
       "    <tr>\n",
       "      <th>2</th>\n",
       "      <td>2018-01-01</td>\n",
       "      <td>Mosca Point</td>\n",
       "      <td>3.666667</td>\n",
       "    </tr>\n",
       "    <tr>\n",
       "      <th>3</th>\n",
       "      <td>2018-01-01</td>\n",
       "      <td>Nazare</td>\n",
       "      <td>14.500000</td>\n",
       "    </tr>\n",
       "    <tr>\n",
       "      <th>4</th>\n",
       "      <td>2018-01-01</td>\n",
       "      <td>Padang-Padang</td>\n",
       "      <td>5.666667</td>\n",
       "    </tr>\n",
       "    <tr>\n",
       "      <th>...</th>\n",
       "      <td>...</td>\n",
       "      <td>...</td>\n",
       "      <td>...</td>\n",
       "    </tr>\n",
       "    <tr>\n",
       "      <th>10590</th>\n",
       "      <td>2020-12-31</td>\n",
       "      <td>Padang-Padang</td>\n",
       "      <td>4.000000</td>\n",
       "    </tr>\n",
       "    <tr>\n",
       "      <th>10591</th>\n",
       "      <td>2020-12-31</td>\n",
       "      <td>Pipeline</td>\n",
       "      <td>9.000000</td>\n",
       "    </tr>\n",
       "    <tr>\n",
       "      <th>10592</th>\n",
       "      <td>2020-12-31</td>\n",
       "      <td>Puerto Escondido</td>\n",
       "      <td>1.833333</td>\n",
       "    </tr>\n",
       "    <tr>\n",
       "      <th>10593</th>\n",
       "      <td>2020-12-31</td>\n",
       "      <td>Tauro</td>\n",
       "      <td>0.900000</td>\n",
       "    </tr>\n",
       "    <tr>\n",
       "      <th>10594</th>\n",
       "      <td>2020-12-31</td>\n",
       "      <td>The Box</td>\n",
       "      <td>7.500000</td>\n",
       "    </tr>\n",
       "  </tbody>\n",
       "</table>\n",
       "<p>10595 rows × 3 columns</p>\n",
       "</div>"
      ],
      "text/plain": [
       "            date              Spot  height_ft\n",
       "0     2018-01-01           Fronton   3.333333\n",
       "1     2018-01-01       Itacoatiara   0.800000\n",
       "2     2018-01-01       Mosca Point   3.666667\n",
       "3     2018-01-01            Nazare  14.500000\n",
       "4     2018-01-01     Padang-Padang   5.666667\n",
       "...          ...               ...        ...\n",
       "10590 2020-12-31     Padang-Padang   4.000000\n",
       "10591 2020-12-31          Pipeline   9.000000\n",
       "10592 2020-12-31  Puerto Escondido   1.833333\n",
       "10593 2020-12-31             Tauro   0.900000\n",
       "10594 2020-12-31           The Box   7.500000\n",
       "\n",
       "[10595 rows x 3 columns]"
      ]
     },
     "execution_count": 143,
     "metadata": {},
     "output_type": "execute_result"
    }
   ],
   "source": [
    "height"
   ]
  },
  {
   "cell_type": "code",
   "execution_count": 46,
   "id": "cc752d51",
   "metadata": {},
   "outputs": [],
   "source": [
    "wind_speed = group_by(\"wind_kmh\")"
   ]
  },
  {
   "cell_type": "code",
   "execution_count": 48,
   "id": "daf2a2b1",
   "metadata": {},
   "outputs": [
    {
     "data": {
      "text/html": [
       "<div>\n",
       "<style scoped>\n",
       "    .dataframe tbody tr th:only-of-type {\n",
       "        vertical-align: middle;\n",
       "    }\n",
       "\n",
       "    .dataframe tbody tr th {\n",
       "        vertical-align: top;\n",
       "    }\n",
       "\n",
       "    .dataframe thead th {\n",
       "        text-align: right;\n",
       "    }\n",
       "</style>\n",
       "<table border=\"1\" class=\"dataframe\">\n",
       "  <thead>\n",
       "    <tr style=\"text-align: right;\">\n",
       "      <th></th>\n",
       "      <th>date</th>\n",
       "      <th>Spot</th>\n",
       "      <th>wind_kmh</th>\n",
       "    </tr>\n",
       "  </thead>\n",
       "  <tbody>\n",
       "    <tr>\n",
       "      <th>0</th>\n",
       "      <td>2018-01-01</td>\n",
       "      <td>Fronton</td>\n",
       "      <td>19.666667</td>\n",
       "    </tr>\n",
       "    <tr>\n",
       "      <th>1</th>\n",
       "      <td>2018-01-01</td>\n",
       "      <td>Itacoatiara</td>\n",
       "      <td>9.666667</td>\n",
       "    </tr>\n",
       "    <tr>\n",
       "      <th>2</th>\n",
       "      <td>2018-01-01</td>\n",
       "      <td>Mosca Point</td>\n",
       "      <td>19.666667</td>\n",
       "    </tr>\n",
       "    <tr>\n",
       "      <th>3</th>\n",
       "      <td>2018-01-01</td>\n",
       "      <td>Nazare</td>\n",
       "      <td>8.666667</td>\n",
       "    </tr>\n",
       "    <tr>\n",
       "      <th>4</th>\n",
       "      <td>2018-01-01</td>\n",
       "      <td>Padang-Padang</td>\n",
       "      <td>12.333333</td>\n",
       "    </tr>\n",
       "  </tbody>\n",
       "</table>\n",
       "</div>"
      ],
      "text/plain": [
       "        date           Spot   wind_kmh\n",
       "0 2018-01-01        Fronton  19.666667\n",
       "1 2018-01-01    Itacoatiara   9.666667\n",
       "2 2018-01-01    Mosca Point  19.666667\n",
       "3 2018-01-01         Nazare   8.666667\n",
       "4 2018-01-01  Padang-Padang  12.333333"
      ]
     },
     "execution_count": 48,
     "metadata": {},
     "output_type": "execute_result"
    }
   ],
   "source": [
    "wind_speed.head()"
   ]
  },
  {
   "cell_type": "code",
   "execution_count": 50,
   "id": "86e205a7",
   "metadata": {},
   "outputs": [],
   "source": [
    "rating = group_by(\"Condition_ratings\")"
   ]
  },
  {
   "cell_type": "code",
   "execution_count": 51,
   "id": "6eb2b22f",
   "metadata": {},
   "outputs": [
    {
     "data": {
      "text/html": [
       "<div>\n",
       "<style scoped>\n",
       "    .dataframe tbody tr th:only-of-type {\n",
       "        vertical-align: middle;\n",
       "    }\n",
       "\n",
       "    .dataframe tbody tr th {\n",
       "        vertical-align: top;\n",
       "    }\n",
       "\n",
       "    .dataframe thead th {\n",
       "        text-align: right;\n",
       "    }\n",
       "</style>\n",
       "<table border=\"1\" class=\"dataframe\">\n",
       "  <thead>\n",
       "    <tr style=\"text-align: right;\">\n",
       "      <th></th>\n",
       "      <th>date</th>\n",
       "      <th>Spot</th>\n",
       "      <th>Condition_ratings</th>\n",
       "    </tr>\n",
       "  </thead>\n",
       "  <tbody>\n",
       "    <tr>\n",
       "      <th>0</th>\n",
       "      <td>2018-01-01</td>\n",
       "      <td>Fronton</td>\n",
       "      <td>5.0</td>\n",
       "    </tr>\n",
       "    <tr>\n",
       "      <th>1</th>\n",
       "      <td>2018-01-01</td>\n",
       "      <td>Itacoatiara</td>\n",
       "      <td>1.0</td>\n",
       "    </tr>\n",
       "    <tr>\n",
       "      <th>2</th>\n",
       "      <td>2018-01-01</td>\n",
       "      <td>Mosca Point</td>\n",
       "      <td>5.0</td>\n",
       "    </tr>\n",
       "    <tr>\n",
       "      <th>3</th>\n",
       "      <td>2018-01-01</td>\n",
       "      <td>Nazare</td>\n",
       "      <td>4.0</td>\n",
       "    </tr>\n",
       "    <tr>\n",
       "      <th>4</th>\n",
       "      <td>2018-01-01</td>\n",
       "      <td>Padang-Padang</td>\n",
       "      <td>3.0</td>\n",
       "    </tr>\n",
       "  </tbody>\n",
       "</table>\n",
       "</div>"
      ],
      "text/plain": [
       "        date           Spot  Condition_ratings\n",
       "0 2018-01-01        Fronton                5.0\n",
       "1 2018-01-01    Itacoatiara                1.0\n",
       "2 2018-01-01    Mosca Point                5.0\n",
       "3 2018-01-01         Nazare                4.0\n",
       "4 2018-01-01  Padang-Padang                3.0"
      ]
     },
     "execution_count": 51,
     "metadata": {},
     "output_type": "execute_result"
    }
   ],
   "source": [
    "rating.head()"
   ]
  },
  {
   "cell_type": "code",
   "execution_count": 52,
   "id": "1c64a84e",
   "metadata": {},
   "outputs": [],
   "source": [
    "from statsmodels.tsa.stattools import adfuller"
   ]
  },
  {
   "cell_type": "code",
   "execution_count": 54,
   "id": "3a8c1578",
   "metadata": {},
   "outputs": [
    {
     "data": {
      "text/plain": [
       "(-12.0357021851382,\n",
       " 2.8066770743884147e-22,\n",
       " 39,\n",
       " 10555,\n",
       " {'1%': -3.430969695978145,\n",
       "  '5%': -2.8618138703454576,\n",
       "  '10%': -2.5669157760426144},\n",
       " 47202.80708705075)"
      ]
     },
     "execution_count": 54,
     "metadata": {},
     "output_type": "execute_result"
    }
   ],
   "source": [
    "dickey_height = adfuller(height[\"height_ft\"])\n",
    "dickey_height"
   ]
  },
  {
   "cell_type": "code",
   "execution_count": 55,
   "id": "a113add8",
   "metadata": {},
   "outputs": [
    {
     "data": {
      "text/plain": [
       "(-11.767096491621826,\n",
       " 1.1123238916061825e-21,\n",
       " 39,\n",
       " 10555,\n",
       " {'1%': -3.430969695978145,\n",
       "  '5%': -2.8618138703454576,\n",
       "  '10%': -2.5669157760426144},\n",
       " 67831.33577937541)"
      ]
     },
     "execution_count": 55,
     "metadata": {},
     "output_type": "execute_result"
    }
   ],
   "source": [
    "dickey_wind = adfuller(wind_speed[\"wind_kmh\"])\n",
    "dickey_wind"
   ]
  },
  {
   "cell_type": "code",
   "execution_count": 63,
   "id": "73756471",
   "metadata": {},
   "outputs": [
    {
     "data": {
      "text/plain": [
       "(-9.892108943382373,\n",
       " 3.535486258522491e-17,\n",
       " 39,\n",
       " 10555,\n",
       " {'1%': -3.430969695978145,\n",
       "  '5%': -2.8618138703454576,\n",
       "  '10%': -2.5669157760426144},\n",
       " 26799.743742309172)"
      ]
     },
     "execution_count": 63,
     "metadata": {},
     "output_type": "execute_result"
    }
   ],
   "source": [
    "dickey_condition= adfuller(rating[\"Condition_ratings\"])\n",
    "dickey_condition"
   ]
  },
  {
   "cell_type": "code",
   "execution_count": 65,
   "id": "157c5c37",
   "metadata": {},
   "outputs": [],
   "source": [
    "adf, pvalue, usedlag, nobs, critical_values, icbest = dickey_height"
   ]
  },
  {
   "cell_type": "code",
   "execution_count": 66,
   "id": "cba1e936",
   "metadata": {},
   "outputs": [
    {
     "data": {
      "text/plain": [
       "-12.0357021851382"
      ]
     },
     "execution_count": 66,
     "metadata": {},
     "output_type": "execute_result"
    }
   ],
   "source": [
    "adf"
   ]
  },
  {
   "cell_type": "code",
   "execution_count": 67,
   "id": "10464427",
   "metadata": {},
   "outputs": [
    {
     "data": {
      "text/plain": [
       "{'1%': -3.430969695978145,\n",
       " '5%': -2.8618138703454576,\n",
       " '10%': -2.5669157760426144}"
      ]
     },
     "execution_count": 67,
     "metadata": {},
     "output_type": "execute_result"
    }
   ],
   "source": [
    "critical_values"
   ]
  },
  {
   "cell_type": "code",
   "execution_count": 68,
   "id": "a59eb0dd",
   "metadata": {},
   "outputs": [],
   "source": [
    "adf, pvalue, usedlag, nobs, critical_values, icbest = dickey_wind"
   ]
  },
  {
   "cell_type": "code",
   "execution_count": 69,
   "id": "8368f943",
   "metadata": {},
   "outputs": [
    {
     "data": {
      "text/plain": [
       "-11.767096491621826"
      ]
     },
     "execution_count": 69,
     "metadata": {},
     "output_type": "execute_result"
    }
   ],
   "source": [
    "adf"
   ]
  },
  {
   "cell_type": "code",
   "execution_count": 70,
   "id": "b846cbce",
   "metadata": {},
   "outputs": [
    {
     "data": {
      "text/plain": [
       "{'1%': -3.430969695978145,\n",
       " '5%': -2.8618138703454576,\n",
       " '10%': -2.5669157760426144}"
      ]
     },
     "execution_count": 70,
     "metadata": {},
     "output_type": "execute_result"
    }
   ],
   "source": [
    "critical_values"
   ]
  },
  {
   "cell_type": "code",
   "execution_count": 71,
   "id": "5e6a2b23",
   "metadata": {},
   "outputs": [],
   "source": [
    "adf, pvalue, usedlag, nobs, critical_values, icbest = dickey_condition"
   ]
  },
  {
   "cell_type": "code",
   "execution_count": 72,
   "id": "67b89d4c",
   "metadata": {},
   "outputs": [
    {
     "data": {
      "text/plain": [
       "-9.892108943382373"
      ]
     },
     "execution_count": 72,
     "metadata": {},
     "output_type": "execute_result"
    }
   ],
   "source": [
    "adf"
   ]
  },
  {
   "cell_type": "code",
   "execution_count": 73,
   "id": "6ca9437b",
   "metadata": {},
   "outputs": [
    {
     "data": {
      "text/plain": [
       "{'1%': -3.430969695978145,\n",
       " '5%': -2.8618138703454576,\n",
       " '10%': -2.5669157760426144}"
      ]
     },
     "execution_count": 73,
     "metadata": {},
     "output_type": "execute_result"
    }
   ],
   "source": [
    "critical_values"
   ]
  },
  {
   "cell_type": "markdown",
   "id": "e4826b7d",
   "metadata": {},
   "source": [
    "### ARMA"
   ]
  },
  {
   "cell_type": "code",
   "execution_count": 144,
   "id": "09bafc3f",
   "metadata": {},
   "outputs": [],
   "source": [
    "nazare = height[height[\"Spot\"] == \"Nazare\"]"
   ]
  },
  {
   "cell_type": "code",
   "execution_count": 147,
   "id": "9f0fcf36",
   "metadata": {},
   "outputs": [],
   "source": [
    "x = pd.date_range(\"01/01/2018\",\"31/12/2020\", freq = \"D\")"
   ]
  },
  {
   "cell_type": "code",
   "execution_count": 159,
   "id": "5edbc08f",
   "metadata": {},
   "outputs": [
    {
     "ename": "AttributeError",
     "evalue": "'DataFrame' object has no attribute 'date'",
     "output_type": "error",
     "traceback": [
      "\u001b[0;31m---------------------------------------------------------------------------\u001b[0m",
      "\u001b[0;31mAttributeError\u001b[0m                            Traceback (most recent call last)",
      "\u001b[0;32m/tmp/ipykernel_570/201791814.py\u001b[0m in \u001b[0;36m<module>\u001b[0;34m\u001b[0m\n\u001b[0;32m----> 1\u001b[0;31m \u001b[0mf\u001b[0m \u001b[0;34m=\u001b[0m \u001b[0mpd\u001b[0m\u001b[0;34m.\u001b[0m\u001b[0minfer_freq\u001b[0m\u001b[0;34m(\u001b[0m\u001b[0mnazare\u001b[0m\u001b[0;34m.\u001b[0m\u001b[0mdate\u001b[0m\u001b[0;34m)\u001b[0m\u001b[0;34m\u001b[0m\u001b[0;34m\u001b[0m\u001b[0m\n\u001b[0m",
      "\u001b[0;32m~/.local/lib/python3.8/site-packages/pandas/core/generic.py\u001b[0m in \u001b[0;36m__getattr__\u001b[0;34m(self, name)\u001b[0m\n\u001b[1;32m   5476\u001b[0m         ):\n\u001b[1;32m   5477\u001b[0m             \u001b[0;32mreturn\u001b[0m \u001b[0mself\u001b[0m\u001b[0;34m[\u001b[0m\u001b[0mname\u001b[0m\u001b[0;34m]\u001b[0m\u001b[0;34m\u001b[0m\u001b[0;34m\u001b[0m\u001b[0m\n\u001b[0;32m-> 5478\u001b[0;31m         \u001b[0;32mreturn\u001b[0m \u001b[0mobject\u001b[0m\u001b[0;34m.\u001b[0m\u001b[0m__getattribute__\u001b[0m\u001b[0;34m(\u001b[0m\u001b[0mself\u001b[0m\u001b[0;34m,\u001b[0m \u001b[0mname\u001b[0m\u001b[0;34m)\u001b[0m\u001b[0;34m\u001b[0m\u001b[0;34m\u001b[0m\u001b[0m\n\u001b[0m\u001b[1;32m   5479\u001b[0m \u001b[0;34m\u001b[0m\u001b[0m\n\u001b[1;32m   5480\u001b[0m     \u001b[0;32mdef\u001b[0m \u001b[0m__setattr__\u001b[0m\u001b[0;34m(\u001b[0m\u001b[0mself\u001b[0m\u001b[0;34m,\u001b[0m \u001b[0mname\u001b[0m\u001b[0;34m:\u001b[0m \u001b[0mstr\u001b[0m\u001b[0;34m,\u001b[0m \u001b[0mvalue\u001b[0m\u001b[0;34m)\u001b[0m \u001b[0;34m->\u001b[0m \u001b[0;32mNone\u001b[0m\u001b[0;34m:\u001b[0m\u001b[0;34m\u001b[0m\u001b[0;34m\u001b[0m\u001b[0m\n",
      "\u001b[0;31mAttributeError\u001b[0m: 'DataFrame' object has no attribute 'date'"
     ]
    }
   ],
   "source": [
    "f = pd.infer_freq(nazare.date)"
   ]
  },
  {
   "cell_type": "code",
   "execution_count": 158,
   "id": "07eede55",
   "metadata": {},
   "outputs": [],
   "source": [
    "nazare = nazare.set_index(\"date\")"
   ]
  },
  {
   "cell_type": "code",
   "execution_count": 160,
   "id": "5c83431b",
   "metadata": {},
   "outputs": [
    {
     "data": {
      "text/html": [
       "<div>\n",
       "<style scoped>\n",
       "    .dataframe tbody tr th:only-of-type {\n",
       "        vertical-align: middle;\n",
       "    }\n",
       "\n",
       "    .dataframe tbody tr th {\n",
       "        vertical-align: top;\n",
       "    }\n",
       "\n",
       "    .dataframe thead th {\n",
       "        text-align: right;\n",
       "    }\n",
       "</style>\n",
       "<table border=\"1\" class=\"dataframe\">\n",
       "  <thead>\n",
       "    <tr style=\"text-align: right;\">\n",
       "      <th></th>\n",
       "      <th>Spot</th>\n",
       "      <th>height_ft</th>\n",
       "    </tr>\n",
       "    <tr>\n",
       "      <th>date</th>\n",
       "      <th></th>\n",
       "      <th></th>\n",
       "    </tr>\n",
       "  </thead>\n",
       "  <tbody>\n",
       "    <tr>\n",
       "      <th>2018-01-01</th>\n",
       "      <td>Nazare</td>\n",
       "      <td>14.500000</td>\n",
       "    </tr>\n",
       "    <tr>\n",
       "      <th>2018-01-02</th>\n",
       "      <td>Nazare</td>\n",
       "      <td>6.833333</td>\n",
       "    </tr>\n",
       "    <tr>\n",
       "      <th>2018-01-03</th>\n",
       "      <td>Nazare</td>\n",
       "      <td>9.833333</td>\n",
       "    </tr>\n",
       "    <tr>\n",
       "      <th>2018-01-04</th>\n",
       "      <td>Nazare</td>\n",
       "      <td>4.666667</td>\n",
       "    </tr>\n",
       "    <tr>\n",
       "      <th>2018-01-05</th>\n",
       "      <td>Nazare</td>\n",
       "      <td>4.833333</td>\n",
       "    </tr>\n",
       "  </tbody>\n",
       "</table>\n",
       "</div>"
      ],
      "text/plain": [
       "              Spot  height_ft\n",
       "date                         \n",
       "2018-01-01  Nazare  14.500000\n",
       "2018-01-02  Nazare   6.833333\n",
       "2018-01-03  Nazare   9.833333\n",
       "2018-01-04  Nazare   4.666667\n",
       "2018-01-05  Nazare   4.833333"
      ]
     },
     "execution_count": 160,
     "metadata": {},
     "output_type": "execute_result"
    }
   ],
   "source": [
    "nazare.head()"
   ]
  },
  {
   "cell_type": "code",
   "execution_count": 155,
   "id": "6577dd37",
   "metadata": {},
   "outputs": [
    {
     "data": {
      "text/plain": [
       "'D'"
      ]
     },
     "execution_count": 155,
     "metadata": {},
     "output_type": "execute_result"
    }
   ],
   "source": [
    "f"
   ]
  },
  {
   "cell_type": "code",
   "execution_count": 156,
   "id": "7288ba76",
   "metadata": {},
   "outputs": [
    {
     "data": {
      "text/plain": [
       "1096"
      ]
     },
     "execution_count": 156,
     "metadata": {},
     "output_type": "execute_result"
    }
   ],
   "source": [
    "len(x)"
   ]
  },
  {
   "cell_type": "code",
   "execution_count": 161,
   "id": "1f242d2c",
   "metadata": {},
   "outputs": [
    {
     "data": {
      "text/html": [
       "<div>\n",
       "<style scoped>\n",
       "    .dataframe tbody tr th:only-of-type {\n",
       "        vertical-align: middle;\n",
       "    }\n",
       "\n",
       "    .dataframe tbody tr th {\n",
       "        vertical-align: top;\n",
       "    }\n",
       "\n",
       "    .dataframe thead th {\n",
       "        text-align: right;\n",
       "    }\n",
       "</style>\n",
       "<table border=\"1\" class=\"dataframe\">\n",
       "  <thead>\n",
       "    <tr style=\"text-align: right;\">\n",
       "      <th></th>\n",
       "      <th>Spot</th>\n",
       "      <th>height_ft</th>\n",
       "    </tr>\n",
       "    <tr>\n",
       "      <th>date</th>\n",
       "      <th></th>\n",
       "      <th></th>\n",
       "    </tr>\n",
       "  </thead>\n",
       "  <tbody>\n",
       "    <tr>\n",
       "      <th>2018-01-01</th>\n",
       "      <td>Nazare</td>\n",
       "      <td>14.500000</td>\n",
       "    </tr>\n",
       "    <tr>\n",
       "      <th>2018-01-02</th>\n",
       "      <td>Nazare</td>\n",
       "      <td>6.833333</td>\n",
       "    </tr>\n",
       "    <tr>\n",
       "      <th>2018-01-03</th>\n",
       "      <td>Nazare</td>\n",
       "      <td>9.833333</td>\n",
       "    </tr>\n",
       "    <tr>\n",
       "      <th>2018-01-04</th>\n",
       "      <td>Nazare</td>\n",
       "      <td>4.666667</td>\n",
       "    </tr>\n",
       "    <tr>\n",
       "      <th>2018-01-05</th>\n",
       "      <td>Nazare</td>\n",
       "      <td>4.833333</td>\n",
       "    </tr>\n",
       "  </tbody>\n",
       "</table>\n",
       "</div>"
      ],
      "text/plain": [
       "              Spot  height_ft\n",
       "date                         \n",
       "2018-01-01  Nazare  14.500000\n",
       "2018-01-02  Nazare   6.833333\n",
       "2018-01-03  Nazare   9.833333\n",
       "2018-01-04  Nazare   4.666667\n",
       "2018-01-05  Nazare   4.833333"
      ]
     },
     "execution_count": 161,
     "metadata": {},
     "output_type": "execute_result"
    }
   ],
   "source": [
    "nazare.head()"
   ]
  },
  {
   "cell_type": "code",
   "execution_count": 162,
   "id": "627adf03",
   "metadata": {},
   "outputs": [
    {
     "data": {
      "image/png": "[encoded data removed]",
      "text/plain": [
       "<Figure size 864x432 with 1 Axes>"
      ]
     },
     "metadata": {},
     "output_type": "display_data"
    },
    {
     "data": {
      "image/png": "[encoded data removed]",
      "text/plain": [
       "<Figure size 864x432 with 1 Axes>"
      ]
     },
     "metadata": {},
     "output_type": "display_data"
    }
   ],
   "source": [
    "#fig, ax = plt.subplots(nrows=1, ncols=1, figsize=(20,10))\n",
    "plot_acf(nazare[\"height_ft\"]);\n",
    "plot_pacf(nazare[\"height_ft\"]);\n",
    "pyplot.show()"
   ]
  },
  {
   "cell_type": "code",
   "execution_count": 169,
   "id": "f156c3b1",
   "metadata": {},
   "outputs": [
    {
     "name": "stderr",
     "output_type": "stream",
     "text": [
      "/home/lukesmith194/.local/lib/python3.8/site-packages/statsmodels/tsa/arima_model.py:472: FutureWarning: \n",
      "statsmodels.tsa.arima_model.ARMA and statsmodels.tsa.arima_model.ARIMA have\n",
      "been deprecated in favor of statsmodels.tsa.arima.model.ARIMA (note the .\n",
      "between arima and model) and\n",
      "statsmodels.tsa.SARIMAX. These will be removed after the 0.12 release.\n",
      "\n",
      "statsmodels.tsa.arima.model.ARIMA makes use of the statespace framework and\n",
      "is both well tested and maintained.\n",
      "\n",
      "To silence this warning and continue using ARMA and ARIMA until they are\n",
      "removed, use:\n",
      "\n",
      "import warnings\n",
      "warnings.filterwarnings('ignore', 'statsmodels.tsa.arima_model.ARMA',\n",
      "                        FutureWarning)\n",
      "warnings.filterwarnings('ignore', 'statsmodels.tsa.arima_model.ARIMA',\n",
      "                        FutureWarning)\n",
      "\n",
      "  warnings.warn(ARIMA_DEPRECATION_WARN, FutureWarning)\n",
      "/home/lukesmith194/.local/lib/python3.8/site-packages/statsmodels/tsa/base/tsa_model.py:524: ValueWarning: No frequency information was provided, so inferred frequency D will be used.\n",
      "  warnings.warn('No frequency information was'\n"
     ]
    }
   ],
   "source": [
    "orders = (4,0,3) # esto dependerá de lo que nos salga en las columnas anteriores\n",
    "model_nazare = ARIMA(nazare['height_ft'], order = orders)\n",
    "model_nazare;\n"
   ]
  },
  {
   "cell_type": "code",
   "execution_count": 170,
   "id": "8994407d",
   "metadata": {},
   "outputs": [
    {
     "name": "stdout",
     "output_type": "stream",
     "text": [
      "                              ARMA Model Results                              \n",
      "==============================================================================\n",
      "Dep. Variable:              height_ft   No. Observations:                 1096\n",
      "Model:                     ARMA(4, 3)   Log Likelihood               -2739.845\n",
      "Method:                       css-mle   S.D. of innovations              2.947\n",
      "Date:                Tue, 05 Oct 2021   AIC                           5497.690\n",
      "Time:                        17:42:26   BIC                           5542.685\n",
      "Sample:                    01-01-2018   HQIC                          5514.715\n",
      "                         - 12-31-2020                                         \n",
      "===================================================================================\n",
      "                      coef    std err          z      P>|z|      [0.025      0.975]\n",
      "-----------------------------------------------------------------------------------\n",
      "const               6.3707      0.179     35.575      0.000       6.020       6.722\n",
      "ar.L1.height_ft     0.0210      0.338      0.062      0.950      -0.641       0.683\n",
      "ar.L2.height_ft     0.1389      0.174      0.798      0.425      -0.202       0.480\n",
      "ar.L3.height_ft    -0.2602      0.221     -1.179      0.239      -0.693       0.172\n",
      "ar.L4.height_ft     0.1213      0.086      1.409      0.159      -0.047       0.290\n",
      "ma.L1.height_ft     0.4180      0.333      1.256      0.209      -0.234       1.070\n",
      "ma.L2.height_ft     0.1407      0.245      0.573      0.566      -0.340       0.622\n",
      "ma.L3.height_ft     0.4124      0.163      2.530      0.011       0.093       0.732\n",
      "                                    Roots                                    \n",
      "=============================================================================\n",
      "                  Real          Imaginary           Modulus         Frequency\n",
      "-----------------------------------------------------------------------------\n",
      "AR.1           -1.2520           -0.0000j            1.2520           -0.5000\n",
      "AR.2            0.5511           -1.6017j            1.6939           -0.1973\n",
      "AR.3            0.5511           +1.6017j            1.6939            0.1973\n",
      "AR.4            2.2954           -0.0000j            2.2954           -0.0000\n",
      "MA.1           -1.1937           -0.0000j            1.1937           -0.5000\n",
      "MA.2            0.4263           -1.3599j            1.4252           -0.2017\n",
      "MA.3            0.4263           +1.3599j            1.4252            0.2017\n",
      "-----------------------------------------------------------------------------\n"
     ]
    }
   ],
   "source": [
    "arma = model_nazare.fit()\n",
    "print(arma.summary())\n"
   ]
  }
 ],
 "metadata": {
  "kernelspec": {
   "display_name": "Python 3 (ipykernel)",
   "language": "python",
   "name": "python3"
  },
  "language_info": {
   "codemirror_mode": {
    "name": "ipython",
    "version": 3
   },
   "file_extension": ".py",
   "mimetype": "text/x-python",
   "name": "python",
   "nbconvert_exporter": "python",
   "pygments_lexer": "ipython3",
   "version": "3.8.10"
  }
 },
 "nbformat": 4,
 "nbformat_minor": 5
}
