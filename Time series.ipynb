{
 "cells": [
  {
   "cell_type": "code",
   "execution_count": 2,
   "id": "a59cf17d",
   "metadata": {},
   "outputs": [],
   "source": [
    "import pandas as pd"
   ]
  },
  {
   "cell_type": "code",
   "execution_count": 3,
   "id": "7b1faf53",
   "metadata": {},
   "outputs": [],
   "source": [
    "df_2020= pd.read_csv (r'full_2020.csv')\n",
    "df_2019 = pd.read_csv (r'full_2019.csv')\n",
    "df_2018 = pd.read_csv (r'full_2018.csv')"
   ]
  },
  {
   "cell_type": "code",
   "execution_count": 28,
   "id": "09827116",
   "metadata": {},
   "outputs": [
    {
     "data": {
      "text/html": [
       "<div>\n",
       "<style scoped>\n",
       "    .dataframe tbody tr th:only-of-type {\n",
       "        vertical-align: middle;\n",
       "    }\n",
       "\n",
       "    .dataframe tbody tr th {\n",
       "        vertical-align: top;\n",
       "    }\n",
       "\n",
       "    .dataframe thead th {\n",
       "        text-align: right;\n",
       "    }\n",
       "</style>\n",
       "<table border=\"1\" class=\"dataframe\">\n",
       "  <thead>\n",
       "    <tr style=\"text-align: right;\">\n",
       "      <th></th>\n",
       "      <th>Spot</th>\n",
       "      <th>date</th>\n",
       "      <th>time</th>\n",
       "      <th>range</th>\n",
       "      <th>height_ft</th>\n",
       "      <th>swell_dir</th>\n",
       "      <th>swell_angle</th>\n",
       "      <th>period_sec</th>\n",
       "      <th>wind_kmh</th>\n",
       "      <th>wind_dir</th>\n",
       "      <th>wind</th>\n",
       "      <th>wind_angle</th>\n",
       "      <th>temp_°c</th>\n",
       "      <th>Conditions</th>\n",
       "      <th>Condition_ratings</th>\n",
       "    </tr>\n",
       "  </thead>\n",
       "  <tbody>\n",
       "    <tr>\n",
       "      <th>0</th>\n",
       "      <td>Nazare</td>\n",
       "      <td>2018-01-01</td>\n",
       "      <td>6am</td>\n",
       "      <td>20-30ft</td>\n",
       "      <td>15.5</td>\n",
       "      <td>WNW</td>\n",
       "      <td>292</td>\n",
       "      <td>15</td>\n",
       "      <td>6</td>\n",
       "      <td>S</td>\n",
       "      <td>Cross/Offshore</td>\n",
       "      <td>186</td>\n",
       "      <td>8</td>\n",
       "      <td>Good</td>\n",
       "      <td>4</td>\n",
       "    </tr>\n",
       "    <tr>\n",
       "      <th>1</th>\n",
       "      <td>Nazare</td>\n",
       "      <td>2018-01-01</td>\n",
       "      <td>12pm</td>\n",
       "      <td>18-28ft</td>\n",
       "      <td>14.5</td>\n",
       "      <td>WNW</td>\n",
       "      <td>292</td>\n",
       "      <td>15</td>\n",
       "      <td>14</td>\n",
       "      <td>W</td>\n",
       "      <td>Onshore</td>\n",
       "      <td>277</td>\n",
       "      <td>15</td>\n",
       "      <td>Good</td>\n",
       "      <td>4</td>\n",
       "    </tr>\n",
       "    <tr>\n",
       "      <th>2</th>\n",
       "      <td>Nazare</td>\n",
       "      <td>2018-01-01</td>\n",
       "      <td>6pm</td>\n",
       "      <td>18-26ft</td>\n",
       "      <td>13.5</td>\n",
       "      <td>WNW</td>\n",
       "      <td>293</td>\n",
       "      <td>14</td>\n",
       "      <td>6</td>\n",
       "      <td>WSW</td>\n",
       "      <td>Onshore</td>\n",
       "      <td>253</td>\n",
       "      <td>11</td>\n",
       "      <td>Good</td>\n",
       "      <td>4</td>\n",
       "    </tr>\n",
       "    <tr>\n",
       "      <th>3</th>\n",
       "      <td>Nazare</td>\n",
       "      <td>2018-02-01</td>\n",
       "      <td>6am</td>\n",
       "      <td>16-26ft</td>\n",
       "      <td>12.5</td>\n",
       "      <td>WNW</td>\n",
       "      <td>297</td>\n",
       "      <td>14</td>\n",
       "      <td>5</td>\n",
       "      <td>SSW</td>\n",
       "      <td>Cross-shore</td>\n",
       "      <td>207</td>\n",
       "      <td>10</td>\n",
       "      <td>Good</td>\n",
       "      <td>4</td>\n",
       "    </tr>\n",
       "    <tr>\n",
       "      <th>4</th>\n",
       "      <td>Nazare</td>\n",
       "      <td>2018-02-01</td>\n",
       "      <td>12pm</td>\n",
       "      <td>14-24ft</td>\n",
       "      <td>11.5</td>\n",
       "      <td>WNW</td>\n",
       "      <td>297</td>\n",
       "      <td>14</td>\n",
       "      <td>11</td>\n",
       "      <td>WSW</td>\n",
       "      <td>Onshore</td>\n",
       "      <td>258</td>\n",
       "      <td>16</td>\n",
       "      <td>Good</td>\n",
       "      <td>4</td>\n",
       "    </tr>\n",
       "  </tbody>\n",
       "</table>\n",
       "</div>"
      ],
      "text/plain": [
       "     Spot       date  time    range  height_ft swell_dir  swell_angle  \\\n",
       "0  Nazare 2018-01-01   6am  20-30ft       15.5       WNW          292   \n",
       "1  Nazare 2018-01-01  12pm  18-28ft       14.5       WNW          292   \n",
       "2  Nazare 2018-01-01   6pm  18-26ft       13.5       WNW          293   \n",
       "3  Nazare 2018-02-01   6am  16-26ft       12.5       WNW          297   \n",
       "4  Nazare 2018-02-01  12pm  14-24ft       11.5       WNW          297   \n",
       "\n",
       "   period_sec  wind_kmh wind_dir            wind  wind_angle  temp_°c  \\\n",
       "0          15         6        S  Cross/Offshore         186        8   \n",
       "1          15        14        W         Onshore         277       15   \n",
       "2          14         6      WSW         Onshore         253       11   \n",
       "3          14         5      SSW     Cross-shore         207       10   \n",
       "4          14        11      WSW         Onshore         258       16   \n",
       "\n",
       "  Conditions  Condition_ratings  \n",
       "0       Good                  4  \n",
       "1       Good                  4  \n",
       "2       Good                  4  \n",
       "3       Good                  4  \n",
       "4       Good                  4  "
      ]
     },
     "execution_count": 28,
     "metadata": {},
     "output_type": "execute_result"
    }
   ],
   "source": [
    "full.head()"
   ]
  },
  {
   "cell_type": "code",
   "execution_count": 4,
   "id": "7c9d7892",
   "metadata": {},
   "outputs": [],
   "source": [
    "full = pd.concat([df_2018,df_2019,df_2020], ignore_index=True)"
   ]
  },
  {
   "cell_type": "code",
   "execution_count": 10,
   "id": "ac3126f5",
   "metadata": {},
   "outputs": [],
   "source": [
    "full[\"date\"] = pd.to_datetime(full.date)"
   ]
  },
  {
   "cell_type": "code",
   "execution_count": 29,
   "id": "2efdc57d",
   "metadata": {},
   "outputs": [
    {
     "data": {
      "text/plain": [
       "Not recommended    9633\n",
       "Good               9588\n",
       "Epic               9036\n",
       "Mediocre           3795\n",
       "Choppy              828\n",
       "Name: Conditions, dtype: int64"
      ]
     },
     "execution_count": 29,
     "metadata": {},
     "output_type": "execute_result"
    }
   ],
   "source": [
    "full.Conditions.value_counts()"
   ]
  },
  {
   "cell_type": "code",
   "execution_count": 22,
   "id": "28530500",
   "metadata": {},
   "outputs": [],
   "source": [
    "conditions_rank = {\n",
    "    'Epic':5, \n",
    "    'Good':4, \n",
    "    'Mediocre':3, \n",
    "    'Choppy':2,\n",
    "    'Not recommended':1\n",
    "}"
   ]
  },
  {
   "cell_type": "code",
   "execution_count": 27,
   "id": "3258961f",
   "metadata": {},
   "outputs": [],
   "source": [
    "full[\"Condition_ratings\"] = full.Conditions.map(conditions_rank)"
   ]
  },
  {
   "cell_type": "code",
   "execution_count": 42,
   "id": "854218ae",
   "metadata": {},
   "outputs": [],
   "source": [
    "def group_by (col):\n",
    "    full_prueba = full.groupby([\"date\",\"Spot\"])[f'{col}'].agg(\"mean\")\n",
    "    df1 = pd.DataFrame(full_prueba)\n",
    "    df1 = df1.reset_index()\n",
    "    return df1\n",
    "    "
   ]
  },
  {
   "cell_type": "code",
   "execution_count": 44,
   "id": "f665a305",
   "metadata": {},
   "outputs": [],
   "source": [
    "height = group_by(\"height_ft\")"
   ]
  },
  {
   "cell_type": "code",
   "execution_count": 49,
   "id": "87469411",
   "metadata": {},
   "outputs": [
    {
     "data": {
      "text/html": [
       "<div>\n",
       "<style scoped>\n",
       "    .dataframe tbody tr th:only-of-type {\n",
       "        vertical-align: middle;\n",
       "    }\n",
       "\n",
       "    .dataframe tbody tr th {\n",
       "        vertical-align: top;\n",
       "    }\n",
       "\n",
       "    .dataframe thead th {\n",
       "        text-align: right;\n",
       "    }\n",
       "</style>\n",
       "<table border=\"1\" class=\"dataframe\">\n",
       "  <thead>\n",
       "    <tr style=\"text-align: right;\">\n",
       "      <th></th>\n",
       "      <th>date</th>\n",
       "      <th>Spot</th>\n",
       "      <th>height_ft</th>\n",
       "    </tr>\n",
       "  </thead>\n",
       "  <tbody>\n",
       "    <tr>\n",
       "      <th>0</th>\n",
       "      <td>2018-01-01</td>\n",
       "      <td>Fronton</td>\n",
       "      <td>3.333333</td>\n",
       "    </tr>\n",
       "    <tr>\n",
       "      <th>1</th>\n",
       "      <td>2018-01-01</td>\n",
       "      <td>Itacoatiara</td>\n",
       "      <td>0.800000</td>\n",
       "    </tr>\n",
       "    <tr>\n",
       "      <th>2</th>\n",
       "      <td>2018-01-01</td>\n",
       "      <td>Mosca Point</td>\n",
       "      <td>3.666667</td>\n",
       "    </tr>\n",
       "    <tr>\n",
       "      <th>3</th>\n",
       "      <td>2018-01-01</td>\n",
       "      <td>Nazare</td>\n",
       "      <td>14.500000</td>\n",
       "    </tr>\n",
       "    <tr>\n",
       "      <th>4</th>\n",
       "      <td>2018-01-01</td>\n",
       "      <td>Padang-Padang</td>\n",
       "      <td>5.666667</td>\n",
       "    </tr>\n",
       "  </tbody>\n",
       "</table>\n",
       "</div>"
      ],
      "text/plain": [
       "        date           Spot  height_ft\n",
       "0 2018-01-01        Fronton   3.333333\n",
       "1 2018-01-01    Itacoatiara   0.800000\n",
       "2 2018-01-01    Mosca Point   3.666667\n",
       "3 2018-01-01         Nazare  14.500000\n",
       "4 2018-01-01  Padang-Padang   5.666667"
      ]
     },
     "execution_count": 49,
     "metadata": {},
     "output_type": "execute_result"
    }
   ],
   "source": [
    "height.head()"
   ]
  },
  {
   "cell_type": "code",
   "execution_count": 46,
   "id": "0d882e98",
   "metadata": {},
   "outputs": [],
   "source": [
    "wind_speed = group_by(\"wind_kmh\")"
   ]
  },
  {
   "cell_type": "code",
   "execution_count": 48,
   "id": "9bdca8eb",
   "metadata": {},
   "outputs": [
    {
     "data": {
      "text/html": [
       "<div>\n",
       "<style scoped>\n",
       "    .dataframe tbody tr th:only-of-type {\n",
       "        vertical-align: middle;\n",
       "    }\n",
       "\n",
       "    .dataframe tbody tr th {\n",
       "        vertical-align: top;\n",
       "    }\n",
       "\n",
       "    .dataframe thead th {\n",
       "        text-align: right;\n",
       "    }\n",
       "</style>\n",
       "<table border=\"1\" class=\"dataframe\">\n",
       "  <thead>\n",
       "    <tr style=\"text-align: right;\">\n",
       "      <th></th>\n",
       "      <th>date</th>\n",
       "      <th>Spot</th>\n",
       "      <th>wind_kmh</th>\n",
       "    </tr>\n",
       "  </thead>\n",
       "  <tbody>\n",
       "    <tr>\n",
       "      <th>0</th>\n",
       "      <td>2018-01-01</td>\n",
       "      <td>Fronton</td>\n",
       "      <td>19.666667</td>\n",
       "    </tr>\n",
       "    <tr>\n",
       "      <th>1</th>\n",
       "      <td>2018-01-01</td>\n",
       "      <td>Itacoatiara</td>\n",
       "      <td>9.666667</td>\n",
       "    </tr>\n",
       "    <tr>\n",
       "      <th>2</th>\n",
       "      <td>2018-01-01</td>\n",
       "      <td>Mosca Point</td>\n",
       "      <td>19.666667</td>\n",
       "    </tr>\n",
       "    <tr>\n",
       "      <th>3</th>\n",
       "      <td>2018-01-01</td>\n",
       "      <td>Nazare</td>\n",
       "      <td>8.666667</td>\n",
       "    </tr>\n",
       "    <tr>\n",
       "      <th>4</th>\n",
       "      <td>2018-01-01</td>\n",
       "      <td>Padang-Padang</td>\n",
       "      <td>12.333333</td>\n",
       "    </tr>\n",
       "  </tbody>\n",
       "</table>\n",
       "</div>"
      ],
      "text/plain": [
       "        date           Spot   wind_kmh\n",
       "0 2018-01-01        Fronton  19.666667\n",
       "1 2018-01-01    Itacoatiara   9.666667\n",
       "2 2018-01-01    Mosca Point  19.666667\n",
       "3 2018-01-01         Nazare   8.666667\n",
       "4 2018-01-01  Padang-Padang  12.333333"
      ]
     },
     "execution_count": 48,
     "metadata": {},
     "output_type": "execute_result"
    }
   ],
   "source": [
    "wind_speed.head()"
   ]
  },
  {
   "cell_type": "code",
   "execution_count": 50,
   "id": "e7048cbe",
   "metadata": {},
   "outputs": [],
   "source": [
    "rating = group_by(\"Condition_ratings\")"
   ]
  },
  {
   "cell_type": "code",
   "execution_count": 51,
   "id": "a80969a4",
   "metadata": {},
   "outputs": [
    {
     "data": {
      "text/html": [
       "<div>\n",
       "<style scoped>\n",
       "    .dataframe tbody tr th:only-of-type {\n",
       "        vertical-align: middle;\n",
       "    }\n",
       "\n",
       "    .dataframe tbody tr th {\n",
       "        vertical-align: top;\n",
       "    }\n",
       "\n",
       "    .dataframe thead th {\n",
       "        text-align: right;\n",
       "    }\n",
       "</style>\n",
       "<table border=\"1\" class=\"dataframe\">\n",
       "  <thead>\n",
       "    <tr style=\"text-align: right;\">\n",
       "      <th></th>\n",
       "      <th>date</th>\n",
       "      <th>Spot</th>\n",
       "      <th>Condition_ratings</th>\n",
       "    </tr>\n",
       "  </thead>\n",
       "  <tbody>\n",
       "    <tr>\n",
       "      <th>0</th>\n",
       "      <td>2018-01-01</td>\n",
       "      <td>Fronton</td>\n",
       "      <td>5.0</td>\n",
       "    </tr>\n",
       "    <tr>\n",
       "      <th>1</th>\n",
       "      <td>2018-01-01</td>\n",
       "      <td>Itacoatiara</td>\n",
       "      <td>1.0</td>\n",
       "    </tr>\n",
       "    <tr>\n",
       "      <th>2</th>\n",
       "      <td>2018-01-01</td>\n",
       "      <td>Mosca Point</td>\n",
       "      <td>5.0</td>\n",
       "    </tr>\n",
       "    <tr>\n",
       "      <th>3</th>\n",
       "      <td>2018-01-01</td>\n",
       "      <td>Nazare</td>\n",
       "      <td>4.0</td>\n",
       "    </tr>\n",
       "    <tr>\n",
       "      <th>4</th>\n",
       "      <td>2018-01-01</td>\n",
       "      <td>Padang-Padang</td>\n",
       "      <td>3.0</td>\n",
       "    </tr>\n",
       "  </tbody>\n",
       "</table>\n",
       "</div>"
      ],
      "text/plain": [
       "        date           Spot  Condition_ratings\n",
       "0 2018-01-01        Fronton                5.0\n",
       "1 2018-01-01    Itacoatiara                1.0\n",
       "2 2018-01-01    Mosca Point                5.0\n",
       "3 2018-01-01         Nazare                4.0\n",
       "4 2018-01-01  Padang-Padang                3.0"
      ]
     },
     "execution_count": 51,
     "metadata": {},
     "output_type": "execute_result"
    }
   ],
   "source": [
    "rating.head()"
   ]
  },
  {
   "cell_type": "code",
   "execution_count": 52,
   "id": "2c5d5fe5",
   "metadata": {},
   "outputs": [],
   "source": [
    "from statsmodels.tsa.stattools import adfuller"
   ]
  },
  {
   "cell_type": "code",
   "execution_count": 54,
   "id": "7bde6ab6",
   "metadata": {},
   "outputs": [
    {
     "data": {
      "text/plain": [
       "(-12.0357021851382,\n",
       " 2.8066770743884147e-22,\n",
       " 39,\n",
       " 10555,\n",
       " {'1%': -3.430969695978145,\n",
       "  '5%': -2.8618138703454576,\n",
       "  '10%': -2.5669157760426144},\n",
       " 47202.80708705075)"
      ]
     },
     "execution_count": 54,
     "metadata": {},
     "output_type": "execute_result"
    }
   ],
   "source": [
    "dickey_height = adfuller(height[\"height_ft\"])\n",
    "dickey_height"
   ]
  },
  {
   "cell_type": "code",
   "execution_count": 55,
   "id": "45e8bf29",
   "metadata": {},
   "outputs": [
    {
     "data": {
      "text/plain": [
       "(-11.767096491621826,\n",
       " 1.1123238916061825e-21,\n",
       " 39,\n",
       " 10555,\n",
       " {'1%': -3.430969695978145,\n",
       "  '5%': -2.8618138703454576,\n",
       "  '10%': -2.5669157760426144},\n",
       " 67831.33577937541)"
      ]
     },
     "execution_count": 55,
     "metadata": {},
     "output_type": "execute_result"
    }
   ],
   "source": [
    "dickey_wind = adfuller(wind_speed[\"wind_kmh\"])\n",
    "dickey_wind"
   ]
  },
  {
   "cell_type": "code",
   "execution_count": 63,
   "id": "c9cc9207",
   "metadata": {},
   "outputs": [
    {
     "data": {
      "text/plain": [
       "(-9.892108943382373,\n",
       " 3.535486258522491e-17,\n",
       " 39,\n",
       " 10555,\n",
       " {'1%': -3.430969695978145,\n",
       "  '5%': -2.8618138703454576,\n",
       "  '10%': -2.5669157760426144},\n",
       " 26799.743742309172)"
      ]
     },
     "execution_count": 63,
     "metadata": {},
     "output_type": "execute_result"
    }
   ],
   "source": [
    "dickey_condition= adfuller(rating[\"Condition_ratings\"])\n",
    "dickey_condition"
   ]
  },
  {
   "cell_type": "code",
   "execution_count": 65,
   "id": "0a3f4ff5",
   "metadata": {},
   "outputs": [],
   "source": [
    "adf, pvalue, usedlag, nobs, critical_values, icbest = dickey_height"
   ]
  },
  {
   "cell_type": "code",
   "execution_count": 66,
   "id": "e23b00c1",
   "metadata": {},
   "outputs": [
    {
     "data": {
      "text/plain": [
       "-12.0357021851382"
      ]
     },
     "execution_count": 66,
     "metadata": {},
     "output_type": "execute_result"
    }
   ],
   "source": [
    "adf"
   ]
  },
  {
   "cell_type": "code",
   "execution_count": 67,
   "id": "4c7f2db3",
   "metadata": {},
   "outputs": [
    {
     "data": {
      "text/plain": [
       "{'1%': -3.430969695978145,\n",
       " '5%': -2.8618138703454576,\n",
       " '10%': -2.5669157760426144}"
      ]
     },
     "execution_count": 67,
     "metadata": {},
     "output_type": "execute_result"
    }
   ],
   "source": [
    "critical_values"
   ]
  },
  {
   "cell_type": "code",
   "execution_count": 68,
   "id": "bcc88e25",
   "metadata": {},
   "outputs": [],
   "source": [
    "adf, pvalue, usedlag, nobs, critical_values, icbest = dickey_wind"
   ]
  },
  {
   "cell_type": "code",
   "execution_count": 69,
   "id": "b81aac96",
   "metadata": {},
   "outputs": [
    {
     "data": {
      "text/plain": [
       "-11.767096491621826"
      ]
     },
     "execution_count": 69,
     "metadata": {},
     "output_type": "execute_result"
    }
   ],
   "source": [
    "adf"
   ]
  },
  {
   "cell_type": "code",
   "execution_count": 70,
   "id": "71b34364",
   "metadata": {},
   "outputs": [
    {
     "data": {
      "text/plain": [
       "{'1%': -3.430969695978145,\n",
       " '5%': -2.8618138703454576,\n",
       " '10%': -2.5669157760426144}"
      ]
     },
     "execution_count": 70,
     "metadata": {},
     "output_type": "execute_result"
    }
   ],
   "source": [
    "critical_values"
   ]
  },
  {
   "cell_type": "code",
   "execution_count": 71,
   "id": "b6dad01a",
   "metadata": {},
   "outputs": [],
   "source": [
    "adf, pvalue, usedlag, nobs, critical_values, icbest = dickey_condition"
   ]
  },
  {
   "cell_type": "code",
   "execution_count": 72,
   "id": "c630de3d",
   "metadata": {},
   "outputs": [
    {
     "data": {
      "text/plain": [
       "-9.892108943382373"
      ]
     },
     "execution_count": 72,
     "metadata": {},
     "output_type": "execute_result"
    }
   ],
   "source": [
    "adf"
   ]
  },
  {
   "cell_type": "code",
   "execution_count": 73,
   "id": "fac393a6",
   "metadata": {},
   "outputs": [
    {
     "data": {
      "text/plain": [
       "{'1%': -3.430969695978145,\n",
       " '5%': -2.8618138703454576,\n",
       " '10%': -2.5669157760426144}"
      ]
     },
     "execution_count": 73,
     "metadata": {},
     "output_type": "execute_result"
    }
   ],
   "source": [
    "critical_values"
   ]
  }
 ],
 "metadata": {
  "kernelspec": {
   "display_name": "Python 3 (ipykernel)",
   "language": "python",
   "name": "python3"
  },
  "language_info": {
   "codemirror_mode": {
    "name": "ipython",
    "version": 3
   },
   "file_extension": ".py",
   "mimetype": "text/x-python",
   "name": "python",
   "nbconvert_exporter": "python",
   "pygments_lexer": "ipython3",
   "version": "3.8.10"
  }
 },
 "nbformat": 4,
 "nbformat_minor": 5
}
