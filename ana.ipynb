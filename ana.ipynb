{
 "cells": [
  {
   "cell_type": "markdown",
   "id": "d5c95567",
   "metadata": {},
   "source": [
    "**Vamos a hacer un ARMA porque tenemos datos estacionarios**"
   ]
  },
  {
   "cell_type": "markdown",
   "id": "701fed44",
   "metadata": {},
   "source": [
    "```python\n",
    "import statsmodels.tsa.api as smt\n",
    "import statsmodels.api as sm\n",
    "from statsmodels.tsa.seasonal import seasonal_decompose, STL\n",
    "from statsmodels.tsa.arima_model import ARIMA\n",
    "from statsmodels.tsa.stattools import acf\n",
    "```"
   ]
  },
  {
   "cell_type": "markdown",
   "id": "fbea828f",
   "metadata": {},
   "source": [
    "1º Testar estacionaridad  \n",
    "\n",
    "2º Sacar la autocorrelación y la Autocorrelacion parcial para sacar los parámetros que usaremos en el modelo\n",
    "\n",
    "3º Parámetros\n",
    "\n",
    "p el numero de lags que vamos a usar para contruir nuestro modelo   \n",
    "q el numero de \"retards\" que vamos a incluir en nuestro modelo  \n",
    "d el numero de diferenciaciones que tenemos en nuestro modelo. En nuestro caso esto no lo tenemos que incluir porque nuestros datos son estacionarios. Al no tener que modificalos para que lo sean este valor será = 0"
   ]
  },
  {
   "cell_type": "markdown",
   "id": "55dd5136",
   "metadata": {},
   "source": [
    "```python\n",
    "plot_acf(TUDF[\"LACOLUMNAAPREDECIR\"],  ax=ax[0]);\n",
    "plot_pacf(TUDF[\"LACOLUMNAAPREDECIR\"], ax=ax[1]);\n",
    "````"
   ]
  },
  {
   "cell_type": "markdown",
   "id": "78819b85",
   "metadata": {},
   "source": [
    "4º Ajustamos el modelo:\n",
    "\n",
    "```python\n",
    "#iniciamos el modelo\n",
    "orders = (2,1) # esto dependerá de lo que nos salga en las columnas anteriores\n",
    "model = tsa.ARMA(sensor['LACOLUMNA A PREDECIR'], order = orders)\n",
    "model;\n",
    "\n",
    "#fiteamos el modelo\n",
    "arma = model.fit()\n",
    "print(arma.summary())\n",
    "````"
   ]
  },
  {
   "cell_type": "markdown",
   "id": "6da5012b",
   "metadata": {},
   "source": [
    "5º Validación del modelo\n",
    "```python\n",
    "arma.plot_predict(dynamic=False)\n",
    "plt.show()\n",
    "\n",
    "\n",
    "\n",
    "# Forecast\n",
    "fc, se, conf = arma.forecast(12, alpha=0.05)  # 95% conf 12 será los meses que quieres predecir\n",
    "\n",
    "# Make as pandas series\n",
    "fc_series = pd.Series(fc, index=dispo_test.index)\n",
    "lower_series = pd.Series(conf[:, 0], index=dispo_test.index)\n",
    "upper_series = pd.Series(conf[:, 1], index=dispo_test.index)\n",
    "\n",
    "# Plot\n",
    "plt.figure(figsize=(12,5), dpi=100)\n",
    "plt.plot(dispo_train, label='training')\n",
    "plt.plot(dispo_test, label='actual')\n",
    "plt.plot(fc_series, label='forecast')\n",
    "plt.fill_between(lower_series.index, lower_series, upper_series, \n",
    "                 color='k', alpha=.15)\n",
    "plt.title('Forecast vs Actuals')\n",
    "plt.legend(loc='upper left', fontsize=8)\n",
    "plt.show()\n",
    "```"
   ]
  },
  {
   "cell_type": "code",
   "execution_count": null,
   "id": "e9f47d59",
   "metadata": {},
   "outputs": [],
   "source": []
  }
 ],
 "metadata": {
  "kernelspec": {
   "display_name": "Python 3 (ipykernel)",
   "language": "python",
   "name": "python3"
  },
  "language_info": {
   "codemirror_mode": {
    "name": "ipython",
    "version": 3
   },
   "file_extension": ".py",
   "mimetype": "text/x-python",
   "name": "python",
   "nbconvert_exporter": "python",
   "pygments_lexer": "ipython3",
   "version": "3.8.10"
  },
  "toc": {
   "base_numbering": 1,
   "nav_menu": {},
   "number_sections": true,
   "sideBar": true,
   "skip_h1_title": false,
   "title_cell": "Table of Contents",
   "title_sidebar": "Contents",
   "toc_cell": false,
   "toc_position": {},
   "toc_section_display": true,
   "toc_window_display": false
  }
 },
 "nbformat": 4,
 "nbformat_minor": 5
}
