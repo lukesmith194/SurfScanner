{
 "cells": [
  {
   "cell_type": "code",
   "execution_count": 51,
   "id": "7dee6f40",
   "metadata": {},
   "outputs": [],
   "source": [
    "from selenium import webdriver\n",
    "from time import sleep\n",
    "from selenium.webdriver.common.action_chains import ActionChains\n",
    "from selenium.webdriver.common.keys import Keys"
   ]
  },
  {
   "cell_type": "code",
   "execution_count": 63,
   "id": "ff154896",
   "metadata": {},
   "outputs": [],
   "source": [
    "dic = {\n",
    "    \"Nazare-Surf-Report\":194,\n",
    "    \"Pipeline-Backdoor-Surf-Report\":616,\n",
    "    \"Mundaka-Surf-Report\": 169,\n",
    "    \"El-Fronton-Surf-Report\":1879,\n",
    "    \"The-Box-Surf-Report\":2873,\n",
    "    \"Puerto-Escondido-Surf-Report\":340,\n",
    "    \"Itacoatiara-Surf-Report\":1273,\n",
    "    \"Padang-Padang-Surf-Report\":1121,\n",
    "    \"Kirra-Surf-Report\":528\n",
    "       \n",
    "}"
   ]
  },
  {
   "cell_type": "code",
   "execution_count": 72,
   "id": "6598469e",
   "metadata": {},
   "outputs": [],
   "source": [
    "lista = [(\"2020-01-01\",\"2020-01-20\"),(\"2020-01-20\",\"2020-02-08\"),(\"2020-02-09\",\"2020-02-28\"),(\"2020-02-29\",\"2020-03-19\"),(\"2020-03-20\",\"2020-04-08\"),(\"2020-04-09\",\"2020-04-28\"),(\"2020-04-29\",\"2020-05-18\"),(\"2020-05-19\",\"2020-06-07\"),(\"2020-06-08\",\"2020-06-27\"),(\"2020-06-28\",\"2020-07-17\"),(\"2020-07-18\",\"2020-08-07\"),(\"2020-08-08\",\"2020-08-27\"),(\"2020-08-28\",\"2020-09-16\"),(\"2020-09-17\",\"2020-10-06\"),(\"2020-10-07\",\"2020-10-26\"),(\"2020-10-27\",\"2020-11-15\"),(\"2020-11-16\",\"2020-12-05\"),(\"2020-12-06\",\"2020-12-25\"),(\"2020-12-26\",\"2020-12-31\")]"
   ]
  },
  {
   "cell_type": "code",
   "execution_count": 115,
   "id": "fc6ac494",
   "metadata": {},
   "outputs": [],
   "source": [
    "def extract(spot,code):\n",
    "    info = []\n",
    "    wave_dir = []\n",
    "    wind_dir = []\n",
    "    driver = webdriver.Chrome(\"./chromedriver.exe\")\n",
    "    driver.get(\"https://magicseaweed.com/account/login/?dest=%2F\")\n",
    "    sleep(2)\n",
    "    driver.find_element_by_css_selector(\"#msw-js-user-login-tab > form > div:nth-child(2) > input\").send_keys(\"lukesmith194@hotmail.com\")\n",
    "    driver.find_element_by_css_selector(\"#msw-js-user-login-tab > form > div:nth-child(3) > input\").send_keys(\"Versus.123\")\n",
    "    sleep(1)\n",
    "    driver.find_element_by_css_selector(\"#msw-js-login\").click()\n",
    "    sleep(2)\n",
    "    for i in lista:\n",
    "        for tbody in range(2,33):\n",
    "            for tr in range(2,10,2):\n",
    "                driver.get(f\"https://magicseaweed.com/{spot}/{code}/Historic/?start={i[0]}&end={i[1]}\")\n",
    "                text = driver.find_element_by_css_selector(\"#msw-js-fc\").text\n",
    "                sleep(2)\n",
    "                arrows_wave =driver.find_element_by_css_selector (f\"#msw-js-fc > div.table-responsive-xs > table > tbody:nth-child({tbody}) > tr:nth-child({tr}) > td.text-center.msw-js-tooltip.background-gray-lighter > i.svg-icon.svg-swell-icon.svg-swell-icon-dark\").get_attribute(\"style\")\n",
    "                info.append(text)\n",
    "                wave_dir.append(arrows_wave)\n",
    "    driver.quit()\n",
    "\n",
    "    return info,wave_dir,wind_dir\n"
   ]
  },
  {
   "cell_type": "code",
   "execution_count": 116,
   "id": "99ab99d4",
   "metadata": {},
   "outputs": [
    {
     "ename": "NoSuchElementException",
     "evalue": "Message: no such element: Unable to locate element: {\"method\":\"css selector\",\"selector\":\"#msw-js-fc > div.table-responsive-xs > table > tbody:nth-child(1) > tr:nth-child(2) > td.text-center.msw-js-tooltip.background-gray-lighter > i.svg-icon.svg-swell-icon.svg-swell-icon-dark\"}\n  (Session info: chrome=94.0.4606.61)\n",
     "output_type": "error",
     "traceback": [
      "\u001b[0;31m---------------------------------------------------------------------------\u001b[0m",
      "\u001b[0;31mNoSuchElementException\u001b[0m                    Traceback (most recent call last)",
      "\u001b[0;32m/tmp/ipykernel_205/430195238.py\u001b[0m in \u001b[0;36m<module>\u001b[0;34m\u001b[0m\n\u001b[0;32m----> 1\u001b[0;31m \u001b[0mnazare\u001b[0m\u001b[0;34m,\u001b[0m \u001b[0marrows_wave\u001b[0m\u001b[0;34m,\u001b[0m\u001b[0marrow_wind\u001b[0m \u001b[0;34m=\u001b[0m \u001b[0mextract\u001b[0m\u001b[0;34m(\u001b[0m\u001b[0;34m\"Nazare-Surf-Report\"\u001b[0m\u001b[0;34m,\u001b[0m\u001b[0;36m194\u001b[0m\u001b[0;34m)\u001b[0m\u001b[0;34m\u001b[0m\u001b[0;34m\u001b[0m\u001b[0m\n\u001b[0m",
      "\u001b[0;32m/tmp/ipykernel_205/1604809843.py\u001b[0m in \u001b[0;36mextract\u001b[0;34m(spot, code)\u001b[0m\n\u001b[1;32m     17\u001b[0m                 \u001b[0mtext\u001b[0m \u001b[0;34m=\u001b[0m \u001b[0mdriver\u001b[0m\u001b[0;34m.\u001b[0m\u001b[0mfind_element_by_css_selector\u001b[0m\u001b[0;34m(\u001b[0m\u001b[0;34m\"#msw-js-fc\"\u001b[0m\u001b[0;34m)\u001b[0m\u001b[0;34m.\u001b[0m\u001b[0mtext\u001b[0m\u001b[0;34m\u001b[0m\u001b[0;34m\u001b[0m\u001b[0m\n\u001b[1;32m     18\u001b[0m                 \u001b[0msleep\u001b[0m\u001b[0;34m(\u001b[0m\u001b[0;36m2\u001b[0m\u001b[0;34m)\u001b[0m\u001b[0;34m\u001b[0m\u001b[0;34m\u001b[0m\u001b[0m\n\u001b[0;32m---> 19\u001b[0;31m                 \u001b[0marrows_wave\u001b[0m \u001b[0;34m=\u001b[0m\u001b[0mdriver\u001b[0m\u001b[0;34m.\u001b[0m\u001b[0mfind_element_by_css_selector\u001b[0m \u001b[0;34m(\u001b[0m\u001b[0;34mf\"#msw-js-fc > div.table-responsive-xs > table > tbody:nth-child({tbody}) > tr:nth-child({tr}) > td.text-center.msw-js-tooltip.background-gray-lighter > i.svg-icon.svg-swell-icon.svg-swell-icon-dark\"\u001b[0m\u001b[0;34m)\u001b[0m\u001b[0;34m.\u001b[0m\u001b[0mget_attribute\u001b[0m\u001b[0;34m(\u001b[0m\u001b[0;34m\"style\"\u001b[0m\u001b[0;34m)\u001b[0m\u001b[0;34m\u001b[0m\u001b[0;34m\u001b[0m\u001b[0m\n\u001b[0m\u001b[1;32m     20\u001b[0m                 \u001b[0minfo\u001b[0m\u001b[0;34m.\u001b[0m\u001b[0mappend\u001b[0m\u001b[0;34m(\u001b[0m\u001b[0mtext\u001b[0m\u001b[0;34m)\u001b[0m\u001b[0;34m\u001b[0m\u001b[0;34m\u001b[0m\u001b[0m\n\u001b[1;32m     21\u001b[0m                 \u001b[0mwave_dir\u001b[0m\u001b[0;34m.\u001b[0m\u001b[0mappend\u001b[0m\u001b[0;34m(\u001b[0m\u001b[0marrows_wave\u001b[0m\u001b[0;34m)\u001b[0m\u001b[0;34m\u001b[0m\u001b[0;34m\u001b[0m\u001b[0m\n",
      "\u001b[0;32m~/.local/lib/python3.8/site-packages/selenium/webdriver/remote/webdriver.py\u001b[0m in \u001b[0;36mfind_element_by_css_selector\u001b[0;34m(self, css_selector)\u001b[0m\n\u001b[1;32m    596\u001b[0m             \u001b[0melement\u001b[0m \u001b[0;34m=\u001b[0m \u001b[0mdriver\u001b[0m\u001b[0;34m.\u001b[0m\u001b[0mfind_element_by_css_selector\u001b[0m\u001b[0;34m(\u001b[0m\u001b[0;34m'#foo'\u001b[0m\u001b[0;34m)\u001b[0m\u001b[0;34m\u001b[0m\u001b[0;34m\u001b[0m\u001b[0m\n\u001b[1;32m    597\u001b[0m         \"\"\"\n\u001b[0;32m--> 598\u001b[0;31m         \u001b[0;32mreturn\u001b[0m \u001b[0mself\u001b[0m\u001b[0;34m.\u001b[0m\u001b[0mfind_element\u001b[0m\u001b[0;34m(\u001b[0m\u001b[0mby\u001b[0m\u001b[0;34m=\u001b[0m\u001b[0mBy\u001b[0m\u001b[0;34m.\u001b[0m\u001b[0mCSS_SELECTOR\u001b[0m\u001b[0;34m,\u001b[0m \u001b[0mvalue\u001b[0m\u001b[0;34m=\u001b[0m\u001b[0mcss_selector\u001b[0m\u001b[0;34m)\u001b[0m\u001b[0;34m\u001b[0m\u001b[0;34m\u001b[0m\u001b[0m\n\u001b[0m\u001b[1;32m    599\u001b[0m \u001b[0;34m\u001b[0m\u001b[0m\n\u001b[1;32m    600\u001b[0m     \u001b[0;32mdef\u001b[0m \u001b[0mfind_elements_by_css_selector\u001b[0m\u001b[0;34m(\u001b[0m\u001b[0mself\u001b[0m\u001b[0;34m,\u001b[0m \u001b[0mcss_selector\u001b[0m\u001b[0;34m)\u001b[0m\u001b[0;34m:\u001b[0m\u001b[0;34m\u001b[0m\u001b[0;34m\u001b[0m\u001b[0m\n",
      "\u001b[0;32m~/.local/lib/python3.8/site-packages/selenium/webdriver/remote/webdriver.py\u001b[0m in \u001b[0;36mfind_element\u001b[0;34m(self, by, value)\u001b[0m\n\u001b[1;32m    974\u001b[0m                 \u001b[0mby\u001b[0m \u001b[0;34m=\u001b[0m \u001b[0mBy\u001b[0m\u001b[0;34m.\u001b[0m\u001b[0mCSS_SELECTOR\u001b[0m\u001b[0;34m\u001b[0m\u001b[0;34m\u001b[0m\u001b[0m\n\u001b[1;32m    975\u001b[0m                 \u001b[0mvalue\u001b[0m \u001b[0;34m=\u001b[0m \u001b[0;34m'[name=\"%s\"]'\u001b[0m \u001b[0;34m%\u001b[0m \u001b[0mvalue\u001b[0m\u001b[0;34m\u001b[0m\u001b[0;34m\u001b[0m\u001b[0m\n\u001b[0;32m--> 976\u001b[0;31m         return self.execute(Command.FIND_ELEMENT, {\n\u001b[0m\u001b[1;32m    977\u001b[0m             \u001b[0;34m'using'\u001b[0m\u001b[0;34m:\u001b[0m \u001b[0mby\u001b[0m\u001b[0;34m,\u001b[0m\u001b[0;34m\u001b[0m\u001b[0;34m\u001b[0m\u001b[0m\n\u001b[1;32m    978\u001b[0m             'value': value})['value']\n",
      "\u001b[0;32m~/.local/lib/python3.8/site-packages/selenium/webdriver/remote/webdriver.py\u001b[0m in \u001b[0;36mexecute\u001b[0;34m(self, driver_command, params)\u001b[0m\n\u001b[1;32m    319\u001b[0m         \u001b[0mresponse\u001b[0m \u001b[0;34m=\u001b[0m \u001b[0mself\u001b[0m\u001b[0;34m.\u001b[0m\u001b[0mcommand_executor\u001b[0m\u001b[0;34m.\u001b[0m\u001b[0mexecute\u001b[0m\u001b[0;34m(\u001b[0m\u001b[0mdriver_command\u001b[0m\u001b[0;34m,\u001b[0m \u001b[0mparams\u001b[0m\u001b[0;34m)\u001b[0m\u001b[0;34m\u001b[0m\u001b[0;34m\u001b[0m\u001b[0m\n\u001b[1;32m    320\u001b[0m         \u001b[0;32mif\u001b[0m \u001b[0mresponse\u001b[0m\u001b[0;34m:\u001b[0m\u001b[0;34m\u001b[0m\u001b[0;34m\u001b[0m\u001b[0m\n\u001b[0;32m--> 321\u001b[0;31m             \u001b[0mself\u001b[0m\u001b[0;34m.\u001b[0m\u001b[0merror_handler\u001b[0m\u001b[0;34m.\u001b[0m\u001b[0mcheck_response\u001b[0m\u001b[0;34m(\u001b[0m\u001b[0mresponse\u001b[0m\u001b[0;34m)\u001b[0m\u001b[0;34m\u001b[0m\u001b[0;34m\u001b[0m\u001b[0m\n\u001b[0m\u001b[1;32m    322\u001b[0m             response['value'] = self._unwrap_value(\n\u001b[1;32m    323\u001b[0m                 response.get('value', None))\n",
      "\u001b[0;32m~/.local/lib/python3.8/site-packages/selenium/webdriver/remote/errorhandler.py\u001b[0m in \u001b[0;36mcheck_response\u001b[0;34m(self, response)\u001b[0m\n\u001b[1;32m    240\u001b[0m                 \u001b[0malert_text\u001b[0m \u001b[0;34m=\u001b[0m \u001b[0mvalue\u001b[0m\u001b[0;34m[\u001b[0m\u001b[0;34m'alert'\u001b[0m\u001b[0;34m]\u001b[0m\u001b[0;34m.\u001b[0m\u001b[0mget\u001b[0m\u001b[0;34m(\u001b[0m\u001b[0;34m'text'\u001b[0m\u001b[0;34m)\u001b[0m\u001b[0;34m\u001b[0m\u001b[0;34m\u001b[0m\u001b[0m\n\u001b[1;32m    241\u001b[0m             \u001b[0;32mraise\u001b[0m \u001b[0mexception_class\u001b[0m\u001b[0;34m(\u001b[0m\u001b[0mmessage\u001b[0m\u001b[0;34m,\u001b[0m \u001b[0mscreen\u001b[0m\u001b[0;34m,\u001b[0m \u001b[0mstacktrace\u001b[0m\u001b[0;34m,\u001b[0m \u001b[0malert_text\u001b[0m\u001b[0;34m)\u001b[0m\u001b[0;34m\u001b[0m\u001b[0;34m\u001b[0m\u001b[0m\n\u001b[0;32m--> 242\u001b[0;31m         \u001b[0;32mraise\u001b[0m \u001b[0mexception_class\u001b[0m\u001b[0;34m(\u001b[0m\u001b[0mmessage\u001b[0m\u001b[0;34m,\u001b[0m \u001b[0mscreen\u001b[0m\u001b[0;34m,\u001b[0m \u001b[0mstacktrace\u001b[0m\u001b[0;34m)\u001b[0m\u001b[0;34m\u001b[0m\u001b[0;34m\u001b[0m\u001b[0m\n\u001b[0m\u001b[1;32m    243\u001b[0m \u001b[0;34m\u001b[0m\u001b[0m\n\u001b[1;32m    244\u001b[0m     \u001b[0;32mdef\u001b[0m \u001b[0m_value_or_default\u001b[0m\u001b[0;34m(\u001b[0m\u001b[0mself\u001b[0m\u001b[0;34m,\u001b[0m \u001b[0mobj\u001b[0m\u001b[0;34m,\u001b[0m \u001b[0mkey\u001b[0m\u001b[0;34m,\u001b[0m \u001b[0mdefault\u001b[0m\u001b[0;34m)\u001b[0m\u001b[0;34m:\u001b[0m\u001b[0;34m\u001b[0m\u001b[0;34m\u001b[0m\u001b[0m\n",
      "\u001b[0;31mNoSuchElementException\u001b[0m: Message: no such element: Unable to locate element: {\"method\":\"css selector\",\"selector\":\"#msw-js-fc > div.table-responsive-xs > table > tbody:nth-child(1) > tr:nth-child(2) > td.text-center.msw-js-tooltip.background-gray-lighter > i.svg-icon.svg-swell-icon.svg-swell-icon-dark\"}\n  (Session info: chrome=94.0.4606.61)\n"
     ]
    }
   ],
   "source": [
    "nazare, arrows_wave,arrow_wind = extract(\"Nazare-Surf-Report\",194)"
   ]
  },
  {
   "cell_type": "code",
   "execution_count": null,
   "id": "d01cafd2",
   "metadata": {},
   "outputs": [],
   "source": [
    "#msw-js-fc > div.table-responsive-xs > table > tbody:nth-child(2) > tr:nth-child(2) > td.text-center.msw-js-tooltip.background-gray-lighter > i.svg-icon.svg-swell-icon.svg-swell-icon-dark"
   ]
  }
 ],
 "metadata": {
  "kernelspec": {
   "display_name": "Python 3 (ipykernel)",
   "language": "python",
   "name": "python3"
  },
  "language_info": {
   "codemirror_mode": {
    "name": "ipython",
    "version": 3
   },
   "file_extension": ".py",
   "mimetype": "text/x-python",
   "name": "python",
   "nbconvert_exporter": "python",
   "pygments_lexer": "ipython3",
   "version": "3.8.10"
  }
 },
 "nbformat": 4,
 "nbformat_minor": 5
}
