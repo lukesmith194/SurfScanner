{
 "cells": [
  {
   "cell_type": "code",
   "execution_count": null,
   "id": "5700f9fb",
   "metadata": {},
   "outputs": [],
   "source": [
    "def extract(spot,code):\n",
    "    info = []\n",
    "    wave_dir = []\n",
    "    wind_dir = []\n",
    "    login()\n",
    "    for i in d2:\n",
    "        get_date_web(dd, spot)\n",
    "        print(i,\"hello\")\n",
    "        text = driver.find_element_by_css_selector(\"#msw-js-fc\").text\n",
    "        for tbody in range(2,33):\n",
    "            print(tbody)\n",
    "            for tr in range(4,10,2):\n",
    "                print(tr)\n",
    "                try:\n",
    "                    \n",
    "                    sleep(2)\n",
    "                    arrows_wave = (WebDriverWait(driver, 20).until(EC.visibility_of_element_located((By.CSS_SELECTOR, f\"#msw-js-fc > div.table-responsive-xs > table > tbody:nth-child({tbody}) > tr:nth-child({tr}) > td.text-center.msw-js-tooltip.background-gray-lighter\"))).get_attribute(\"data-original-title\"))\n",
    "                    sleep(2)\n",
    "                    arrows_wind = (WebDriverWait(driver, 20).until(EC.visibility_of_element_located((By.CSS_SELECTOR, f\"#msw-js-fc > div.table-responsive-xs > table > tbody:nth-child({tbody}) > tr:nth-child({tr}) > td.text-center.last.msw-js-tooltip.td-square.background-success\"))).get_attribute(\"data-original-title\"))\n",
    "                    sleep(2)\n",
    "                    info.append(text)\n",
    "                    wave_dir.append(arrows_wave)\n",
    "                    wind_dir.append(arrows_wind)\n",
    "                except Exception as err:\n",
    "                    print(\"this is my exception\", err)\n",
    "    driver.quit()\n",
    "    return info,wave_dir,wind_dir\n"
   ]
  },
  {
   "cell_type": "code",
   "execution_count": 1,
   "id": "7dee6f40",
   "metadata": {},
   "outputs": [],
   "source": [
    "from selenium import webdriver\n",
    "from time import sleep\n",
    "from selenium.webdriver.common.action_chains import ActionChains\n",
    "from selenium.webdriver.common.keys import Keys\n",
    "import pandas as pd\n",
    "from selenium.webdriver.support import expected_conditions as EC\n",
    "from selenium.webdriver.support.ui import WebDriverWait\n",
    "from selenium.webdriver.common.by import By\n",
    "from selenium.common.exceptions import TimeoutException"
   ]
  },
  {
   "cell_type": "code",
   "execution_count": 2,
   "id": "5d2642bd",
   "metadata": {},
   "outputs": [],
   "source": [
    "dic = {\n",
    "    \"Nazare-Surf-Report\":194,\n",
    "    \"Pipeline-Backdoor-Surf-Report\":616,\n",
    "    \"Mundaka-Surf-Report\": 169,\n",
    "    \"El-Fronton-Surf-Report\":1879,\n",
    "    \"The-Box-Surf-Report\":2873,\n",
    "    \"Puerto-Escondido-Surf-Report\":340,\n",
    "    \"Itacoatiara-Surf-Report\":1273,\n",
    "    \"Padang-Padang-Surf-Report\":1121,\n",
    "    \"Kirra-Surf-Report\":528\n",
    "       \n",
    "}"
   ]
  },
  {
   "cell_type": "code",
   "execution_count": 3,
   "id": "37518fc5",
   "metadata": {},
   "outputs": [],
   "source": [
    "driver = None"
   ]
  },
  {
   "cell_type": "code",
   "execution_count": 4,
   "id": "754f33dc",
   "metadata": {},
   "outputs": [],
   "source": [
    "def login():\n",
    "    global driver\n",
    "    \n",
    "    driver = webdriver.Chrome(\"./chromedriver.exe\")\n",
    "    driver.get(\"https://magicseaweed.com/account/login/?dest=%2F\")\n",
    "    sleep(2)\n",
    "    driver.find_element_by_css_selector(\"#msw-js-user-login-tab > form > div:nth-child(2) > input\").send_keys(\"lukesmith194@hotmail.com\")\n",
    "    driver.find_element_by_css_selector(\"#msw-js-user-login-tab > form > div:nth-child(3) > input\").send_keys(\"Versus.123\")\n",
    "    sleep(1)\n",
    "    driver.find_element_by_css_selector(\"#msw-js-login\").click()\n",
    "    sleep(2)\n",
    "\n",
    "    "
   ]
  },
  {
   "cell_type": "code",
   "execution_count": 29,
   "id": "c0fd510e",
   "metadata": {},
   "outputs": [],
   "source": [
    "def get_date_web(date, spot):\n",
    "    code = dic[spot]\n",
    "    driver.get(f\"https://magicseaweed.com/{spot}/{code}/Historic/?start={date[0][0]}&end={date[0][1]}\")\n",
    "    sleep(2)"
   ]
  },
  {
   "cell_type": "code",
   "execution_count": 17,
   "id": "bfddc00f",
   "metadata": {},
   "outputs": [],
   "source": [
    "d2 = [(\"2020-01-01\",\"2020-01-31\"),(\"2020-02-01\",\"2020-02-29\"),(\"2020-03-01\",\"2020-03-31\"),(\"2020-04-01\",\"2020-04-30\"),(\"2020-05-01\",\"2020-05-31\"),(\"2020-06-01\",\"2020-06-30\"),(\"2020-07-01\",\"2020-07-31\"),(\"2020-08-01\",\"2020-08-31\"),(\"2020-09-01\",\"2020-09-30\"),(\"2020-10-01\",\"2020-10-31\"),(\"2020-11-01\",\"2020-11-30\"),(\"2020-12-01\",\"2020-12-31\")]"
   ]
  },
  {
   "cell_type": "code",
   "execution_count": 12,
   "id": "bbbd837b",
   "metadata": {},
   "outputs": [],
   "source": [
    "dd = [(\"2020-01-01\",\"2020-01-31\")]"
   ]
  },
  {
   "cell_type": "code",
   "execution_count": 121,
   "id": "8aefab68",
   "metadata": {},
   "outputs": [],
   "source": [
    "dates_20day = [(\"2020-01-01\",\"2020-01-20\"),(\"2020-01-21\",\"2020-02-09\"),(\"2020-02-10\",\"2020-02-29\"),(\"2020-03-01\",\"2020-03-20\"),(\"2020-03-21\",\"2020-04-09\"),(\"2020-04-10\",\"2020-04-29\"),(\"2020-04-30\",\"2020-05-19\"),(\"2020-05-20\",\"2020-06-08\"),(\"2020-06-09\",\"2020-06-28\"),(\"2020-06-29\",\"2020-07-18\"),(\"2020-07-19\",\"2020-08-07\"),(\"2020-08-08\",\"2020-08-27\"),(\"2020-08-28\",\"2020-09-16\"),(\"2020-09-17\",\"2020-10-06\"),(\"2020-10-07\",\"2020-10-26\"),(\"2020-10-27\",\"2020-11-15\"),(\"2020-11-16\",\"2020-12-05\"),(\"2020-12-06\",\"2020-12-25\")]"
   ]
  },
  {
   "cell_type": "code",
   "execution_count": 32,
   "id": "3924e6fa",
   "metadata": {},
   "outputs": [],
   "source": [
    "d = [(\"2020-01-01\",\"2020-01-20\")]"
   ]
  },
  {
   "cell_type": "code",
   "execution_count": 28,
   "id": "c96c8d85",
   "metadata": {},
   "outputs": [
    {
     "data": {
      "text/plain": [
       "'2020-01-01'"
      ]
     },
     "execution_count": 28,
     "metadata": {},
     "output_type": "execute_result"
    }
   ],
   "source": [
    "d[0][0]"
   ]
  },
  {
   "cell_type": "code",
   "execution_count": null,
   "id": "c5a34391",
   "metadata": {},
   "outputs": [],
   "source": [
    "get_date_web(d, 'Nazare-Surf-Report')"
   ]
  },
  {
   "cell_type": "markdown",
   "id": "dc6eecf6",
   "metadata": {},
   "source": [
    "### pruebas"
   ]
  },
  {
   "cell_type": "code",
   "execution_count": null,
   "id": "d31215cf",
   "metadata": {},
   "outputs": [],
   "source": [
    "def ex(spot,code):\n",
    "    info = []\n",
    "    wave_dir = []\n",
    "    wind_dir = []\n",
    "    login()\n",
    "\n",
    "    sleep(2)\n",
    "    for i in d2:\n",
    "        get_date_web(date, spot)\n",
    "\n",
    "               \n",
    "    driver.quit()\n",
    "    return info,wave_dir,wind_dir\n"
   ]
  },
  {
   "cell_type": "code",
   "execution_count": null,
   "id": "95334116",
   "metadata": {},
   "outputs": [],
   "source": [
    "def ex2(spot,code):\n",
    "    info = []\n",
    "    wave_dir = []\n",
    "    wind_dir = []\n",
    "    login()\n",
    "    \n",
    "    for i in dd:\n",
    "        get_date_web(dd, spot)\n",
    "        print(i)\n",
    "        text = driver.find_element_by_css_selector(\"#msw-js-fc > div.table-responsive-xs > table\").text\n",
    "        \"\"\"for tbody in range(32,33):\n",
    "            print(tbody)\n",
    "            sleep(2)\n",
    "            for tr in range(4,10,2):\n",
    "                sleep(2)\n",
    "                print(tr)\n",
    "                sleep(2)        \"\"\"  \n",
    "        \n",
    "        info.append(text)\n",
    "        \n",
    "    driver.quit()\n",
    "    return info\n"
   ]
  },
  {
   "cell_type": "code",
   "execution_count": null,
   "id": "36c929c4",
   "metadata": {},
   "outputs": [],
   "source": [
    "text = driver.find_element_by_css_selector(\"#msw-js-fc\").text"
   ]
  },
  {
   "cell_type": "code",
   "execution_count": null,
   "id": "8f670e8e",
   "metadata": {},
   "outputs": [],
   "source": []
  },
  {
   "cell_type": "markdown",
   "id": "e85dc355",
   "metadata": {},
   "source": [
    "### SACAR FLECHA OLEAJE "
   ]
  },
  {
   "cell_type": "code",
   "execution_count": 65,
   "id": "74ca636d",
   "metadata": {},
   "outputs": [],
   "source": [
    "login()"
   ]
  },
  {
   "cell_type": "code",
   "execution_count": 66,
   "id": "4272fa54",
   "metadata": {},
   "outputs": [],
   "source": [
    "get_date_web(d, list(dic.keys())[0])"
   ]
  },
  {
   "cell_type": "code",
   "execution_count": 67,
   "id": "56fedad4",
   "metadata": {},
   "outputs": [],
   "source": [
    "us = driver.find_elements_by_css_selector(\"table > tbody > tr > td:nth-child(6)\") "
   ]
  },
  {
   "cell_type": "code",
   "execution_count": 86,
   "id": "2c2f6164",
   "metadata": {},
   "outputs": [],
   "source": [
    "def get_arrow_props(arrow_td):\n",
    "    text = arrow_td.get_attribute(\"data-original-title\")\n",
    "    \n",
    "    try:\n",
    "        direction, angle = text.split(\" - \")\n",
    "        angle = int(angle[:-1])\n",
    "    \n",
    "        return direction, angle\n",
    "    \n",
    "    except:\n",
    "        return None"
   ]
  },
  {
   "cell_type": "code",
   "execution_count": 69,
   "id": "b4b6396b",
   "metadata": {},
   "outputs": [],
   "source": [
    "def correct_index_waves():\n",
    "    good_indices = []\n",
    "\n",
    "    for day in range(0, 21):\n",
    "        index_start = day * 8\n",
    "\n",
    "        for hora in (2, 4, 6):\n",
    "            index_real = index_start + hora\n",
    "\n",
    "            good_indices.append(index_real)\n",
    "    return good_indices"
   ]
  },
  {
   "cell_type": "code",
   "execution_count": 70,
   "id": "0eaf2d7f",
   "metadata": {},
   "outputs": [],
   "source": [
    "good_index = correct_index_waves()"
   ]
  },
  {
   "cell_type": "code",
   "execution_count": 71,
   "id": "79d8a9f8",
   "metadata": {},
   "outputs": [],
   "source": [
    "all_props = [get_arrow_props(u) for i, u in enumerate(us) if i in good_index]"
   ]
  },
  {
   "cell_type": "code",
   "execution_count": 72,
   "id": "5c3fc65a",
   "metadata": {},
   "outputs": [
    {
     "data": {
      "text/plain": [
       "60"
      ]
     },
     "execution_count": 72,
     "metadata": {},
     "output_type": "execute_result"
    }
   ],
   "source": [
    "len(all_props)"
   ]
  },
  {
   "cell_type": "code",
   "execution_count": 74,
   "id": "5f21b453",
   "metadata": {},
   "outputs": [],
   "source": [
    "#all_props"
   ]
  },
  {
   "cell_type": "markdown",
   "id": "9c577f5f",
   "metadata": {},
   "source": [
    "### SACAR VALOR VIENTO"
   ]
  },
  {
   "cell_type": "code",
   "execution_count": 106,
   "id": "094bce59",
   "metadata": {},
   "outputs": [],
   "source": [
    "login()"
   ]
  },
  {
   "cell_type": "code",
   "execution_count": 107,
   "id": "ebbffa11",
   "metadata": {},
   "outputs": [],
   "source": [
    "get_date_web(d, list(dic.keys())[0])"
   ]
  },
  {
   "cell_type": "code",
   "execution_count": 108,
   "id": "fe555999",
   "metadata": {},
   "outputs": [],
   "source": [
    "us2 = driver.find_elements_by_css_selector(\"table > tbody > tr > td:nth-child(14)\") "
   ]
  },
  {
   "cell_type": "code",
   "execution_count": 115,
   "id": "abf1a35e",
   "metadata": {},
   "outputs": [],
   "source": [
    "def get_arrow_props2(arrow_td):\n",
    "    text = arrow_td.get_attribute(\"data-original-title\")\n",
    "    \n",
    "    try:\n",
    "        direction, angle = text.split(\" - \")\n",
    "        angle = int(angle[:-1])\n",
    "    \n",
    "        return direction, angle\n",
    "    \n",
    "    except:\n",
    "        print(text)\n",
    "        return None"
   ]
  },
  {
   "cell_type": "code",
   "execution_count": 116,
   "id": "3d70e5c3",
   "metadata": {},
   "outputs": [],
   "source": [
    "def correct_index_waves2():\n",
    "    good_indices = []\n",
    "\n",
    "    for day in range(0, 21):\n",
    "        index_start = day * 8\n",
    "\n",
    "        for hora in (2, 4, 6):\n",
    "            index_real = index_start + hora\n",
    "\n",
    "            good_indices.append(index_real)\n",
    "    return good_indices"
   ]
  },
  {
   "cell_type": "code",
   "execution_count": 117,
   "id": "cf562a12",
   "metadata": {},
   "outputs": [],
   "source": [
    "good_index2 = correct_index_waves2()"
   ]
  },
  {
   "cell_type": "code",
   "execution_count": 118,
   "id": "39d73d31",
   "metadata": {},
   "outputs": [
    {
     "name": "stdout",
     "output_type": "stream",
     "text": [
      "None\n",
      "None\n",
      "None\n",
      "None\n",
      "None\n",
      "None\n",
      "None\n",
      "None\n",
      "None\n",
      "None\n",
      "None\n",
      "None\n",
      "None\n",
      "None\n",
      "None\n",
      "None\n",
      "None\n",
      "None\n",
      "None\n",
      "None\n",
      "None\n",
      "None\n",
      "None\n",
      "None\n",
      "None\n",
      "None\n"
     ]
    }
   ],
   "source": [
    "all_props2 = [get_arrow_props2(u) for i, u in enumerate(us2) if i in good_index]"
   ]
  },
  {
   "cell_type": "code",
   "execution_count": 119,
   "id": "90d64bd0",
   "metadata": {},
   "outputs": [
    {
     "data": {
      "text/plain": [
       "36"
      ]
     },
     "execution_count": 119,
     "metadata": {},
     "output_type": "execute_result"
    }
   ],
   "source": [
    "len(all_props2)"
   ]
  },
  {
   "cell_type": "code",
   "execution_count": 120,
   "id": "92dd25e1",
   "metadata": {},
   "outputs": [
    {
     "data": {
      "text/plain": [
       "[None,\n",
       " ('Light, Offshore SE', 144),\n",
       " ('Very Light, Offshore S', 171),\n",
       " ('Light, Offshore SE', 129),\n",
       " ('Gentle, Offshore SSE', 156),\n",
       " ('Light, Offshore SE', 128),\n",
       " None,\n",
       " None,\n",
       " None,\n",
       " ('Very Light, Onshore NNW', 327),\n",
       " ('Very Light, Offshore E', 101),\n",
       " ('Very Light, Offshore ESE', 122),\n",
       " ('Light, Cross/Offshore NE', 37),\n",
       " None,\n",
       " None,\n",
       " None,\n",
       " None,\n",
       " None,\n",
       " None,\n",
       " None,\n",
       " None,\n",
       " None,\n",
       " None,\n",
       " None,\n",
       " None,\n",
       " None,\n",
       " None,\n",
       " None,\n",
       " None,\n",
       " None,\n",
       " None,\n",
       " None,\n",
       " None,\n",
       " None,\n",
       " None,\n",
       " ('Moderate, Offshore NE', 54)]"
      ]
     },
     "execution_count": 120,
     "metadata": {},
     "output_type": "execute_result"
    }
   ],
   "source": [
    "all_props2"
   ]
  },
  {
   "cell_type": "code",
   "execution_count": null,
   "id": "eeacc574",
   "metadata": {},
   "outputs": [],
   "source": []
  },
  {
   "cell_type": "code",
   "execution_count": null,
   "id": "fc6ce26c",
   "metadata": {},
   "outputs": [],
   "source": []
  },
  {
   "cell_type": "code",
   "execution_count": null,
   "id": "1536b423",
   "metadata": {
    "scrolled": true
   },
   "outputs": [],
   "source": [
    "nazare = ex2(\"Nazare-Surf-Report\",194)"
   ]
  },
  {
   "cell_type": "code",
   "execution_count": null,
   "id": "e77283a5",
   "metadata": {},
   "outputs": [],
   "source": [
    "nazare"
   ]
  },
  {
   "cell_type": "code",
   "execution_count": null,
   "id": "7b24acd3",
   "metadata": {},
   "outputs": [],
   "source": [
    "def extract_data(spot,code):\n",
    "    info = []\n",
    "    wave_dir = []\n",
    "    wind_dir = []\n",
    "    driver = webdriver.Chrome(\"./chromedriver.exe\")\n",
    "    driver.get(\"https://magicseaweed.com/account/login/?dest=%2F\")\n",
    "    sleep(2)\n",
    "    driver.find_element_by_css_selector(\"#msw-js-user-login-tab > form > div:nth-child(2) > input\").send_keys(\"lukesmith194@hotmail.com\")\n",
    "    driver.find_element_by_css_selector(\"#msw-js-user-login-tab > form > div:nth-child(3) > input\").send_keys(\"Versus.123\")\n",
    "    sleep(1)\n",
    "    driver.find_element_by_css_selector(\"#msw-js-login\").click()\n",
    "    sleep(2)\n",
    "    for i in lista:\n",
    "        driver.get(f\"https://magicseaweed.com/{spot}/{code}/Historic/?start={i[0]}&end={i[1]}\")\n",
    "        data = driver.find_element_by_css_selector(\"#msw-js-fc\").text\n",
    "        print(i)\n",
    "        info.append(data)\n",
    "    driver.quit()\n",
    "    return info"
   ]
  },
  {
   "cell_type": "code",
   "execution_count": null,
   "id": "f7f16eb2",
   "metadata": {},
   "outputs": [],
   "source": [
    "nazare = extract_data(\"Nazare-Surf-Report\",194)"
   ]
  },
  {
   "cell_type": "code",
   "execution_count": 122,
   "id": "46773332",
   "metadata": {},
   "outputs": [
    {
     "ename": "NameError",
     "evalue": "name 'nazare' is not defined",
     "output_type": "error",
     "traceback": [
      "\u001b[0;31m---------------------------------------------------------------------------\u001b[0m",
      "\u001b[0;31mNameError\u001b[0m                                 Traceback (most recent call last)",
      "\u001b[0;32m/tmp/ipykernel_328/4080546861.py\u001b[0m in \u001b[0;36m<module>\u001b[0;34m\u001b[0m\n\u001b[0;32m----> 1\u001b[0;31m \u001b[0mnazare\u001b[0m\u001b[0;34m\u001b[0m\u001b[0;34m\u001b[0m\u001b[0m\n\u001b[0m",
      "\u001b[0;31mNameError\u001b[0m: name 'nazare' is not defined"
     ]
    }
   ],
   "source": [
    "nazare"
   ]
  },
  {
   "cell_type": "code",
   "execution_count": null,
   "id": "c024f6b0",
   "metadata": {},
   "outputs": [],
   "source": [
    "nazare_clean = nazare.replace(\"�\",\"E\")"
   ]
  },
  {
   "cell_type": "code",
   "execution_count": null,
   "id": "f7c6b57f",
   "metadata": {},
   "outputs": [],
   "source": [
    "nazare0 = nazare[0].replace(\"�\",\"E\")"
   ]
  },
  {
   "cell_type": "code",
   "execution_count": null,
   "id": "4db1aff4",
   "metadata": {},
   "outputs": [],
   "source": [
    "nazare0 = nazare0.replace(\"SEBADO\",\"SABADO\")"
   ]
  },
  {
   "cell_type": "code",
   "execution_count": null,
   "id": "c1515db9",
   "metadata": {},
   "outputs": [],
   "source": [
    "nazare0"
   ]
  },
  {
   "cell_type": "code",
   "execution_count": null,
   "id": "d9eab630",
   "metadata": {},
   "outputs": [],
   "source": [
    "type(nazare0)"
   ]
  },
  {
   "cell_type": "code",
   "execution_count": null,
   "id": "3bc6fc28",
   "metadata": {},
   "outputs": [],
   "source": [
    "s = \"-\"\n",
    "s = s.join(x)"
   ]
  },
  {
   "cell_type": "code",
   "execution_count": null,
   "id": "67085cab",
   "metadata": {},
   "outputs": [],
   "source": [
    "s"
   ]
  },
  {
   "cell_type": "code",
   "execution_count": null,
   "id": "115576ac",
   "metadata": {},
   "outputs": [],
   "source": [
    "x.join"
   ]
  },
  {
   "cell_type": "code",
   "execution_count": null,
   "id": "ea49b026",
   "metadata": {},
   "outputs": [],
   "source": [
    "days = \"LUNES MARTES MIERCOLES JUEVES VIERNES SABADO DOMINGO\""
   ]
  },
  {
   "cell_type": "code",
   "execution_count": null,
   "id": "dc678550",
   "metadata": {},
   "outputs": [],
   "source": [
    "import re\n",
    "string = nazare0\n",
    "x = re.split('; |, |\\*|\\n',string) "
   ]
  },
  {
   "cell_type": "code",
   "execution_count": null,
   "id": "efd976dd",
   "metadata": {},
   "outputs": [],
   "source": [
    "len(x)"
   ]
  },
  {
   "cell_type": "code",
   "execution_count": null,
   "id": "bfea8c53",
   "metadata": {},
   "outputs": [],
   "source": [
    "def listToString(s): \n",
    "    \n",
    "    # initialize an empty string\n",
    "    str1 = \"\" \n",
    "    \n",
    "    # traverse in the string  \n",
    "    for ele in s: \n",
    "        str1 += ele  \n",
    "    \n",
    "    # return string  \n",
    "    return str1 "
   ]
  },
  {
   "cell_type": "code",
   "execution_count": null,
   "id": "197413d3",
   "metadata": {},
   "outputs": [],
   "source": [
    "p = listToString(x)"
   ]
  },
  {
   "cell_type": "code",
   "execution_count": null,
   "id": "3abfd402",
   "metadata": {},
   "outputs": [],
   "source": [
    "p"
   ]
  },
  {
   "cell_type": "code",
   "execution_count": null,
   "id": "d0a18f83",
   "metadata": {},
   "outputs": [],
   "source": [
    "x"
   ]
  },
  {
   "cell_type": "code",
   "execution_count": null,
   "id": "3d2bf1e3",
   "metadata": {},
   "outputs": [],
   "source": [
    "day_split = []\n",
    "for day in x:\n",
    "    print(day)\n",
    "    for d in days:\n",
    "        #print(d)\n",
    "        if d in day:\n",
    "            y = x.split(d)\n",
    "            day_split.append(y)\n",
    "            "
   ]
  },
  {
   "cell_type": "code",
   "execution_count": null,
   "id": "f882387f",
   "metadata": {},
   "outputs": [],
   "source": [
    "day_split"
   ]
  },
  {
   "cell_type": "code",
   "execution_count": null,
   "id": "12328cac",
   "metadata": {},
   "outputs": [],
   "source": [
    "type(p)"
   ]
  },
  {
   "cell_type": "code",
   "execution_count": null,
   "id": "633e8067",
   "metadata": {},
   "outputs": [],
   "source": []
  },
  {
   "cell_type": "code",
   "execution_count": null,
   "id": "17ce98f3",
   "metadata": {},
   "outputs": [],
   "source": []
  },
  {
   "cell_type": "code",
   "execution_count": null,
   "id": "85718063",
   "metadata": {},
   "outputs": [],
   "source": []
  },
  {
   "cell_type": "code",
   "execution_count": null,
   "id": "57da14bc",
   "metadata": {},
   "outputs": [],
   "source": []
  },
  {
   "cell_type": "code",
   "execution_count": null,
   "id": "e13ee9e1",
   "metadata": {},
   "outputs": [],
   "source": []
  },
  {
   "cell_type": "code",
   "execution_count": null,
   "id": "3bbae381",
   "metadata": {},
   "outputs": [],
   "source": []
  },
  {
   "cell_type": "code",
   "execution_count": null,
   "id": "d0c38050",
   "metadata": {},
   "outputs": [],
   "source": []
  },
  {
   "cell_type": "code",
   "execution_count": null,
   "id": "4c37de8a",
   "metadata": {},
   "outputs": [],
   "source": []
  },
  {
   "cell_type": "code",
   "execution_count": null,
   "id": "03c7ff6a",
   "metadata": {},
   "outputs": [],
   "source": []
  },
  {
   "cell_type": "code",
   "execution_count": null,
   "id": "cd13c911",
   "metadata": {},
   "outputs": [],
   "source": []
  },
  {
   "cell_type": "code",
   "execution_count": null,
   "id": "d001d28d",
   "metadata": {},
   "outputs": [],
   "source": []
  },
  {
   "cell_type": "code",
   "execution_count": null,
   "id": "a946710d",
   "metadata": {},
   "outputs": [],
   "source": []
  },
  {
   "cell_type": "markdown",
   "id": "74692233",
   "metadata": {},
   "source": [
    "### Sacar fila por fila datos"
   ]
  },
  {
   "cell_type": "code",
   "execution_count": null,
   "id": "d404d57d",
   "metadata": {},
   "outputs": [],
   "source": [
    "import re\n",
    "str = nazare\n",
    "if any(re.findall(\"\".join(days), str, re.IGNORECASE)):\n",
    "    nazare.split(days)\n",
    "else:\n",
    "    print(\"Not Found a match\")"
   ]
  },
  {
   "cell_type": "code",
   "execution_count": null,
   "id": "c8b6f41a",
   "metadata": {},
   "outputs": [],
   "source": [
    "nazare = nazare.replace(\"\\n\", \"    \")"
   ]
  },
  {
   "cell_type": "code",
   "execution_count": null,
   "id": "d10b7768",
   "metadata": {},
   "outputs": [],
   "source": [
    "x = x.replace(\"\\n\",\"    \")"
   ]
  },
  {
   "cell_type": "code",
   "execution_count": null,
   "id": "6daf8780",
   "metadata": {},
   "outputs": [],
   "source": [
    "prueba = [] \n",
    "import re\n",
    "\n",
    "lunes = re.findall(r\".+(LUNES.+)\",p)\n",
    "print(\"lunes\",list(lunes))\n",
    "martes = re.findall(\".+(MARTES.+)\",p)\n",
    "\n",
    "\n"
   ]
  },
  {
   "cell_type": "code",
   "execution_count": null,
   "id": "17133b28",
   "metadata": {},
   "outputs": [],
   "source": [
    "table = driver.find_element_by_css_selector(\"#msw-js-fc > div.table-responsive-xs > table\")\n",
    "\n",
    "table\n",
    "\n",
    "tablita = table.find_elements_by_tag_name(\"tbody\")[3]\n",
    "\n",
    "filas = tablita.find_elements_by_tag_name(\"tr\")\n",
    "\n",
    "filas = [filas[i] for i in (3, 5, 7)]\n",
    "\n",
    "filas[0].text\n",
    "\n",
    "fila = filas[0]\n",
    "def get_info_fila(filas[0]):\n",
    "    soklit noseque\n",
    "    \n",
    "    {\n",
    "        \"hora\":\n",
    "    }"
   ]
  }
 ],
 "metadata": {
  "kernelspec": {
   "display_name": "Python 3 (ipykernel)",
   "language": "python",
   "name": "python3"
  },
  "language_info": {
   "codemirror_mode": {
    "name": "ipython",
    "version": 3
   },
   "file_extension": ".py",
   "mimetype": "text/x-python",
   "name": "python",
   "nbconvert_exporter": "python",
   "pygments_lexer": "ipython3",
   "version": "3.8.10"
  }
 },
 "nbformat": 4,
 "nbformat_minor": 5
}
