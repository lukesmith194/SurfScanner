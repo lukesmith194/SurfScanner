{
 "cells": [
  {
   "cell_type": "code",
   "execution_count": 1,
   "id": "7dee6f40",
   "metadata": {},
   "outputs": [],
   "source": [
    "from selenium import webdriver\n",
    "from time import sleep\n",
    "from selenium.webdriver.common.action_chains import ActionChains\n",
    "from selenium.webdriver.common.keys import Keys\n",
    "import pandas as pd\n",
    "from selenium.webdriver.support import expected_conditions as EC\n",
    "from selenium.webdriver.support.ui import WebDriverWait\n",
    "from selenium.webdriver.common.by import By\n",
    "from selenium.common.exceptions import TimeoutException"
   ]
  },
  {
   "cell_type": "code",
   "execution_count": 2,
   "id": "5d2642bd",
   "metadata": {},
   "outputs": [],
   "source": [
    "dic = {\n",
    "    \"Nazare-Surf-Report\":194,\n",
    "    \"Pipeline-Backdoor-Surf-Report\":616,\n",
    "    \"Mundaka-Surf-Report\": 169,\n",
    "    \"El-Fronton-Surf-Report\":1879,\n",
    "    \"The-Box-Surf-Report\":2873,\n",
    "    \"Puerto-Escondido-Surf-Report\":340,\n",
    "    \"Itacoatiara-Surf-Report\":1273,\n",
    "    \"Padang-Padang-Surf-Report\":1121,\n",
    "    \"Kirra-Surf-Report\":528\n",
    "       \n",
    "}"
   ]
  },
  {
   "cell_type": "code",
   "execution_count": 3,
   "id": "28442f89",
   "metadata": {},
   "outputs": [],
   "source": [
    "def login():\n",
    "    driver = webdriver.Chrome(\"./chromedriver.exe\")\n",
    "    driver.get(\"https://magicseaweed.com/account/login/?dest=%2F\")\n",
    "    sleep(2)\n",
    "    driver.find_element_by_css_selector(\"#msw-js-user-login-tab > form > div:nth-child(2) > input\").send_keys(\"lukesmith194@hotmail.com\")\n",
    "    driver.find_element_by_css_selector(\"#msw-js-user-login-tab > form > div:nth-child(3) > input\").send_keys(\"Versus.123\")\n",
    "    sleep(1)\n",
    "    driver.find_element_by_css_selector(\"#msw-js-login\").click()\n",
    "    sleep(2)\n",
    "\n",
    "    return driver"
   ]
  },
  {
   "cell_type": "code",
   "execution_count": 4,
   "id": "a946710d",
   "metadata": {},
   "outputs": [],
   "source": [
    "ranges = [(\"2020-01-01\",\"2020-01-31\"),(\"2020-02-01\",\"2020-02-29\"),(\"2020-03-01\",\"2020-03-31\"),(\"2020-04-01\",\"2020-04-30\"),(\"2020-05-01\",\"2020-05-31\"),(\"2020-06-01\",\"2020-06-30\"),(\"2020-07-01\",\"2020-07-31\"),(\"2020-08-01\",\"2020-08-31\"),(\"2020-09-01\",\"2020-09-30\"),(\"2020-10-01\",\"2020-10-31\"),(\"2020-11-01\",\"2020-11-30\"),(\"2020-12-01\",\"2020-12-31\")]"
   ]
  },
  {
   "cell_type": "markdown",
   "id": "c1d71287",
   "metadata": {},
   "source": [
    "### Sacar fila por fila datos"
   ]
  },
  {
   "cell_type": "code",
   "execution_count": 5,
   "id": "a15ac337",
   "metadata": {},
   "outputs": [],
   "source": [
    "driver = login()"
   ]
  },
  {
   "cell_type": "code",
   "execution_count": 10,
   "id": "00239a88",
   "metadata": {},
   "outputs": [],
   "source": [
    "def get_arrow_value(fila):\n",
    "    col = fila.find_element_by_class_name(\"text-center.msw-js-tooltip.background-gray-lighter\").get_attribute(\"data-original-title\")\n",
    "    direction, angle = col.split(\" - \")\n",
    "    \n",
    "    angle = int(angle[:-1])\n",
    "    \n",
    "    return direction, angle"
   ]
  },
  {
   "cell_type": "code",
   "execution_count": 11,
   "id": "0886fee7",
   "metadata": {},
   "outputs": [],
   "source": [
    "def get_wind_value(fila):\n",
    "    try:\n",
    "        col = fila.find_element_by_class_name(\"text-center.last.msw-js-tooltip.td-square.background-success\").get_attribute(\"data-original-title\")\n",
    "    except:\n",
    "        try:\n",
    "            col = fila.find_element_by_class_name(\"text-center.last.msw-js-tooltip.td-square.background-warning\").get_attribute(\"data-original-title\")\n",
    "        except:\n",
    "            try:\n",
    "                col = fila.find_element_by_class_name(\"text-center.last.msw-js-tooltip.td-square.background-danger\").get_attribute(\"data-original-title\")\n",
    "            except:\n",
    "                return \"null\", \"null\", np.nan\n",
    "        \n",
    "    \n",
    "    text, angle = col.split(\" - \")\n",
    "\n",
    "    angle = int(angle[:-1])\n",
    "    _, text = text.split(\", \")\n",
    "\n",
    "    text, direction = text.split()\n",
    "\n",
    "    return text, direction, angle"
   ]
  },
  {
   "cell_type": "code",
   "execution_count": 12,
   "id": "053eb3b1",
   "metadata": {},
   "outputs": [],
   "source": [
    "def get_hora(fila):\n",
    "    elems = fila.text.split(\"\\n\")\n",
    "    elems = elems[0].split() + elems[1:]\n",
    "    \n",
    "    arrow = get_arrow_value(fila)\n",
    "    wind = get_wind_value(fila)\n",
    "    \n",
    "    elems = elems + list(arrow) + list(wind)\n",
    "    \n",
    "    return elems"
   ]
  },
  {
   "cell_type": "code",
   "execution_count": 13,
   "id": "84133bf7",
   "metadata": {},
   "outputs": [],
   "source": [
    "def get_dia(tabla):\n",
    "    filas = tabla.find_elements_by_tag_name(\"tr\")\n",
    "    dia = filas[0].text.split()[1]\n",
    "    \n",
    "    # 6am 12pm 6pm son filas 4, 6, 8\n",
    "    filas = filas[3:8:2]\n",
    "    \n",
    "    dias = [[dia] + get_hora(f) for f in filas]\n",
    "    \n",
    "    return dias"
   ]
  },
  {
   "cell_type": "code",
   "execution_count": 14,
   "id": "34e27215",
   "metadata": {},
   "outputs": [],
   "source": [
    "def get_range_dates(d, driver):\n",
    "    # d is a tuple of 2 elements (start_date, end_date)\n",
    "    # access webpage\n",
    "    driver.get(f\"https://magicseaweed.com/Nazare-Surf-Report/194/Historic/?start={d[0]}&end={d[1]}\")\n",
    "    sleep(2)\n",
    "    # extract 31 days' data\n",
    "    table = driver.find_element_by_css_selector(\"#msw-js-fc > div.table-responsive-xs > table\")\n",
    "\n",
    "    tablitas = table.find_elements_by_tag_name(\"tbody\")\n",
    "    tablitas = tablitas[::3]\n",
    "\n",
    "    mega_tabla = []\n",
    "\n",
    "    for t in tablitas:\n",
    "        dia = get_dia(t)\n",
    "        mega_tabla.extend(dia)\n",
    "        \n",
    "    return mega_tabla"
   ]
  },
  {
   "cell_type": "code",
   "execution_count": 15,
   "id": "db86e83f",
   "metadata": {},
   "outputs": [
    {
     "name": "stdout",
     "output_type": "stream",
     "text": [
      "Rango ('2020-01-01', '2020-01-31')...\n",
      "Rango ('2020-02-01', '2020-02-29')...\n",
      "Rango ('2020-03-01', '2020-03-31')...\n",
      "Rango ('2020-04-01', '2020-04-30')...\n",
      "Rango ('2020-05-01', '2020-05-31')...\n",
      "Rango ('2020-06-01', '2020-06-30')...\n",
      "Rango ('2020-07-01', '2020-07-31')...\n",
      "Rango ('2020-08-01', '2020-08-31')...\n",
      "Rango ('2020-09-01', '2020-09-30')...\n",
      "Rango ('2020-10-01', '2020-10-31')...\n",
      "Rango ('2020-11-01', '2020-11-30')...\n",
      "Rango ('2020-12-01', '2020-12-31')...\n"
     ]
    }
   ],
   "source": [
    "tabla_anio = []\n",
    "\n",
    "for r in ranges:\n",
    "    print(f\"Rango {r}...\")\n",
    "    driver.get(f\"https://magicseaweed.com/Nazare-Surf-Report/194/Historic/?start={r[0]}&end={r[1]}\")\n",
    "    \n",
    "    tabla_mes = get_range_dates(r, driver)\n",
    "    \n",
    "    tabla_anio.extend(tabla_mes)"
   ]
  },
  {
   "cell_type": "code",
   "execution_count": 16,
   "id": "da7f518a",
   "metadata": {},
   "outputs": [
    {
     "data": {
      "text/plain": [
       "3"
      ]
     },
     "execution_count": 16,
     "metadata": {},
     "output_type": "execute_result"
    }
   ],
   "source": [
    "3"
   ]
  },
  {
   "cell_type": "code",
   "execution_count": 17,
   "id": "2235f134",
   "metadata": {},
   "outputs": [],
   "source": [
    "df = pd.DataFrame(tabla_anio, columns=[\n",
    "    \"date\", \"time\", \"range\", \"height\", \"period\", \"wind_mph\", \"wind_kmh\", \"mph\", \"temp\", \"prob\",\n",
    "    \"swell_dir\", \"swell_angle\", \"wind\", \"wind_dir\", \"wind_angle\"\n",
    "])"
   ]
  },
  {
   "cell_type": "code",
   "execution_count": 18,
   "id": "f94b0bbb",
   "metadata": {},
   "outputs": [
    {
     "data": {
      "text/plain": [
       "(1098, 15)"
      ]
     },
     "execution_count": 18,
     "metadata": {},
     "output_type": "execute_result"
    }
   ],
   "source": [
    "df.shape"
   ]
  },
  {
   "cell_type": "code",
   "execution_count": 22,
   "id": "f4ec2313",
   "metadata": {},
   "outputs": [
    {
     "data": {
      "text/plain": [
       "NNW    267\n",
       "N      133\n",
       "NW     105\n",
       "SE      91\n",
       "ESE     75\n",
       "WNW     69\n",
       "SSE     58\n",
       "W       47\n",
       "S       41\n",
       "WSW     41\n",
       "NNE     36\n",
       "SSW     35\n",
       "E       33\n",
       "NE      26\n",
       "SW      25\n",
       "ENE     16\n",
       "Name: wind_dir, dtype: int64"
      ]
     },
     "execution_count": 22,
     "metadata": {},
     "output_type": "execute_result"
    }
   ],
   "source": [
    "df.wind_dir.value_counts()"
   ]
  },
  {
   "cell_type": "code",
   "execution_count": 23,
   "id": "578b76b6",
   "metadata": {},
   "outputs": [],
   "source": [
    "import seaborn as sns"
   ]
  },
  {
   "cell_type": "code",
   "execution_count": 24,
   "id": "205cbfcd",
   "metadata": {},
   "outputs": [
    {
     "data": {
      "text/plain": [
       "<AxesSubplot:xlabel='wind_angle', ylabel='Count'>"
      ]
     },
     "execution_count": 24,
     "metadata": {},
     "output_type": "execute_result"
    },
    {
     "data": {
      "image/png": "[encoded data removed]",
      "text/plain": [
       "<Figure size 432x288 with 1 Axes>"
      ]
     },
     "metadata": {
      "needs_background": "light"
     },
     "output_type": "display_data"
    }
   ],
   "source": [
    "sns.histplot(df.wind_angle)"
   ]
  },
  {
   "cell_type": "markdown",
   "id": "47a67e8d",
   "metadata": {},
   "source": [
    "### NAZARE"
   ]
  },
  {
   "cell_type": "code",
   "execution_count": 30,
   "id": "c3406ed5",
   "metadata": {},
   "outputs": [
    {
     "data": {
      "text/html": [
       "<div>\n",
       "<style scoped>\n",
       "    .dataframe tbody tr th:only-of-type {\n",
       "        vertical-align: middle;\n",
       "    }\n",
       "\n",
       "    .dataframe tbody tr th {\n",
       "        vertical-align: top;\n",
       "    }\n",
       "\n",
       "    .dataframe thead th {\n",
       "        text-align: right;\n",
       "    }\n",
       "</style>\n",
       "<table border=\"1\" class=\"dataframe\">\n",
       "  <thead>\n",
       "    <tr style=\"text-align: right;\">\n",
       "      <th></th>\n",
       "      <th>date</th>\n",
       "      <th>time</th>\n",
       "      <th>range</th>\n",
       "      <th>height</th>\n",
       "      <th>period</th>\n",
       "      <th>wind_mph</th>\n",
       "      <th>wind_kmh</th>\n",
       "      <th>mph</th>\n",
       "      <th>temp</th>\n",
       "      <th>prob</th>\n",
       "      <th>swell_dir</th>\n",
       "      <th>swell_angle</th>\n",
       "      <th>wind</th>\n",
       "      <th>wind_dir</th>\n",
       "      <th>wind_angle</th>\n",
       "    </tr>\n",
       "  </thead>\n",
       "  <tbody>\n",
       "    <tr>\n",
       "      <th>0</th>\n",
       "      <td>01/01</td>\n",
       "      <td>6am</td>\n",
       "      <td>7-11ft</td>\n",
       "      <td>5ft</td>\n",
       "      <td>11s</td>\n",
       "      <td>3</td>\n",
       "      <td>4</td>\n",
       "      <td>mph</td>\n",
       "      <td>6°c</td>\n",
       "      <td>100%</td>\n",
       "      <td>NW</td>\n",
       "      <td>306</td>\n",
       "      <td>Offshore</td>\n",
       "      <td>ESE</td>\n",
       "      <td>115</td>\n",
       "    </tr>\n",
       "    <tr>\n",
       "      <th>1</th>\n",
       "      <td>01/01</td>\n",
       "      <td>12pm</td>\n",
       "      <td>7-11ft</td>\n",
       "      <td>5ft</td>\n",
       "      <td>10s</td>\n",
       "      <td>4</td>\n",
       "      <td>6</td>\n",
       "      <td>mph</td>\n",
       "      <td>13°c</td>\n",
       "      <td>100%</td>\n",
       "      <td>NW</td>\n",
       "      <td>310</td>\n",
       "      <td>Offshore</td>\n",
       "      <td>SE</td>\n",
       "      <td>144</td>\n",
       "    </tr>\n",
       "    <tr>\n",
       "      <th>2</th>\n",
       "      <td>01/01</td>\n",
       "      <td>6pm</td>\n",
       "      <td>6-10ft</td>\n",
       "      <td>4.5ft</td>\n",
       "      <td>10s</td>\n",
       "      <td>1</td>\n",
       "      <td>1</td>\n",
       "      <td>mph</td>\n",
       "      <td>8°c</td>\n",
       "      <td>100%</td>\n",
       "      <td>NW</td>\n",
       "      <td>309</td>\n",
       "      <td>Offshore</td>\n",
       "      <td>S</td>\n",
       "      <td>171</td>\n",
       "    </tr>\n",
       "    <tr>\n",
       "      <th>3</th>\n",
       "      <td>02/01</td>\n",
       "      <td>6am</td>\n",
       "      <td>4-7ft</td>\n",
       "      <td>2.5ft</td>\n",
       "      <td>10s</td>\n",
       "      <td>5</td>\n",
       "      <td>6</td>\n",
       "      <td>mph</td>\n",
       "      <td>6°c</td>\n",
       "      <td>100%</td>\n",
       "      <td>NW</td>\n",
       "      <td>322</td>\n",
       "      <td>Offshore</td>\n",
       "      <td>SE</td>\n",
       "      <td>129</td>\n",
       "    </tr>\n",
       "    <tr>\n",
       "      <th>4</th>\n",
       "      <td>02/01</td>\n",
       "      <td>12pm</td>\n",
       "      <td>5-8ft</td>\n",
       "      <td>3ft</td>\n",
       "      <td>12s</td>\n",
       "      <td>6</td>\n",
       "      <td>9</td>\n",
       "      <td>mph</td>\n",
       "      <td>11°c</td>\n",
       "      <td>100%</td>\n",
       "      <td>W</td>\n",
       "      <td>276</td>\n",
       "      <td>Offshore</td>\n",
       "      <td>SSE</td>\n",
       "      <td>156</td>\n",
       "    </tr>\n",
       "  </tbody>\n",
       "</table>\n",
       "</div>"
      ],
      "text/plain": [
       "    date  time   range height period wind_mph wind_kmh  mph  temp  prob  \\\n",
       "0  01/01   6am  7-11ft    5ft    11s        3        4  mph   6°c  100%   \n",
       "1  01/01  12pm  7-11ft    5ft    10s        4        6  mph  13°c  100%   \n",
       "2  01/01   6pm  6-10ft  4.5ft    10s        1        1  mph   8°c  100%   \n",
       "3  02/01   6am   4-7ft  2.5ft    10s        5        6  mph   6°c  100%   \n",
       "4  02/01  12pm   5-8ft    3ft    12s        6        9  mph  11°c  100%   \n",
       "\n",
       "  swell_dir  swell_angle      wind wind_dir  wind_angle  \n",
       "0        NW          306  Offshore      ESE         115  \n",
       "1        NW          310  Offshore       SE         144  \n",
       "2        NW          309  Offshore        S         171  \n",
       "3        NW          322  Offshore       SE         129  \n",
       "4         W          276  Offshore      SSE         156  "
      ]
     },
     "execution_count": 30,
     "metadata": {},
     "output_type": "execute_result"
    }
   ],
   "source": [
    "df.head()"
   ]
  },
  {
   "cell_type": "code",
   "execution_count": 27,
   "id": "d2ae1379",
   "metadata": {},
   "outputs": [],
   "source": [
    "df.to_csv(\"firstdf.csv\", index=False)"
   ]
  },
  {
   "cell_type": "code",
   "execution_count": null,
   "id": "5fb59688",
   "metadata": {},
   "outputs": [],
   "source": []
  },
  {
   "cell_type": "code",
   "execution_count": null,
   "id": "937da3fe",
   "metadata": {},
   "outputs": [],
   "source": []
  }
 ],
 "metadata": {
  "kernelspec": {
   "display_name": "Python 3 (ipykernel)",
   "language": "python",
   "name": "python3"
  },
  "language_info": {
   "codemirror_mode": {
    "name": "ipython",
    "version": 3
   },
   "file_extension": ".py",
   "mimetype": "text/x-python",
   "name": "python",
   "nbconvert_exporter": "python",
   "pygments_lexer": "ipython3",
   "version": "3.8.10"
  }
 },
 "nbformat": 4,
 "nbformat_minor": 5
}
