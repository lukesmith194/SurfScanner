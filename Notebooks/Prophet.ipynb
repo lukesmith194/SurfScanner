{
 "cells": [
  {
   "cell_type": "code",
   "execution_count": 7,
   "id": "6856c7b9",
   "metadata": {},
   "outputs": [],
   "source": [
    "import pandas as pd\n",
    "from pylab import rcParams\n",
    "import statsmodels.api as sm\n",
    "import matplotlib.pyplot as plt\n",
    "from prophet import Prophet\n",
    "from datetime import datetime"
   ]
  },
  {
   "cell_type": "code",
   "execution_count": 8,
   "id": "75592430",
   "metadata": {},
   "outputs": [],
   "source": [
    "df_2020= pd.read_csv (r'full_2020.csv')\n",
    "df_2019 = pd.read_csv (r'full_2019.csv')\n",
    "df_2018 = pd.read_csv (r'full_2018.csv')"
   ]
  },
  {
   "cell_type": "code",
   "execution_count": 9,
   "id": "1b53db88",
   "metadata": {},
   "outputs": [],
   "source": [
    "full = pd.concat([df_2018,df_2019,df_2020], ignore_index=True)"
   ]
  },
  {
   "cell_type": "code",
   "execution_count": 10,
   "id": "b25158c8",
   "metadata": {},
   "outputs": [],
   "source": [
    "def group_by (col):\n",
    "    full_prueba = full.groupby([\"date\",\"Spot\"])[f'{col}'].agg(\"mean\")\n",
    "    df1 = pd.DataFrame(full_prueba)\n",
    "    df1 = df1.reset_index()\n",
    "    return df1\n",
    "    "
   ]
  },
  {
   "cell_type": "code",
   "execution_count": 11,
   "id": "b30c94d8",
   "metadata": {},
   "outputs": [],
   "source": [
    "height = group_by(\"height_ft\")"
   ]
  },
  {
   "cell_type": "code",
   "execution_count": 12,
   "id": "fc19efa2",
   "metadata": {},
   "outputs": [],
   "source": [
    "wind = group_by(\"wind_kmh\")"
   ]
  },
  {
   "cell_type": "code",
   "execution_count": 13,
   "id": "f80ee204",
   "metadata": {},
   "outputs": [
    {
     "data": {
      "text/html": [
       "<div>\n",
       "<style scoped>\n",
       "    .dataframe tbody tr th:only-of-type {\n",
       "        vertical-align: middle;\n",
       "    }\n",
       "\n",
       "    .dataframe tbody tr th {\n",
       "        vertical-align: top;\n",
       "    }\n",
       "\n",
       "    .dataframe thead th {\n",
       "        text-align: right;\n",
       "    }\n",
       "</style>\n",
       "<table border=\"1\" class=\"dataframe\">\n",
       "  <thead>\n",
       "    <tr style=\"text-align: right;\">\n",
       "      <th></th>\n",
       "      <th>date</th>\n",
       "      <th>Spot</th>\n",
       "      <th>height_ft</th>\n",
       "    </tr>\n",
       "  </thead>\n",
       "  <tbody>\n",
       "    <tr>\n",
       "      <th>0</th>\n",
       "      <td>2018-01-01</td>\n",
       "      <td>Fronton</td>\n",
       "      <td>3.333333</td>\n",
       "    </tr>\n",
       "    <tr>\n",
       "      <th>1</th>\n",
       "      <td>2018-01-01</td>\n",
       "      <td>Itacoatiara</td>\n",
       "      <td>0.800000</td>\n",
       "    </tr>\n",
       "    <tr>\n",
       "      <th>2</th>\n",
       "      <td>2018-01-01</td>\n",
       "      <td>Mosca Point</td>\n",
       "      <td>3.666667</td>\n",
       "    </tr>\n",
       "    <tr>\n",
       "      <th>3</th>\n",
       "      <td>2018-01-01</td>\n",
       "      <td>Nazare</td>\n",
       "      <td>14.500000</td>\n",
       "    </tr>\n",
       "    <tr>\n",
       "      <th>4</th>\n",
       "      <td>2018-01-01</td>\n",
       "      <td>Padang-Padang</td>\n",
       "      <td>5.666667</td>\n",
       "    </tr>\n",
       "  </tbody>\n",
       "</table>\n",
       "</div>"
      ],
      "text/plain": [
       "         date           Spot  height_ft\n",
       "0  2018-01-01        Fronton   3.333333\n",
       "1  2018-01-01    Itacoatiara   0.800000\n",
       "2  2018-01-01    Mosca Point   3.666667\n",
       "3  2018-01-01         Nazare  14.500000\n",
       "4  2018-01-01  Padang-Padang   5.666667"
      ]
     },
     "execution_count": 13,
     "metadata": {},
     "output_type": "execute_result"
    }
   ],
   "source": [
    "height.head()"
   ]
  },
  {
   "cell_type": "code",
   "execution_count": 14,
   "id": "99d4b0ea",
   "metadata": {},
   "outputs": [
    {
     "data": {
      "text/html": [
       "<div>\n",
       "<style scoped>\n",
       "    .dataframe tbody tr th:only-of-type {\n",
       "        vertical-align: middle;\n",
       "    }\n",
       "\n",
       "    .dataframe tbody tr th {\n",
       "        vertical-align: top;\n",
       "    }\n",
       "\n",
       "    .dataframe thead th {\n",
       "        text-align: right;\n",
       "    }\n",
       "</style>\n",
       "<table border=\"1\" class=\"dataframe\">\n",
       "  <thead>\n",
       "    <tr style=\"text-align: right;\">\n",
       "      <th></th>\n",
       "      <th>date</th>\n",
       "      <th>Spot</th>\n",
       "      <th>wind_kmh</th>\n",
       "    </tr>\n",
       "  </thead>\n",
       "  <tbody>\n",
       "    <tr>\n",
       "      <th>8663</th>\n",
       "      <td>2020-06-21</td>\n",
       "      <td>Tauro</td>\n",
       "      <td>15.000000</td>\n",
       "    </tr>\n",
       "    <tr>\n",
       "      <th>3128</th>\n",
       "      <td>2018-12-14</td>\n",
       "      <td>Pipeline</td>\n",
       "      <td>20.333333</td>\n",
       "    </tr>\n",
       "    <tr>\n",
       "      <th>1747</th>\n",
       "      <td>2018-07-14</td>\n",
       "      <td>Itacoatiara</td>\n",
       "      <td>6.666667</td>\n",
       "    </tr>\n",
       "    <tr>\n",
       "      <th>5111</th>\n",
       "      <td>2019-07-02</td>\n",
       "      <td>Pipeline</td>\n",
       "      <td>8.666667</td>\n",
       "    </tr>\n",
       "    <tr>\n",
       "      <th>6831</th>\n",
       "      <td>2019-12-21</td>\n",
       "      <td>Pipeline</td>\n",
       "      <td>35.666667</td>\n",
       "    </tr>\n",
       "    <tr>\n",
       "      <th>10502</th>\n",
       "      <td>2020-12-22</td>\n",
       "      <td>Puerto Escondido</td>\n",
       "      <td>5.333333</td>\n",
       "    </tr>\n",
       "    <tr>\n",
       "      <th>1222</th>\n",
       "      <td>2018-05-16</td>\n",
       "      <td>Tauro</td>\n",
       "      <td>22.333333</td>\n",
       "    </tr>\n",
       "    <tr>\n",
       "      <th>452</th>\n",
       "      <td>2018-02-20</td>\n",
       "      <td>Mosca Point</td>\n",
       "      <td>18.000000</td>\n",
       "    </tr>\n",
       "    <tr>\n",
       "      <th>1306</th>\n",
       "      <td>2018-05-26</td>\n",
       "      <td>Itacoatiara</td>\n",
       "      <td>13.333333</td>\n",
       "    </tr>\n",
       "    <tr>\n",
       "      <th>8951</th>\n",
       "      <td>2020-07-20</td>\n",
       "      <td>Pipeline</td>\n",
       "      <td>22.000000</td>\n",
       "    </tr>\n",
       "    <tr>\n",
       "      <th>1995</th>\n",
       "      <td>2018-08-10</td>\n",
       "      <td>Puerto Escondido</td>\n",
       "      <td>3.666667</td>\n",
       "    </tr>\n",
       "    <tr>\n",
       "      <th>5963</th>\n",
       "      <td>2019-09-25</td>\n",
       "      <td>Tauro</td>\n",
       "      <td>15.000000</td>\n",
       "    </tr>\n",
       "    <tr>\n",
       "      <th>4157</th>\n",
       "      <td>2019-03-29</td>\n",
       "      <td>Mosca Point</td>\n",
       "      <td>4.000000</td>\n",
       "    </tr>\n",
       "    <tr>\n",
       "      <th>2470</th>\n",
       "      <td>2018-10-02</td>\n",
       "      <td>Padang-Padang</td>\n",
       "      <td>7.333333</td>\n",
       "    </tr>\n",
       "    <tr>\n",
       "      <th>10048</th>\n",
       "      <td>2020-11-07</td>\n",
       "      <td>Mundaka</td>\n",
       "      <td>10.000000</td>\n",
       "    </tr>\n",
       "    <tr>\n",
       "      <th>2703</th>\n",
       "      <td>2018-10-28</td>\n",
       "      <td>Nazare</td>\n",
       "      <td>28.000000</td>\n",
       "    </tr>\n",
       "    <tr>\n",
       "      <th>1979</th>\n",
       "      <td>2018-08-08</td>\n",
       "      <td>The Box</td>\n",
       "      <td>35.666667</td>\n",
       "    </tr>\n",
       "    <tr>\n",
       "      <th>3960</th>\n",
       "      <td>2019-03-09</td>\n",
       "      <td>Padang-Padang</td>\n",
       "      <td>12.666667</td>\n",
       "    </tr>\n",
       "    <tr>\n",
       "      <th>8969</th>\n",
       "      <td>2020-07-22</td>\n",
       "      <td>Nazare</td>\n",
       "      <td>5.333333</td>\n",
       "    </tr>\n",
       "    <tr>\n",
       "      <th>6870</th>\n",
       "      <td>2019-12-25</td>\n",
       "      <td>Padang-Padang</td>\n",
       "      <td>7.333333</td>\n",
       "    </tr>\n",
       "  </tbody>\n",
       "</table>\n",
       "</div>"
      ],
      "text/plain": [
       "             date              Spot   wind_kmh\n",
       "8663   2020-06-21             Tauro  15.000000\n",
       "3128   2018-12-14          Pipeline  20.333333\n",
       "1747   2018-07-14       Itacoatiara   6.666667\n",
       "5111   2019-07-02          Pipeline   8.666667\n",
       "6831   2019-12-21          Pipeline  35.666667\n",
       "10502  2020-12-22  Puerto Escondido   5.333333\n",
       "1222   2018-05-16             Tauro  22.333333\n",
       "452    2018-02-20       Mosca Point  18.000000\n",
       "1306   2018-05-26       Itacoatiara  13.333333\n",
       "8951   2020-07-20          Pipeline  22.000000\n",
       "1995   2018-08-10  Puerto Escondido   3.666667\n",
       "5963   2019-09-25             Tauro  15.000000\n",
       "4157   2019-03-29       Mosca Point   4.000000\n",
       "2470   2018-10-02     Padang-Padang   7.333333\n",
       "10048  2020-11-07           Mundaka  10.000000\n",
       "2703   2018-10-28            Nazare  28.000000\n",
       "1979   2018-08-08           The Box  35.666667\n",
       "3960   2019-03-09     Padang-Padang  12.666667\n",
       "8969   2020-07-22            Nazare   5.333333\n",
       "6870   2019-12-25     Padang-Padang   7.333333"
      ]
     },
     "execution_count": 14,
     "metadata": {},
     "output_type": "execute_result"
    }
   ],
   "source": [
    "wind.sample(20)"
   ]
  },
  {
   "cell_type": "markdown",
   "id": "62adf0de",
   "metadata": {},
   "source": [
    "### Nazare"
   ]
  },
  {
   "cell_type": "code",
   "execution_count": 15,
   "id": "a001e800",
   "metadata": {},
   "outputs": [],
   "source": [
    "nazare_wave = height[height[\"Spot\"] == \"Nazare\"]"
   ]
  },
  {
   "cell_type": "code",
   "execution_count": 16,
   "id": "7508c7ed",
   "metadata": {},
   "outputs": [
    {
     "data": {
      "text/html": [
       "<div>\n",
       "<style scoped>\n",
       "    .dataframe tbody tr th:only-of-type {\n",
       "        vertical-align: middle;\n",
       "    }\n",
       "\n",
       "    .dataframe tbody tr th {\n",
       "        vertical-align: top;\n",
       "    }\n",
       "\n",
       "    .dataframe thead th {\n",
       "        text-align: right;\n",
       "    }\n",
       "</style>\n",
       "<table border=\"1\" class=\"dataframe\">\n",
       "  <thead>\n",
       "    <tr style=\"text-align: right;\">\n",
       "      <th></th>\n",
       "      <th>date</th>\n",
       "      <th>Spot</th>\n",
       "      <th>height_ft</th>\n",
       "    </tr>\n",
       "  </thead>\n",
       "  <tbody>\n",
       "    <tr>\n",
       "      <th>3</th>\n",
       "      <td>2018-01-01</td>\n",
       "      <td>Nazare</td>\n",
       "      <td>14.500000</td>\n",
       "    </tr>\n",
       "    <tr>\n",
       "      <th>12</th>\n",
       "      <td>2018-01-02</td>\n",
       "      <td>Nazare</td>\n",
       "      <td>6.833333</td>\n",
       "    </tr>\n",
       "    <tr>\n",
       "      <th>21</th>\n",
       "      <td>2018-01-03</td>\n",
       "      <td>Nazare</td>\n",
       "      <td>9.833333</td>\n",
       "    </tr>\n",
       "    <tr>\n",
       "      <th>30</th>\n",
       "      <td>2018-01-04</td>\n",
       "      <td>Nazare</td>\n",
       "      <td>4.666667</td>\n",
       "    </tr>\n",
       "    <tr>\n",
       "      <th>39</th>\n",
       "      <td>2018-01-05</td>\n",
       "      <td>Nazare</td>\n",
       "      <td>4.833333</td>\n",
       "    </tr>\n",
       "  </tbody>\n",
       "</table>\n",
       "</div>"
      ],
      "text/plain": [
       "          date    Spot  height_ft\n",
       "3   2018-01-01  Nazare  14.500000\n",
       "12  2018-01-02  Nazare   6.833333\n",
       "21  2018-01-03  Nazare   9.833333\n",
       "30  2018-01-04  Nazare   4.666667\n",
       "39  2018-01-05  Nazare   4.833333"
      ]
     },
     "execution_count": 16,
     "metadata": {},
     "output_type": "execute_result"
    }
   ],
   "source": [
    "nazare_wave.head()"
   ]
  },
  {
   "cell_type": "code",
   "execution_count": 17,
   "id": "86aac3ae",
   "metadata": {},
   "outputs": [
    {
     "name": "stderr",
     "output_type": "stream",
     "text": [
      "/home/lukesmith194/.local/lib/python3.8/site-packages/pandas/core/frame.py:4901: SettingWithCopyWarning: \n",
      "A value is trying to be set on a copy of a slice from a DataFrame\n",
      "\n",
      "See the caveats in the documentation: https://pandas.pydata.org/pandas-docs/stable/user_guide/indexing.html#returning-a-view-versus-a-copy\n",
      "  return super().drop(\n"
     ]
    }
   ],
   "source": [
    "nazare_wave.drop([\"Spot\"],axis=1,inplace = True)"
   ]
  },
  {
   "cell_type": "code",
   "execution_count": 18,
   "id": "fd3efdcf",
   "metadata": {},
   "outputs": [
    {
     "data": {
      "text/plain": [
       "date          object\n",
       "height_ft    float64\n",
       "dtype: object"
      ]
     },
     "execution_count": 18,
     "metadata": {},
     "output_type": "execute_result"
    }
   ],
   "source": [
    "nazare_wave.dtypes"
   ]
  },
  {
   "cell_type": "code",
   "execution_count": 19,
   "id": "b6dcc8aa",
   "metadata": {},
   "outputs": [
    {
     "name": "stderr",
     "output_type": "stream",
     "text": [
      "/tmp/ipykernel_255/3697921806.py:1: SettingWithCopyWarning: \n",
      "A value is trying to be set on a copy of a slice from a DataFrame.\n",
      "Try using .loc[row_indexer,col_indexer] = value instead\n",
      "\n",
      "See the caveats in the documentation: https://pandas.pydata.org/pandas-docs/stable/user_guide/indexing.html#returning-a-view-versus-a-copy\n",
      "  nazare_wave[\"date\"] = pd.to_datetime(nazare_wave.date)\n"
     ]
    }
   ],
   "source": [
    "nazare_wave[\"date\"] = pd.to_datetime(nazare_wave.date)"
   ]
  },
  {
   "cell_type": "code",
   "execution_count": 20,
   "id": "2b1953b0",
   "metadata": {},
   "outputs": [
    {
     "name": "stderr",
     "output_type": "stream",
     "text": [
      "/home/lukesmith194/.local/lib/python3.8/site-packages/pandas/core/frame.py:5034: SettingWithCopyWarning: \n",
      "A value is trying to be set on a copy of a slice from a DataFrame\n",
      "\n",
      "See the caveats in the documentation: https://pandas.pydata.org/pandas-docs/stable/user_guide/indexing.html#returning-a-view-versus-a-copy\n",
      "  return super().rename(\n"
     ]
    }
   ],
   "source": [
    "nazare_wave.rename(columns={\"date\": \"ds\", \"height_ft\": \"y\"},inplace = True)"
   ]
  },
  {
   "cell_type": "code",
   "execution_count": 21,
   "id": "8583bdf3",
   "metadata": {},
   "outputs": [],
   "source": [
    "nazare_wind = wind[wind[\"Spot\"] == \"Nazare\"]"
   ]
  },
  {
   "cell_type": "code",
   "execution_count": 22,
   "id": "f6e421f2",
   "metadata": {},
   "outputs": [
    {
     "data": {
      "text/html": [
       "<div>\n",
       "<style scoped>\n",
       "    .dataframe tbody tr th:only-of-type {\n",
       "        vertical-align: middle;\n",
       "    }\n",
       "\n",
       "    .dataframe tbody tr th {\n",
       "        vertical-align: top;\n",
       "    }\n",
       "\n",
       "    .dataframe thead th {\n",
       "        text-align: right;\n",
       "    }\n",
       "</style>\n",
       "<table border=\"1\" class=\"dataframe\">\n",
       "  <thead>\n",
       "    <tr style=\"text-align: right;\">\n",
       "      <th></th>\n",
       "      <th>date</th>\n",
       "      <th>Spot</th>\n",
       "      <th>wind_kmh</th>\n",
       "    </tr>\n",
       "  </thead>\n",
       "  <tbody>\n",
       "    <tr>\n",
       "      <th>3</th>\n",
       "      <td>2018-01-01</td>\n",
       "      <td>Nazare</td>\n",
       "      <td>8.666667</td>\n",
       "    </tr>\n",
       "    <tr>\n",
       "      <th>12</th>\n",
       "      <td>2018-01-02</td>\n",
       "      <td>Nazare</td>\n",
       "      <td>31.000000</td>\n",
       "    </tr>\n",
       "    <tr>\n",
       "      <th>21</th>\n",
       "      <td>2018-01-03</td>\n",
       "      <td>Nazare</td>\n",
       "      <td>29.000000</td>\n",
       "    </tr>\n",
       "    <tr>\n",
       "      <th>30</th>\n",
       "      <td>2018-01-04</td>\n",
       "      <td>Nazare</td>\n",
       "      <td>18.666667</td>\n",
       "    </tr>\n",
       "    <tr>\n",
       "      <th>39</th>\n",
       "      <td>2018-01-05</td>\n",
       "      <td>Nazare</td>\n",
       "      <td>17.000000</td>\n",
       "    </tr>\n",
       "    <tr>\n",
       "      <th>...</th>\n",
       "      <td>...</td>\n",
       "      <td>...</td>\n",
       "      <td>...</td>\n",
       "    </tr>\n",
       "    <tr>\n",
       "      <th>10549</th>\n",
       "      <td>2020-12-27</td>\n",
       "      <td>Nazare</td>\n",
       "      <td>12.000000</td>\n",
       "    </tr>\n",
       "    <tr>\n",
       "      <th>10559</th>\n",
       "      <td>2020-12-28</td>\n",
       "      <td>Nazare</td>\n",
       "      <td>22.333333</td>\n",
       "    </tr>\n",
       "    <tr>\n",
       "      <th>10569</th>\n",
       "      <td>2020-12-29</td>\n",
       "      <td>Nazare</td>\n",
       "      <td>23.666667</td>\n",
       "    </tr>\n",
       "    <tr>\n",
       "      <th>10579</th>\n",
       "      <td>2020-12-30</td>\n",
       "      <td>Nazare</td>\n",
       "      <td>5.000000</td>\n",
       "    </tr>\n",
       "    <tr>\n",
       "      <th>10589</th>\n",
       "      <td>2020-12-31</td>\n",
       "      <td>Nazare</td>\n",
       "      <td>17.333333</td>\n",
       "    </tr>\n",
       "  </tbody>\n",
       "</table>\n",
       "<p>1096 rows × 3 columns</p>\n",
       "</div>"
      ],
      "text/plain": [
       "             date    Spot   wind_kmh\n",
       "3      2018-01-01  Nazare   8.666667\n",
       "12     2018-01-02  Nazare  31.000000\n",
       "21     2018-01-03  Nazare  29.000000\n",
       "30     2018-01-04  Nazare  18.666667\n",
       "39     2018-01-05  Nazare  17.000000\n",
       "...           ...     ...        ...\n",
       "10549  2020-12-27  Nazare  12.000000\n",
       "10559  2020-12-28  Nazare  22.333333\n",
       "10569  2020-12-29  Nazare  23.666667\n",
       "10579  2020-12-30  Nazare   5.000000\n",
       "10589  2020-12-31  Nazare  17.333333\n",
       "\n",
       "[1096 rows x 3 columns]"
      ]
     },
     "execution_count": 22,
     "metadata": {},
     "output_type": "execute_result"
    }
   ],
   "source": [
    "nazare_wind"
   ]
  },
  {
   "cell_type": "code",
   "execution_count": 23,
   "id": "2a8dbc5e",
   "metadata": {},
   "outputs": [
    {
     "name": "stderr",
     "output_type": "stream",
     "text": [
      "/home/lukesmith194/.local/lib/python3.8/site-packages/pandas/core/frame.py:4901: SettingWithCopyWarning: \n",
      "A value is trying to be set on a copy of a slice from a DataFrame\n",
      "\n",
      "See the caveats in the documentation: https://pandas.pydata.org/pandas-docs/stable/user_guide/indexing.html#returning-a-view-versus-a-copy\n",
      "  return super().drop(\n"
     ]
    }
   ],
   "source": [
    "nazare_wind.drop([\"Spot\"],axis=1,inplace = True)"
   ]
  },
  {
   "cell_type": "code",
   "execution_count": 24,
   "id": "d7275368",
   "metadata": {},
   "outputs": [
    {
     "name": "stderr",
     "output_type": "stream",
     "text": [
      "/tmp/ipykernel_255/209562497.py:1: SettingWithCopyWarning: \n",
      "A value is trying to be set on a copy of a slice from a DataFrame.\n",
      "Try using .loc[row_indexer,col_indexer] = value instead\n",
      "\n",
      "See the caveats in the documentation: https://pandas.pydata.org/pandas-docs/stable/user_guide/indexing.html#returning-a-view-versus-a-copy\n",
      "  nazare_wind[\"date\"] = pd.to_datetime(nazare_wind.date)\n"
     ]
    }
   ],
   "source": [
    "nazare_wind[\"date\"] = pd.to_datetime(nazare_wind.date)"
   ]
  },
  {
   "cell_type": "code",
   "execution_count": 25,
   "id": "64a5b44b",
   "metadata": {},
   "outputs": [
    {
     "name": "stderr",
     "output_type": "stream",
     "text": [
      "/home/lukesmith194/.local/lib/python3.8/site-packages/pandas/core/frame.py:5034: SettingWithCopyWarning: \n",
      "A value is trying to be set on a copy of a slice from a DataFrame\n",
      "\n",
      "See the caveats in the documentation: https://pandas.pydata.org/pandas-docs/stable/user_guide/indexing.html#returning-a-view-versus-a-copy\n",
      "  return super().rename(\n"
     ]
    }
   ],
   "source": [
    "nazare_wind.rename(columns={\"date\": \"ds\", \"wind_kmh\": \"y\"},inplace = True)"
   ]
  },
  {
   "cell_type": "markdown",
   "id": "651aa1ee",
   "metadata": {},
   "source": [
    "### Pipeline"
   ]
  },
  {
   "cell_type": "code",
   "execution_count": 26,
   "id": "6536d560",
   "metadata": {},
   "outputs": [],
   "source": [
    "pipe_wave = height[height[\"Spot\"] == \"Pipeline\"]"
   ]
  },
  {
   "cell_type": "code",
   "execution_count": 27,
   "id": "4be07112",
   "metadata": {},
   "outputs": [],
   "source": [
    "pipe_wave.drop([\"Spot\"],axis=1,inplace = True)"
   ]
  },
  {
   "cell_type": "code",
   "execution_count": 28,
   "id": "c81bf080",
   "metadata": {},
   "outputs": [
    {
     "name": "stderr",
     "output_type": "stream",
     "text": [
      "/tmp/ipykernel_255/2453200661.py:1: SettingWithCopyWarning: \n",
      "A value is trying to be set on a copy of a slice from a DataFrame.\n",
      "Try using .loc[row_indexer,col_indexer] = value instead\n",
      "\n",
      "See the caveats in the documentation: https://pandas.pydata.org/pandas-docs/stable/user_guide/indexing.html#returning-a-view-versus-a-copy\n",
      "  pipe_wave[\"date\"] = pd.to_datetime(pipe_wave.date)\n"
     ]
    }
   ],
   "source": [
    "pipe_wave[\"date\"] = pd.to_datetime(pipe_wave.date)"
   ]
  },
  {
   "cell_type": "code",
   "execution_count": 29,
   "id": "d6449f32",
   "metadata": {},
   "outputs": [],
   "source": [
    "pipe_wave.rename(columns={\"date\": \"ds\", \"height_ft\": \"y\"},inplace = True)"
   ]
  },
  {
   "cell_type": "code",
   "execution_count": 30,
   "id": "6b78a883",
   "metadata": {},
   "outputs": [
    {
     "data": {
      "text/html": [
       "<div>\n",
       "<style scoped>\n",
       "    .dataframe tbody tr th:only-of-type {\n",
       "        vertical-align: middle;\n",
       "    }\n",
       "\n",
       "    .dataframe tbody tr th {\n",
       "        vertical-align: top;\n",
       "    }\n",
       "\n",
       "    .dataframe thead th {\n",
       "        text-align: right;\n",
       "    }\n",
       "</style>\n",
       "<table border=\"1\" class=\"dataframe\">\n",
       "  <thead>\n",
       "    <tr style=\"text-align: right;\">\n",
       "      <th></th>\n",
       "      <th>ds</th>\n",
       "      <th>y</th>\n",
       "    </tr>\n",
       "  </thead>\n",
       "  <tbody>\n",
       "    <tr>\n",
       "      <th>5</th>\n",
       "      <td>2018-01-01</td>\n",
       "      <td>4.500000</td>\n",
       "    </tr>\n",
       "    <tr>\n",
       "      <th>14</th>\n",
       "      <td>2018-01-02</td>\n",
       "      <td>6.833333</td>\n",
       "    </tr>\n",
       "    <tr>\n",
       "      <th>23</th>\n",
       "      <td>2018-01-03</td>\n",
       "      <td>1.500000</td>\n",
       "    </tr>\n",
       "    <tr>\n",
       "      <th>32</th>\n",
       "      <td>2018-01-04</td>\n",
       "      <td>5.000000</td>\n",
       "    </tr>\n",
       "    <tr>\n",
       "      <th>41</th>\n",
       "      <td>2018-01-05</td>\n",
       "      <td>5.000000</td>\n",
       "    </tr>\n",
       "    <tr>\n",
       "      <th>...</th>\n",
       "      <td>...</td>\n",
       "      <td>...</td>\n",
       "    </tr>\n",
       "    <tr>\n",
       "      <th>10551</th>\n",
       "      <td>2020-12-27</td>\n",
       "      <td>3.666667</td>\n",
       "    </tr>\n",
       "    <tr>\n",
       "      <th>10561</th>\n",
       "      <td>2020-12-28</td>\n",
       "      <td>2.600000</td>\n",
       "    </tr>\n",
       "    <tr>\n",
       "      <th>10571</th>\n",
       "      <td>2020-12-29</td>\n",
       "      <td>6.166667</td>\n",
       "    </tr>\n",
       "    <tr>\n",
       "      <th>10581</th>\n",
       "      <td>2020-12-30</td>\n",
       "      <td>9.333333</td>\n",
       "    </tr>\n",
       "    <tr>\n",
       "      <th>10591</th>\n",
       "      <td>2020-12-31</td>\n",
       "      <td>9.000000</td>\n",
       "    </tr>\n",
       "  </tbody>\n",
       "</table>\n",
       "<p>1096 rows × 2 columns</p>\n",
       "</div>"
      ],
      "text/plain": [
       "              ds         y\n",
       "5     2018-01-01  4.500000\n",
       "14    2018-01-02  6.833333\n",
       "23    2018-01-03  1.500000\n",
       "32    2018-01-04  5.000000\n",
       "41    2018-01-05  5.000000\n",
       "...          ...       ...\n",
       "10551 2020-12-27  3.666667\n",
       "10561 2020-12-28  2.600000\n",
       "10571 2020-12-29  6.166667\n",
       "10581 2020-12-30  9.333333\n",
       "10591 2020-12-31  9.000000\n",
       "\n",
       "[1096 rows x 2 columns]"
      ]
     },
     "execution_count": 30,
     "metadata": {},
     "output_type": "execute_result"
    }
   ],
   "source": [
    "pipe_wave"
   ]
  },
  {
   "cell_type": "code",
   "execution_count": 31,
   "id": "605e500e",
   "metadata": {},
   "outputs": [],
   "source": [
    "pipe_wind = wind[wind[\"Spot\"] == \"Pipeline\"]"
   ]
  },
  {
   "cell_type": "code",
   "execution_count": 32,
   "id": "b48a1708",
   "metadata": {},
   "outputs": [
    {
     "name": "stderr",
     "output_type": "stream",
     "text": [
      "/home/lukesmith194/.local/lib/python3.8/site-packages/pandas/core/frame.py:4901: SettingWithCopyWarning: \n",
      "A value is trying to be set on a copy of a slice from a DataFrame\n",
      "\n",
      "See the caveats in the documentation: https://pandas.pydata.org/pandas-docs/stable/user_guide/indexing.html#returning-a-view-versus-a-copy\n",
      "  return super().drop(\n"
     ]
    }
   ],
   "source": [
    "pipe_wind.drop([\"Spot\"],axis=1,inplace = True)"
   ]
  },
  {
   "cell_type": "code",
   "execution_count": 33,
   "id": "f5a0c47c",
   "metadata": {},
   "outputs": [
    {
     "name": "stderr",
     "output_type": "stream",
     "text": [
      "/tmp/ipykernel_255/2159290068.py:1: SettingWithCopyWarning: \n",
      "A value is trying to be set on a copy of a slice from a DataFrame.\n",
      "Try using .loc[row_indexer,col_indexer] = value instead\n",
      "\n",
      "See the caveats in the documentation: https://pandas.pydata.org/pandas-docs/stable/user_guide/indexing.html#returning-a-view-versus-a-copy\n",
      "  pipe_wind[\"date\"] = pd.to_datetime(pipe_wind.date)\n"
     ]
    }
   ],
   "source": [
    "pipe_wind[\"date\"] = pd.to_datetime(pipe_wind.date)"
   ]
  },
  {
   "cell_type": "code",
   "execution_count": 34,
   "id": "a2154928",
   "metadata": {},
   "outputs": [
    {
     "name": "stderr",
     "output_type": "stream",
     "text": [
      "/home/lukesmith194/.local/lib/python3.8/site-packages/pandas/core/frame.py:5034: SettingWithCopyWarning: \n",
      "A value is trying to be set on a copy of a slice from a DataFrame\n",
      "\n",
      "See the caveats in the documentation: https://pandas.pydata.org/pandas-docs/stable/user_guide/indexing.html#returning-a-view-versus-a-copy\n",
      "  return super().rename(\n"
     ]
    }
   ],
   "source": [
    "pipe_wind.rename(columns={\"date\": \"ds\", \"wind_kmh\": \"y\"},inplace = True)"
   ]
  },
  {
   "cell_type": "code",
   "execution_count": 35,
   "id": "d3db7c13",
   "metadata": {},
   "outputs": [
    {
     "data": {
      "text/html": [
       "<div>\n",
       "<style scoped>\n",
       "    .dataframe tbody tr th:only-of-type {\n",
       "        vertical-align: middle;\n",
       "    }\n",
       "\n",
       "    .dataframe tbody tr th {\n",
       "        vertical-align: top;\n",
       "    }\n",
       "\n",
       "    .dataframe thead th {\n",
       "        text-align: right;\n",
       "    }\n",
       "</style>\n",
       "<table border=\"1\" class=\"dataframe\">\n",
       "  <thead>\n",
       "    <tr style=\"text-align: right;\">\n",
       "      <th></th>\n",
       "      <th>ds</th>\n",
       "      <th>y</th>\n",
       "    </tr>\n",
       "  </thead>\n",
       "  <tbody>\n",
       "    <tr>\n",
       "      <th>5</th>\n",
       "      <td>2018-01-01</td>\n",
       "      <td>14.000000</td>\n",
       "    </tr>\n",
       "    <tr>\n",
       "      <th>14</th>\n",
       "      <td>2018-01-02</td>\n",
       "      <td>18.000000</td>\n",
       "    </tr>\n",
       "    <tr>\n",
       "      <th>23</th>\n",
       "      <td>2018-01-03</td>\n",
       "      <td>13.666667</td>\n",
       "    </tr>\n",
       "    <tr>\n",
       "      <th>32</th>\n",
       "      <td>2018-01-04</td>\n",
       "      <td>2.666667</td>\n",
       "    </tr>\n",
       "    <tr>\n",
       "      <th>41</th>\n",
       "      <td>2018-01-05</td>\n",
       "      <td>4.666667</td>\n",
       "    </tr>\n",
       "  </tbody>\n",
       "</table>\n",
       "</div>"
      ],
      "text/plain": [
       "           ds          y\n",
       "5  2018-01-01  14.000000\n",
       "14 2018-01-02  18.000000\n",
       "23 2018-01-03  13.666667\n",
       "32 2018-01-04   2.666667\n",
       "41 2018-01-05   4.666667"
      ]
     },
     "execution_count": 35,
     "metadata": {},
     "output_type": "execute_result"
    }
   ],
   "source": [
    "pipe_wind.head()"
   ]
  },
  {
   "cell_type": "markdown",
   "id": "8a80bce5",
   "metadata": {},
   "source": [
    "### Fronton"
   ]
  },
  {
   "cell_type": "code",
   "execution_count": 36,
   "id": "b43741f4",
   "metadata": {},
   "outputs": [],
   "source": [
    "fronton_wave = height[height[\"Spot\"] == \"Fronton\"]"
   ]
  },
  {
   "cell_type": "code",
   "execution_count": 37,
   "id": "d13f985f",
   "metadata": {},
   "outputs": [
    {
     "name": "stderr",
     "output_type": "stream",
     "text": [
      "/home/lukesmith194/.local/lib/python3.8/site-packages/pandas/core/frame.py:4901: SettingWithCopyWarning: \n",
      "A value is trying to be set on a copy of a slice from a DataFrame\n",
      "\n",
      "See the caveats in the documentation: https://pandas.pydata.org/pandas-docs/stable/user_guide/indexing.html#returning-a-view-versus-a-copy\n",
      "  return super().drop(\n"
     ]
    }
   ],
   "source": [
    "fronton_wave.drop([\"Spot\"],axis=1,inplace = True)"
   ]
  },
  {
   "cell_type": "code",
   "execution_count": 38,
   "id": "3128cd85",
   "metadata": {},
   "outputs": [
    {
     "name": "stderr",
     "output_type": "stream",
     "text": [
      "/tmp/ipykernel_255/2400933790.py:1: SettingWithCopyWarning: \n",
      "A value is trying to be set on a copy of a slice from a DataFrame.\n",
      "Try using .loc[row_indexer,col_indexer] = value instead\n",
      "\n",
      "See the caveats in the documentation: https://pandas.pydata.org/pandas-docs/stable/user_guide/indexing.html#returning-a-view-versus-a-copy\n",
      "  fronton_wave[\"date\"] = pd.to_datetime(fronton_wave.date)\n"
     ]
    }
   ],
   "source": [
    "fronton_wave[\"date\"] = pd.to_datetime(fronton_wave.date)"
   ]
  },
  {
   "cell_type": "code",
   "execution_count": 39,
   "id": "b25addac",
   "metadata": {},
   "outputs": [
    {
     "name": "stderr",
     "output_type": "stream",
     "text": [
      "/home/lukesmith194/.local/lib/python3.8/site-packages/pandas/core/frame.py:5034: SettingWithCopyWarning: \n",
      "A value is trying to be set on a copy of a slice from a DataFrame\n",
      "\n",
      "See the caveats in the documentation: https://pandas.pydata.org/pandas-docs/stable/user_guide/indexing.html#returning-a-view-versus-a-copy\n",
      "  return super().rename(\n"
     ]
    }
   ],
   "source": [
    "fronton_wave.rename(columns={\"date\": \"ds\", \"height_ft\": \"y\"},inplace = True)"
   ]
  },
  {
   "cell_type": "code",
   "execution_count": 40,
   "id": "d5c0f4b5",
   "metadata": {},
   "outputs": [
    {
     "data": {
      "text/html": [
       "<div>\n",
       "<style scoped>\n",
       "    .dataframe tbody tr th:only-of-type {\n",
       "        vertical-align: middle;\n",
       "    }\n",
       "\n",
       "    .dataframe tbody tr th {\n",
       "        vertical-align: top;\n",
       "    }\n",
       "\n",
       "    .dataframe thead th {\n",
       "        text-align: right;\n",
       "    }\n",
       "</style>\n",
       "<table border=\"1\" class=\"dataframe\">\n",
       "  <thead>\n",
       "    <tr style=\"text-align: right;\">\n",
       "      <th></th>\n",
       "      <th>ds</th>\n",
       "      <th>y</th>\n",
       "    </tr>\n",
       "  </thead>\n",
       "  <tbody>\n",
       "    <tr>\n",
       "      <th>0</th>\n",
       "      <td>2018-01-01</td>\n",
       "      <td>3.333333</td>\n",
       "    </tr>\n",
       "    <tr>\n",
       "      <th>9</th>\n",
       "      <td>2018-01-02</td>\n",
       "      <td>7.666667</td>\n",
       "    </tr>\n",
       "    <tr>\n",
       "      <th>18</th>\n",
       "      <td>2018-01-03</td>\n",
       "      <td>5.833333</td>\n",
       "    </tr>\n",
       "    <tr>\n",
       "      <th>27</th>\n",
       "      <td>2018-01-04</td>\n",
       "      <td>4.833333</td>\n",
       "    </tr>\n",
       "    <tr>\n",
       "      <th>36</th>\n",
       "      <td>2018-01-05</td>\n",
       "      <td>2.833333</td>\n",
       "    </tr>\n",
       "  </tbody>\n",
       "</table>\n",
       "</div>"
      ],
      "text/plain": [
       "           ds         y\n",
       "0  2018-01-01  3.333333\n",
       "9  2018-01-02  7.666667\n",
       "18 2018-01-03  5.833333\n",
       "27 2018-01-04  4.833333\n",
       "36 2018-01-05  2.833333"
      ]
     },
     "execution_count": 40,
     "metadata": {},
     "output_type": "execute_result"
    }
   ],
   "source": [
    "fronton_wave.head()"
   ]
  },
  {
   "cell_type": "code",
   "execution_count": 41,
   "id": "0e216550",
   "metadata": {},
   "outputs": [],
   "source": [
    "fronton_wind = wind[wind[\"Spot\"] == \"Fronton\"]"
   ]
  },
  {
   "cell_type": "code",
   "execution_count": 42,
   "id": "f5f9cd95",
   "metadata": {},
   "outputs": [
    {
     "name": "stderr",
     "output_type": "stream",
     "text": [
      "/home/lukesmith194/.local/lib/python3.8/site-packages/pandas/core/frame.py:4901: SettingWithCopyWarning: \n",
      "A value is trying to be set on a copy of a slice from a DataFrame\n",
      "\n",
      "See the caveats in the documentation: https://pandas.pydata.org/pandas-docs/stable/user_guide/indexing.html#returning-a-view-versus-a-copy\n",
      "  return super().drop(\n"
     ]
    }
   ],
   "source": [
    "fronton_wind.drop([\"Spot\"],axis=1,inplace = True)"
   ]
  },
  {
   "cell_type": "code",
   "execution_count": 43,
   "id": "3c10300f",
   "metadata": {},
   "outputs": [
    {
     "name": "stderr",
     "output_type": "stream",
     "text": [
      "/tmp/ipykernel_255/2119069935.py:1: SettingWithCopyWarning: \n",
      "A value is trying to be set on a copy of a slice from a DataFrame.\n",
      "Try using .loc[row_indexer,col_indexer] = value instead\n",
      "\n",
      "See the caveats in the documentation: https://pandas.pydata.org/pandas-docs/stable/user_guide/indexing.html#returning-a-view-versus-a-copy\n",
      "  fronton_wind[\"date\"] = pd.to_datetime(fronton_wind.date)\n"
     ]
    }
   ],
   "source": [
    "fronton_wind[\"date\"] = pd.to_datetime(fronton_wind.date)"
   ]
  },
  {
   "cell_type": "code",
   "execution_count": 44,
   "id": "89097986",
   "metadata": {},
   "outputs": [
    {
     "name": "stderr",
     "output_type": "stream",
     "text": [
      "/home/lukesmith194/.local/lib/python3.8/site-packages/pandas/core/frame.py:5034: SettingWithCopyWarning: \n",
      "A value is trying to be set on a copy of a slice from a DataFrame\n",
      "\n",
      "See the caveats in the documentation: https://pandas.pydata.org/pandas-docs/stable/user_guide/indexing.html#returning-a-view-versus-a-copy\n",
      "  return super().rename(\n"
     ]
    }
   ],
   "source": [
    "fronton_wind.rename(columns={\"date\": \"ds\", \"wind_kmh\": \"y\"},inplace = True)"
   ]
  },
  {
   "cell_type": "code",
   "execution_count": 45,
   "id": "2c2dd49d",
   "metadata": {},
   "outputs": [
    {
     "data": {
      "text/html": [
       "<div>\n",
       "<style scoped>\n",
       "    .dataframe tbody tr th:only-of-type {\n",
       "        vertical-align: middle;\n",
       "    }\n",
       "\n",
       "    .dataframe tbody tr th {\n",
       "        vertical-align: top;\n",
       "    }\n",
       "\n",
       "    .dataframe thead th {\n",
       "        text-align: right;\n",
       "    }\n",
       "</style>\n",
       "<table border=\"1\" class=\"dataframe\">\n",
       "  <thead>\n",
       "    <tr style=\"text-align: right;\">\n",
       "      <th></th>\n",
       "      <th>ds</th>\n",
       "      <th>y</th>\n",
       "    </tr>\n",
       "  </thead>\n",
       "  <tbody>\n",
       "    <tr>\n",
       "      <th>0</th>\n",
       "      <td>2018-01-01</td>\n",
       "      <td>19.666667</td>\n",
       "    </tr>\n",
       "    <tr>\n",
       "      <th>9</th>\n",
       "      <td>2018-01-02</td>\n",
       "      <td>31.000000</td>\n",
       "    </tr>\n",
       "    <tr>\n",
       "      <th>18</th>\n",
       "      <td>2018-01-03</td>\n",
       "      <td>30.333333</td>\n",
       "    </tr>\n",
       "    <tr>\n",
       "      <th>27</th>\n",
       "      <td>2018-01-04</td>\n",
       "      <td>4.000000</td>\n",
       "    </tr>\n",
       "    <tr>\n",
       "      <th>36</th>\n",
       "      <td>2018-01-05</td>\n",
       "      <td>18.333333</td>\n",
       "    </tr>\n",
       "  </tbody>\n",
       "</table>\n",
       "</div>"
      ],
      "text/plain": [
       "           ds          y\n",
       "0  2018-01-01  19.666667\n",
       "9  2018-01-02  31.000000\n",
       "18 2018-01-03  30.333333\n",
       "27 2018-01-04   4.000000\n",
       "36 2018-01-05  18.333333"
      ]
     },
     "execution_count": 45,
     "metadata": {},
     "output_type": "execute_result"
    }
   ],
   "source": [
    "fronton_wind.head()"
   ]
  },
  {
   "cell_type": "markdown",
   "id": "e676c3f1",
   "metadata": {},
   "source": [
    "###  Box"
   ]
  },
  {
   "cell_type": "code",
   "execution_count": 46,
   "id": "876e5139",
   "metadata": {},
   "outputs": [
    {
     "name": "stderr",
     "output_type": "stream",
     "text": [
      "/home/lukesmith194/.local/lib/python3.8/site-packages/pandas/core/frame.py:4901: SettingWithCopyWarning: \n",
      "A value is trying to be set on a copy of a slice from a DataFrame\n",
      "\n",
      "See the caveats in the documentation: https://pandas.pydata.org/pandas-docs/stable/user_guide/indexing.html#returning-a-view-versus-a-copy\n",
      "  return super().drop(\n",
      "/tmp/ipykernel_255/1635280039.py:5: SettingWithCopyWarning: \n",
      "A value is trying to be set on a copy of a slice from a DataFrame.\n",
      "Try using .loc[row_indexer,col_indexer] = value instead\n",
      "\n",
      "See the caveats in the documentation: https://pandas.pydata.org/pandas-docs/stable/user_guide/indexing.html#returning-a-view-versus-a-copy\n",
      "  box_wind[\"date\"] = pd.to_datetime(box_wind.date)\n",
      "/home/lukesmith194/.local/lib/python3.8/site-packages/pandas/core/frame.py:5034: SettingWithCopyWarning: \n",
      "A value is trying to be set on a copy of a slice from a DataFrame\n",
      "\n",
      "See the caveats in the documentation: https://pandas.pydata.org/pandas-docs/stable/user_guide/indexing.html#returning-a-view-versus-a-copy\n",
      "  return super().rename(\n"
     ]
    }
   ],
   "source": [
    "box_wind = wind[wind[\"Spot\"] == \"The Box\"]\n",
    "\n",
    "box_wind.drop([\"Spot\"],axis=1,inplace = True)\n",
    "\n",
    "box_wind[\"date\"] = pd.to_datetime(box_wind.date)\n",
    "\n",
    "box_wind.rename(columns={\"date\": \"ds\", \"wind_kmh\": \"y\"},inplace = True)"
   ]
  },
  {
   "cell_type": "code",
   "execution_count": 47,
   "id": "691442d4",
   "metadata": {},
   "outputs": [
    {
     "data": {
      "text/html": [
       "<div>\n",
       "<style scoped>\n",
       "    .dataframe tbody tr th:only-of-type {\n",
       "        vertical-align: middle;\n",
       "    }\n",
       "\n",
       "    .dataframe tbody tr th {\n",
       "        vertical-align: top;\n",
       "    }\n",
       "\n",
       "    .dataframe thead th {\n",
       "        text-align: right;\n",
       "    }\n",
       "</style>\n",
       "<table border=\"1\" class=\"dataframe\">\n",
       "  <thead>\n",
       "    <tr style=\"text-align: right;\">\n",
       "      <th></th>\n",
       "      <th>ds</th>\n",
       "      <th>y</th>\n",
       "    </tr>\n",
       "  </thead>\n",
       "  <tbody>\n",
       "    <tr>\n",
       "      <th>8</th>\n",
       "      <td>2018-01-01</td>\n",
       "      <td>18.333333</td>\n",
       "    </tr>\n",
       "    <tr>\n",
       "      <th>17</th>\n",
       "      <td>2018-01-02</td>\n",
       "      <td>16.666667</td>\n",
       "    </tr>\n",
       "    <tr>\n",
       "      <th>26</th>\n",
       "      <td>2018-01-03</td>\n",
       "      <td>19.000000</td>\n",
       "    </tr>\n",
       "    <tr>\n",
       "      <th>35</th>\n",
       "      <td>2018-01-04</td>\n",
       "      <td>18.000000</td>\n",
       "    </tr>\n",
       "    <tr>\n",
       "      <th>44</th>\n",
       "      <td>2018-01-05</td>\n",
       "      <td>16.666667</td>\n",
       "    </tr>\n",
       "  </tbody>\n",
       "</table>\n",
       "</div>"
      ],
      "text/plain": [
       "           ds          y\n",
       "8  2018-01-01  18.333333\n",
       "17 2018-01-02  16.666667\n",
       "26 2018-01-03  19.000000\n",
       "35 2018-01-04  18.000000\n",
       "44 2018-01-05  16.666667"
      ]
     },
     "execution_count": 47,
     "metadata": {},
     "output_type": "execute_result"
    }
   ],
   "source": [
    "box_wind.head()"
   ]
  },
  {
   "cell_type": "code",
   "execution_count": 48,
   "id": "dd44ec59",
   "metadata": {},
   "outputs": [
    {
     "name": "stderr",
     "output_type": "stream",
     "text": [
      "/home/lukesmith194/.local/lib/python3.8/site-packages/pandas/core/frame.py:4901: SettingWithCopyWarning: \n",
      "A value is trying to be set on a copy of a slice from a DataFrame\n",
      "\n",
      "See the caveats in the documentation: https://pandas.pydata.org/pandas-docs/stable/user_guide/indexing.html#returning-a-view-versus-a-copy\n",
      "  return super().drop(\n",
      "/tmp/ipykernel_255/134597651.py:5: SettingWithCopyWarning: \n",
      "A value is trying to be set on a copy of a slice from a DataFrame.\n",
      "Try using .loc[row_indexer,col_indexer] = value instead\n",
      "\n",
      "See the caveats in the documentation: https://pandas.pydata.org/pandas-docs/stable/user_guide/indexing.html#returning-a-view-versus-a-copy\n",
      "  box_wave[\"date\"] = pd.to_datetime(box_wave.date)\n",
      "/home/lukesmith194/.local/lib/python3.8/site-packages/pandas/core/frame.py:5034: SettingWithCopyWarning: \n",
      "A value is trying to be set on a copy of a slice from a DataFrame\n",
      "\n",
      "See the caveats in the documentation: https://pandas.pydata.org/pandas-docs/stable/user_guide/indexing.html#returning-a-view-versus-a-copy\n",
      "  return super().rename(\n"
     ]
    }
   ],
   "source": [
    "box_wave = height[height[\"Spot\"] == \"The Box\"]\n",
    "\n",
    "box_wave.drop([\"Spot\"],axis=1,inplace = True)\n",
    "\n",
    "box_wave[\"date\"] = pd.to_datetime(box_wave.date)\n",
    "\n",
    "box_wave.rename(columns={\"date\": \"ds\", \"height_ft\": \"y\"},inplace = True)"
   ]
  },
  {
   "cell_type": "code",
   "execution_count": 49,
   "id": "6b3bac53",
   "metadata": {},
   "outputs": [
    {
     "data": {
      "text/html": [
       "<div>\n",
       "<style scoped>\n",
       "    .dataframe tbody tr th:only-of-type {\n",
       "        vertical-align: middle;\n",
       "    }\n",
       "\n",
       "    .dataframe tbody tr th {\n",
       "        vertical-align: top;\n",
       "    }\n",
       "\n",
       "    .dataframe thead th {\n",
       "        text-align: right;\n",
       "    }\n",
       "</style>\n",
       "<table border=\"1\" class=\"dataframe\">\n",
       "  <thead>\n",
       "    <tr style=\"text-align: right;\">\n",
       "      <th></th>\n",
       "      <th>ds</th>\n",
       "      <th>y</th>\n",
       "    </tr>\n",
       "  </thead>\n",
       "  <tbody>\n",
       "    <tr>\n",
       "      <th>8</th>\n",
       "      <td>2018-01-01</td>\n",
       "      <td>8.500000</td>\n",
       "    </tr>\n",
       "    <tr>\n",
       "      <th>17</th>\n",
       "      <td>2018-01-02</td>\n",
       "      <td>1.633333</td>\n",
       "    </tr>\n",
       "    <tr>\n",
       "      <th>26</th>\n",
       "      <td>2018-01-03</td>\n",
       "      <td>6.500000</td>\n",
       "    </tr>\n",
       "    <tr>\n",
       "      <th>35</th>\n",
       "      <td>2018-01-04</td>\n",
       "      <td>7.666667</td>\n",
       "    </tr>\n",
       "    <tr>\n",
       "      <th>44</th>\n",
       "      <td>2018-01-05</td>\n",
       "      <td>9.833333</td>\n",
       "    </tr>\n",
       "  </tbody>\n",
       "</table>\n",
       "</div>"
      ],
      "text/plain": [
       "           ds         y\n",
       "8  2018-01-01  8.500000\n",
       "17 2018-01-02  1.633333\n",
       "26 2018-01-03  6.500000\n",
       "35 2018-01-04  7.666667\n",
       "44 2018-01-05  9.833333"
      ]
     },
     "execution_count": 49,
     "metadata": {},
     "output_type": "execute_result"
    }
   ],
   "source": [
    "box_wave.head()"
   ]
  },
  {
   "cell_type": "markdown",
   "id": "c473ae35",
   "metadata": {},
   "source": [
    "### Puerto escondido"
   ]
  },
  {
   "cell_type": "code",
   "execution_count": 50,
   "id": "a540a589",
   "metadata": {},
   "outputs": [
    {
     "name": "stderr",
     "output_type": "stream",
     "text": [
      "/home/lukesmith194/.local/lib/python3.8/site-packages/pandas/core/frame.py:4901: SettingWithCopyWarning: \n",
      "A value is trying to be set on a copy of a slice from a DataFrame\n",
      "\n",
      "See the caveats in the documentation: https://pandas.pydata.org/pandas-docs/stable/user_guide/indexing.html#returning-a-view-versus-a-copy\n",
      "  return super().drop(\n",
      "/tmp/ipykernel_255/1025946564.py:5: SettingWithCopyWarning: \n",
      "A value is trying to be set on a copy of a slice from a DataFrame.\n",
      "Try using .loc[row_indexer,col_indexer] = value instead\n",
      "\n",
      "See the caveats in the documentation: https://pandas.pydata.org/pandas-docs/stable/user_guide/indexing.html#returning-a-view-versus-a-copy\n",
      "  pe_wave[\"date\"] = pd.to_datetime(pe_wave.date)\n",
      "/home/lukesmith194/.local/lib/python3.8/site-packages/pandas/core/frame.py:5034: SettingWithCopyWarning: \n",
      "A value is trying to be set on a copy of a slice from a DataFrame\n",
      "\n",
      "See the caveats in the documentation: https://pandas.pydata.org/pandas-docs/stable/user_guide/indexing.html#returning-a-view-versus-a-copy\n",
      "  return super().rename(\n"
     ]
    }
   ],
   "source": [
    "pe_wave = height[height[\"Spot\"] == \"Puerto Escondido\"]\n",
    "\n",
    "pe_wave.drop([\"Spot\"],axis=1,inplace = True)\n",
    "\n",
    "pe_wave[\"date\"] = pd.to_datetime(pe_wave.date)\n",
    "\n",
    "pe_wave.rename(columns={\"date\": \"ds\", \"height_ft\": \"y\"},inplace = True)"
   ]
  },
  {
   "cell_type": "code",
   "execution_count": 51,
   "id": "dabd2dc6",
   "metadata": {},
   "outputs": [
    {
     "data": {
      "text/html": [
       "<div>\n",
       "<style scoped>\n",
       "    .dataframe tbody tr th:only-of-type {\n",
       "        vertical-align: middle;\n",
       "    }\n",
       "\n",
       "    .dataframe tbody tr th {\n",
       "        vertical-align: top;\n",
       "    }\n",
       "\n",
       "    .dataframe thead th {\n",
       "        text-align: right;\n",
       "    }\n",
       "</style>\n",
       "<table border=\"1\" class=\"dataframe\">\n",
       "  <thead>\n",
       "    <tr style=\"text-align: right;\">\n",
       "      <th></th>\n",
       "      <th>ds</th>\n",
       "      <th>y</th>\n",
       "    </tr>\n",
       "  </thead>\n",
       "  <tbody>\n",
       "    <tr>\n",
       "      <th>6</th>\n",
       "      <td>2018-01-01</td>\n",
       "      <td>1.600000</td>\n",
       "    </tr>\n",
       "    <tr>\n",
       "      <th>15</th>\n",
       "      <td>2018-01-02</td>\n",
       "      <td>2.500000</td>\n",
       "    </tr>\n",
       "    <tr>\n",
       "      <th>24</th>\n",
       "      <td>2018-01-03</td>\n",
       "      <td>3.666667</td>\n",
       "    </tr>\n",
       "    <tr>\n",
       "      <th>33</th>\n",
       "      <td>2018-01-04</td>\n",
       "      <td>4.333333</td>\n",
       "    </tr>\n",
       "    <tr>\n",
       "      <th>42</th>\n",
       "      <td>2018-01-05</td>\n",
       "      <td>2.500000</td>\n",
       "    </tr>\n",
       "  </tbody>\n",
       "</table>\n",
       "</div>"
      ],
      "text/plain": [
       "           ds         y\n",
       "6  2018-01-01  1.600000\n",
       "15 2018-01-02  2.500000\n",
       "24 2018-01-03  3.666667\n",
       "33 2018-01-04  4.333333\n",
       "42 2018-01-05  2.500000"
      ]
     },
     "execution_count": 51,
     "metadata": {},
     "output_type": "execute_result"
    }
   ],
   "source": [
    "pe_wave.head()"
   ]
  },
  {
   "cell_type": "code",
   "execution_count": 52,
   "id": "079c8d02",
   "metadata": {},
   "outputs": [
    {
     "name": "stderr",
     "output_type": "stream",
     "text": [
      "/home/lukesmith194/.local/lib/python3.8/site-packages/pandas/core/frame.py:4901: SettingWithCopyWarning: \n",
      "A value is trying to be set on a copy of a slice from a DataFrame\n",
      "\n",
      "See the caveats in the documentation: https://pandas.pydata.org/pandas-docs/stable/user_guide/indexing.html#returning-a-view-versus-a-copy\n",
      "  return super().drop(\n",
      "/tmp/ipykernel_255/1159146362.py:5: SettingWithCopyWarning: \n",
      "A value is trying to be set on a copy of a slice from a DataFrame.\n",
      "Try using .loc[row_indexer,col_indexer] = value instead\n",
      "\n",
      "See the caveats in the documentation: https://pandas.pydata.org/pandas-docs/stable/user_guide/indexing.html#returning-a-view-versus-a-copy\n",
      "  pe_wind[\"date\"] = pd.to_datetime(pe_wind.date)\n",
      "/home/lukesmith194/.local/lib/python3.8/site-packages/pandas/core/frame.py:5034: SettingWithCopyWarning: \n",
      "A value is trying to be set on a copy of a slice from a DataFrame\n",
      "\n",
      "See the caveats in the documentation: https://pandas.pydata.org/pandas-docs/stable/user_guide/indexing.html#returning-a-view-versus-a-copy\n",
      "  return super().rename(\n"
     ]
    }
   ],
   "source": [
    "pe_wind = wind[wind[\"Spot\"] == \"Puerto Escondido\"]\n",
    "\n",
    "pe_wind.drop([\"Spot\"],axis=1,inplace = True)\n",
    "\n",
    "pe_wind[\"date\"] = pd.to_datetime(pe_wind.date)\n",
    "\n",
    "pe_wind.rename(columns={\"date\": \"ds\", \"wind_kmh\": \"y\"},inplace = True)"
   ]
  },
  {
   "cell_type": "code",
   "execution_count": 53,
   "id": "926b83dd",
   "metadata": {},
   "outputs": [
    {
     "data": {
      "text/html": [
       "<div>\n",
       "<style scoped>\n",
       "    .dataframe tbody tr th:only-of-type {\n",
       "        vertical-align: middle;\n",
       "    }\n",
       "\n",
       "    .dataframe tbody tr th {\n",
       "        vertical-align: top;\n",
       "    }\n",
       "\n",
       "    .dataframe thead th {\n",
       "        text-align: right;\n",
       "    }\n",
       "</style>\n",
       "<table border=\"1\" class=\"dataframe\">\n",
       "  <thead>\n",
       "    <tr style=\"text-align: right;\">\n",
       "      <th></th>\n",
       "      <th>ds</th>\n",
       "      <th>y</th>\n",
       "    </tr>\n",
       "  </thead>\n",
       "  <tbody>\n",
       "    <tr>\n",
       "      <th>6</th>\n",
       "      <td>2018-01-01</td>\n",
       "      <td>5.333333</td>\n",
       "    </tr>\n",
       "    <tr>\n",
       "      <th>15</th>\n",
       "      <td>2018-01-02</td>\n",
       "      <td>4.666667</td>\n",
       "    </tr>\n",
       "    <tr>\n",
       "      <th>24</th>\n",
       "      <td>2018-01-03</td>\n",
       "      <td>5.333333</td>\n",
       "    </tr>\n",
       "    <tr>\n",
       "      <th>33</th>\n",
       "      <td>2018-01-04</td>\n",
       "      <td>5.333333</td>\n",
       "    </tr>\n",
       "    <tr>\n",
       "      <th>42</th>\n",
       "      <td>2018-01-05</td>\n",
       "      <td>4.000000</td>\n",
       "    </tr>\n",
       "  </tbody>\n",
       "</table>\n",
       "</div>"
      ],
      "text/plain": [
       "           ds         y\n",
       "6  2018-01-01  5.333333\n",
       "15 2018-01-02  4.666667\n",
       "24 2018-01-03  5.333333\n",
       "33 2018-01-04  5.333333\n",
       "42 2018-01-05  4.000000"
      ]
     },
     "execution_count": 53,
     "metadata": {},
     "output_type": "execute_result"
    }
   ],
   "source": [
    "pe_wind.head()"
   ]
  },
  {
   "cell_type": "markdown",
   "id": "cc9d9cf0",
   "metadata": {},
   "source": [
    "### Itacoatiara"
   ]
  },
  {
   "cell_type": "code",
   "execution_count": 54,
   "id": "9bcc5785",
   "metadata": {},
   "outputs": [
    {
     "name": "stderr",
     "output_type": "stream",
     "text": [
      "/home/lukesmith194/.local/lib/python3.8/site-packages/pandas/core/frame.py:4901: SettingWithCopyWarning: \n",
      "A value is trying to be set on a copy of a slice from a DataFrame\n",
      "\n",
      "See the caveats in the documentation: https://pandas.pydata.org/pandas-docs/stable/user_guide/indexing.html#returning-a-view-versus-a-copy\n",
      "  return super().drop(\n",
      "/tmp/ipykernel_255/3195018019.py:5: SettingWithCopyWarning: \n",
      "A value is trying to be set on a copy of a slice from a DataFrame.\n",
      "Try using .loc[row_indexer,col_indexer] = value instead\n",
      "\n",
      "See the caveats in the documentation: https://pandas.pydata.org/pandas-docs/stable/user_guide/indexing.html#returning-a-view-versus-a-copy\n",
      "  ita_wave[\"date\"] = pd.to_datetime(ita_wave.date)\n",
      "/home/lukesmith194/.local/lib/python3.8/site-packages/pandas/core/frame.py:5034: SettingWithCopyWarning: \n",
      "A value is trying to be set on a copy of a slice from a DataFrame\n",
      "\n",
      "See the caveats in the documentation: https://pandas.pydata.org/pandas-docs/stable/user_guide/indexing.html#returning-a-view-versus-a-copy\n",
      "  return super().rename(\n"
     ]
    }
   ],
   "source": [
    "ita_wave = height[height[\"Spot\"] == \"Itacoatiara\"]\n",
    "\n",
    "ita_wave.drop([\"Spot\"],axis=1,inplace = True)\n",
    "\n",
    "ita_wave[\"date\"] = pd.to_datetime(ita_wave.date)\n",
    "\n",
    "ita_wave.rename(columns={\"date\": \"ds\", \"height_ft\": \"y\"},inplace = True)"
   ]
  },
  {
   "cell_type": "code",
   "execution_count": 55,
   "id": "3493cb34",
   "metadata": {},
   "outputs": [
    {
     "data": {
      "text/html": [
       "<div>\n",
       "<style scoped>\n",
       "    .dataframe tbody tr th:only-of-type {\n",
       "        vertical-align: middle;\n",
       "    }\n",
       "\n",
       "    .dataframe tbody tr th {\n",
       "        vertical-align: top;\n",
       "    }\n",
       "\n",
       "    .dataframe thead th {\n",
       "        text-align: right;\n",
       "    }\n",
       "</style>\n",
       "<table border=\"1\" class=\"dataframe\">\n",
       "  <thead>\n",
       "    <tr style=\"text-align: right;\">\n",
       "      <th></th>\n",
       "      <th>ds</th>\n",
       "      <th>y</th>\n",
       "    </tr>\n",
       "  </thead>\n",
       "  <tbody>\n",
       "    <tr>\n",
       "      <th>1</th>\n",
       "      <td>2018-01-01</td>\n",
       "      <td>0.800000</td>\n",
       "    </tr>\n",
       "    <tr>\n",
       "      <th>10</th>\n",
       "      <td>2018-01-02</td>\n",
       "      <td>3.833333</td>\n",
       "    </tr>\n",
       "    <tr>\n",
       "      <th>19</th>\n",
       "      <td>2018-01-03</td>\n",
       "      <td>1.766667</td>\n",
       "    </tr>\n",
       "    <tr>\n",
       "      <th>28</th>\n",
       "      <td>2018-01-04</td>\n",
       "      <td>1.600000</td>\n",
       "    </tr>\n",
       "    <tr>\n",
       "      <th>37</th>\n",
       "      <td>2018-01-05</td>\n",
       "      <td>1.400000</td>\n",
       "    </tr>\n",
       "  </tbody>\n",
       "</table>\n",
       "</div>"
      ],
      "text/plain": [
       "           ds         y\n",
       "1  2018-01-01  0.800000\n",
       "10 2018-01-02  3.833333\n",
       "19 2018-01-03  1.766667\n",
       "28 2018-01-04  1.600000\n",
       "37 2018-01-05  1.400000"
      ]
     },
     "execution_count": 55,
     "metadata": {},
     "output_type": "execute_result"
    }
   ],
   "source": [
    "ita_wave.head()"
   ]
  },
  {
   "cell_type": "code",
   "execution_count": 56,
   "id": "4542a88a",
   "metadata": {},
   "outputs": [
    {
     "name": "stderr",
     "output_type": "stream",
     "text": [
      "/home/lukesmith194/.local/lib/python3.8/site-packages/pandas/core/frame.py:4901: SettingWithCopyWarning: \n",
      "A value is trying to be set on a copy of a slice from a DataFrame\n",
      "\n",
      "See the caveats in the documentation: https://pandas.pydata.org/pandas-docs/stable/user_guide/indexing.html#returning-a-view-versus-a-copy\n",
      "  return super().drop(\n",
      "/tmp/ipykernel_255/144006310.py:5: SettingWithCopyWarning: \n",
      "A value is trying to be set on a copy of a slice from a DataFrame.\n",
      "Try using .loc[row_indexer,col_indexer] = value instead\n",
      "\n",
      "See the caveats in the documentation: https://pandas.pydata.org/pandas-docs/stable/user_guide/indexing.html#returning-a-view-versus-a-copy\n",
      "  ita_wind[\"date\"] = pd.to_datetime(ita_wind.date)\n",
      "/home/lukesmith194/.local/lib/python3.8/site-packages/pandas/core/frame.py:5034: SettingWithCopyWarning: \n",
      "A value is trying to be set on a copy of a slice from a DataFrame\n",
      "\n",
      "See the caveats in the documentation: https://pandas.pydata.org/pandas-docs/stable/user_guide/indexing.html#returning-a-view-versus-a-copy\n",
      "  return super().rename(\n"
     ]
    }
   ],
   "source": [
    "ita_wind = wind[wind[\"Spot\"] == \"Itacoatiara\"]\n",
    "\n",
    "ita_wind.drop([\"Spot\"],axis=1,inplace = True)\n",
    "\n",
    "ita_wind[\"date\"] = pd.to_datetime(ita_wind.date)\n",
    "\n",
    "ita_wind.rename(columns={\"date\": \"ds\", \"wind_kmh\": \"y\"},inplace = True)"
   ]
  },
  {
   "cell_type": "code",
   "execution_count": 57,
   "id": "421c2f7a",
   "metadata": {},
   "outputs": [
    {
     "data": {
      "text/html": [
       "<div>\n",
       "<style scoped>\n",
       "    .dataframe tbody tr th:only-of-type {\n",
       "        vertical-align: middle;\n",
       "    }\n",
       "\n",
       "    .dataframe tbody tr th {\n",
       "        vertical-align: top;\n",
       "    }\n",
       "\n",
       "    .dataframe thead th {\n",
       "        text-align: right;\n",
       "    }\n",
       "</style>\n",
       "<table border=\"1\" class=\"dataframe\">\n",
       "  <thead>\n",
       "    <tr style=\"text-align: right;\">\n",
       "      <th></th>\n",
       "      <th>ds</th>\n",
       "      <th>y</th>\n",
       "    </tr>\n",
       "  </thead>\n",
       "  <tbody>\n",
       "    <tr>\n",
       "      <th>1</th>\n",
       "      <td>2018-01-01</td>\n",
       "      <td>9.666667</td>\n",
       "    </tr>\n",
       "    <tr>\n",
       "      <th>10</th>\n",
       "      <td>2018-01-02</td>\n",
       "      <td>11.666667</td>\n",
       "    </tr>\n",
       "    <tr>\n",
       "      <th>19</th>\n",
       "      <td>2018-01-03</td>\n",
       "      <td>8.000000</td>\n",
       "    </tr>\n",
       "    <tr>\n",
       "      <th>28</th>\n",
       "      <td>2018-01-04</td>\n",
       "      <td>9.666667</td>\n",
       "    </tr>\n",
       "    <tr>\n",
       "      <th>37</th>\n",
       "      <td>2018-01-05</td>\n",
       "      <td>9.333333</td>\n",
       "    </tr>\n",
       "  </tbody>\n",
       "</table>\n",
       "</div>"
      ],
      "text/plain": [
       "           ds          y\n",
       "1  2018-01-01   9.666667\n",
       "10 2018-01-02  11.666667\n",
       "19 2018-01-03   8.000000\n",
       "28 2018-01-04   9.666667\n",
       "37 2018-01-05   9.333333"
      ]
     },
     "execution_count": 57,
     "metadata": {},
     "output_type": "execute_result"
    }
   ],
   "source": [
    "ita_wind.head()"
   ]
  },
  {
   "cell_type": "markdown",
   "id": "f4a00caa",
   "metadata": {},
   "source": [
    "### Padang"
   ]
  },
  {
   "cell_type": "code",
   "execution_count": 58,
   "id": "80df6f42",
   "metadata": {},
   "outputs": [
    {
     "name": "stderr",
     "output_type": "stream",
     "text": [
      "/home/lukesmith194/.local/lib/python3.8/site-packages/pandas/core/frame.py:4901: SettingWithCopyWarning: \n",
      "A value is trying to be set on a copy of a slice from a DataFrame\n",
      "\n",
      "See the caveats in the documentation: https://pandas.pydata.org/pandas-docs/stable/user_guide/indexing.html#returning-a-view-versus-a-copy\n",
      "  return super().drop(\n",
      "/tmp/ipykernel_255/2260806473.py:5: SettingWithCopyWarning: \n",
      "A value is trying to be set on a copy of a slice from a DataFrame.\n",
      "Try using .loc[row_indexer,col_indexer] = value instead\n",
      "\n",
      "See the caveats in the documentation: https://pandas.pydata.org/pandas-docs/stable/user_guide/indexing.html#returning-a-view-versus-a-copy\n",
      "  pp_wave[\"date\"] = pd.to_datetime(pp_wave.date)\n",
      "/home/lukesmith194/.local/lib/python3.8/site-packages/pandas/core/frame.py:5034: SettingWithCopyWarning: \n",
      "A value is trying to be set on a copy of a slice from a DataFrame\n",
      "\n",
      "See the caveats in the documentation: https://pandas.pydata.org/pandas-docs/stable/user_guide/indexing.html#returning-a-view-versus-a-copy\n",
      "  return super().rename(\n"
     ]
    }
   ],
   "source": [
    "pp_wave = height[height[\"Spot\"] == \"Padang-Padang\"]\n",
    "\n",
    "pp_wave.drop([\"Spot\"],axis=1,inplace = True)\n",
    "\n",
    "pp_wave[\"date\"] = pd.to_datetime(pp_wave.date)\n",
    "\n",
    "pp_wave.rename(columns={\"date\": \"ds\", \"height_ft\": \"y\"},inplace = True)"
   ]
  },
  {
   "cell_type": "code",
   "execution_count": 59,
   "id": "d377f7d1",
   "metadata": {},
   "outputs": [
    {
     "data": {
      "text/html": [
       "<div>\n",
       "<style scoped>\n",
       "    .dataframe tbody tr th:only-of-type {\n",
       "        vertical-align: middle;\n",
       "    }\n",
       "\n",
       "    .dataframe tbody tr th {\n",
       "        vertical-align: top;\n",
       "    }\n",
       "\n",
       "    .dataframe thead th {\n",
       "        text-align: right;\n",
       "    }\n",
       "</style>\n",
       "<table border=\"1\" class=\"dataframe\">\n",
       "  <thead>\n",
       "    <tr style=\"text-align: right;\">\n",
       "      <th></th>\n",
       "      <th>ds</th>\n",
       "      <th>y</th>\n",
       "    </tr>\n",
       "  </thead>\n",
       "  <tbody>\n",
       "    <tr>\n",
       "      <th>4</th>\n",
       "      <td>2018-01-01</td>\n",
       "      <td>5.666667</td>\n",
       "    </tr>\n",
       "    <tr>\n",
       "      <th>13</th>\n",
       "      <td>2018-01-02</td>\n",
       "      <td>5.333333</td>\n",
       "    </tr>\n",
       "    <tr>\n",
       "      <th>22</th>\n",
       "      <td>2018-01-03</td>\n",
       "      <td>3.833333</td>\n",
       "    </tr>\n",
       "    <tr>\n",
       "      <th>31</th>\n",
       "      <td>2018-01-04</td>\n",
       "      <td>5.166667</td>\n",
       "    </tr>\n",
       "    <tr>\n",
       "      <th>40</th>\n",
       "      <td>2018-01-05</td>\n",
       "      <td>5.500000</td>\n",
       "    </tr>\n",
       "  </tbody>\n",
       "</table>\n",
       "</div>"
      ],
      "text/plain": [
       "           ds         y\n",
       "4  2018-01-01  5.666667\n",
       "13 2018-01-02  5.333333\n",
       "22 2018-01-03  3.833333\n",
       "31 2018-01-04  5.166667\n",
       "40 2018-01-05  5.500000"
      ]
     },
     "execution_count": 59,
     "metadata": {},
     "output_type": "execute_result"
    }
   ],
   "source": [
    "pp_wave.head()"
   ]
  },
  {
   "cell_type": "code",
   "execution_count": 60,
   "id": "37bc6689",
   "metadata": {},
   "outputs": [
    {
     "name": "stderr",
     "output_type": "stream",
     "text": [
      "/home/lukesmith194/.local/lib/python3.8/site-packages/pandas/core/frame.py:4901: SettingWithCopyWarning: \n",
      "A value is trying to be set on a copy of a slice from a DataFrame\n",
      "\n",
      "See the caveats in the documentation: https://pandas.pydata.org/pandas-docs/stable/user_guide/indexing.html#returning-a-view-versus-a-copy\n",
      "  return super().drop(\n",
      "/tmp/ipykernel_255/3914177956.py:5: SettingWithCopyWarning: \n",
      "A value is trying to be set on a copy of a slice from a DataFrame.\n",
      "Try using .loc[row_indexer,col_indexer] = value instead\n",
      "\n",
      "See the caveats in the documentation: https://pandas.pydata.org/pandas-docs/stable/user_guide/indexing.html#returning-a-view-versus-a-copy\n",
      "  pp_wind[\"date\"] = pd.to_datetime(pp_wind.date)\n",
      "/home/lukesmith194/.local/lib/python3.8/site-packages/pandas/core/frame.py:5034: SettingWithCopyWarning: \n",
      "A value is trying to be set on a copy of a slice from a DataFrame\n",
      "\n",
      "See the caveats in the documentation: https://pandas.pydata.org/pandas-docs/stable/user_guide/indexing.html#returning-a-view-versus-a-copy\n",
      "  return super().rename(\n"
     ]
    }
   ],
   "source": [
    "pp_wind = wind[wind[\"Spot\"] == \"Padang-Padang\"]\n",
    "\n",
    "pp_wind.drop([\"Spot\"],axis=1,inplace = True)\n",
    "\n",
    "pp_wind[\"date\"] = pd.to_datetime(pp_wind.date)\n",
    "\n",
    "pp_wind.rename(columns={\"date\": \"ds\", \"wind_kmh\": \"y\"},inplace = True)"
   ]
  },
  {
   "cell_type": "code",
   "execution_count": 61,
   "id": "f64c2509",
   "metadata": {},
   "outputs": [
    {
     "data": {
      "text/html": [
       "<div>\n",
       "<style scoped>\n",
       "    .dataframe tbody tr th:only-of-type {\n",
       "        vertical-align: middle;\n",
       "    }\n",
       "\n",
       "    .dataframe tbody tr th {\n",
       "        vertical-align: top;\n",
       "    }\n",
       "\n",
       "    .dataframe thead th {\n",
       "        text-align: right;\n",
       "    }\n",
       "</style>\n",
       "<table border=\"1\" class=\"dataframe\">\n",
       "  <thead>\n",
       "    <tr style=\"text-align: right;\">\n",
       "      <th></th>\n",
       "      <th>ds</th>\n",
       "      <th>y</th>\n",
       "    </tr>\n",
       "  </thead>\n",
       "  <tbody>\n",
       "    <tr>\n",
       "      <th>4</th>\n",
       "      <td>2018-01-01</td>\n",
       "      <td>12.333333</td>\n",
       "    </tr>\n",
       "    <tr>\n",
       "      <th>13</th>\n",
       "      <td>2018-01-02</td>\n",
       "      <td>20.333333</td>\n",
       "    </tr>\n",
       "    <tr>\n",
       "      <th>22</th>\n",
       "      <td>2018-01-03</td>\n",
       "      <td>6.666667</td>\n",
       "    </tr>\n",
       "    <tr>\n",
       "      <th>31</th>\n",
       "      <td>2018-01-04</td>\n",
       "      <td>6.000000</td>\n",
       "    </tr>\n",
       "    <tr>\n",
       "      <th>40</th>\n",
       "      <td>2018-01-05</td>\n",
       "      <td>17.000000</td>\n",
       "    </tr>\n",
       "  </tbody>\n",
       "</table>\n",
       "</div>"
      ],
      "text/plain": [
       "           ds          y\n",
       "4  2018-01-01  12.333333\n",
       "13 2018-01-02  20.333333\n",
       "22 2018-01-03   6.666667\n",
       "31 2018-01-04   6.000000\n",
       "40 2018-01-05  17.000000"
      ]
     },
     "execution_count": 61,
     "metadata": {},
     "output_type": "execute_result"
    }
   ],
   "source": [
    "pp_wind.head()"
   ]
  },
  {
   "cell_type": "markdown",
   "id": "27955f9c",
   "metadata": {},
   "source": [
    "### Mosca Point"
   ]
  },
  {
   "cell_type": "code",
   "execution_count": 62,
   "id": "3b567695",
   "metadata": {},
   "outputs": [
    {
     "name": "stderr",
     "output_type": "stream",
     "text": [
      "/home/lukesmith194/.local/lib/python3.8/site-packages/pandas/core/frame.py:4901: SettingWithCopyWarning: \n",
      "A value is trying to be set on a copy of a slice from a DataFrame\n",
      "\n",
      "See the caveats in the documentation: https://pandas.pydata.org/pandas-docs/stable/user_guide/indexing.html#returning-a-view-versus-a-copy\n",
      "  return super().drop(\n",
      "/tmp/ipykernel_255/2679864717.py:5: SettingWithCopyWarning: \n",
      "A value is trying to be set on a copy of a slice from a DataFrame.\n",
      "Try using .loc[row_indexer,col_indexer] = value instead\n",
      "\n",
      "See the caveats in the documentation: https://pandas.pydata.org/pandas-docs/stable/user_guide/indexing.html#returning-a-view-versus-a-copy\n",
      "  mosca_wave[\"date\"] = pd.to_datetime(mosca_wave.date)\n",
      "/home/lukesmith194/.local/lib/python3.8/site-packages/pandas/core/frame.py:5034: SettingWithCopyWarning: \n",
      "A value is trying to be set on a copy of a slice from a DataFrame\n",
      "\n",
      "See the caveats in the documentation: https://pandas.pydata.org/pandas-docs/stable/user_guide/indexing.html#returning-a-view-versus-a-copy\n",
      "  return super().rename(\n"
     ]
    }
   ],
   "source": [
    "mosca_wave = height[height[\"Spot\"] == \"Mosca Point\"]\n",
    "\n",
    "mosca_wave.drop([\"Spot\"],axis=1,inplace = True)\n",
    "\n",
    "mosca_wave[\"date\"] = pd.to_datetime(mosca_wave.date)\n",
    "\n",
    "mosca_wave.rename(columns={\"date\": \"ds\", \"height_ft\": \"y\"},inplace = True)"
   ]
  },
  {
   "cell_type": "code",
   "execution_count": 63,
   "id": "c85e2b8a",
   "metadata": {},
   "outputs": [
    {
     "data": {
      "text/html": [
       "<div>\n",
       "<style scoped>\n",
       "    .dataframe tbody tr th:only-of-type {\n",
       "        vertical-align: middle;\n",
       "    }\n",
       "\n",
       "    .dataframe tbody tr th {\n",
       "        vertical-align: top;\n",
       "    }\n",
       "\n",
       "    .dataframe thead th {\n",
       "        text-align: right;\n",
       "    }\n",
       "</style>\n",
       "<table border=\"1\" class=\"dataframe\">\n",
       "  <thead>\n",
       "    <tr style=\"text-align: right;\">\n",
       "      <th></th>\n",
       "      <th>ds</th>\n",
       "      <th>y</th>\n",
       "    </tr>\n",
       "  </thead>\n",
       "  <tbody>\n",
       "    <tr>\n",
       "      <th>2</th>\n",
       "      <td>2018-01-01</td>\n",
       "      <td>3.666667</td>\n",
       "    </tr>\n",
       "    <tr>\n",
       "      <th>11</th>\n",
       "      <td>2018-01-02</td>\n",
       "      <td>7.666667</td>\n",
       "    </tr>\n",
       "    <tr>\n",
       "      <th>20</th>\n",
       "      <td>2018-01-03</td>\n",
       "      <td>1.100000</td>\n",
       "    </tr>\n",
       "    <tr>\n",
       "      <th>29</th>\n",
       "      <td>2018-01-04</td>\n",
       "      <td>4.833333</td>\n",
       "    </tr>\n",
       "    <tr>\n",
       "      <th>38</th>\n",
       "      <td>2018-01-05</td>\n",
       "      <td>2.666667</td>\n",
       "    </tr>\n",
       "  </tbody>\n",
       "</table>\n",
       "</div>"
      ],
      "text/plain": [
       "           ds         y\n",
       "2  2018-01-01  3.666667\n",
       "11 2018-01-02  7.666667\n",
       "20 2018-01-03  1.100000\n",
       "29 2018-01-04  4.833333\n",
       "38 2018-01-05  2.666667"
      ]
     },
     "execution_count": 63,
     "metadata": {},
     "output_type": "execute_result"
    }
   ],
   "source": [
    "mosca_wave.head()"
   ]
  },
  {
   "cell_type": "code",
   "execution_count": 64,
   "id": "51150456",
   "metadata": {},
   "outputs": [
    {
     "name": "stderr",
     "output_type": "stream",
     "text": [
      "/home/lukesmith194/.local/lib/python3.8/site-packages/pandas/core/frame.py:4901: SettingWithCopyWarning: \n",
      "A value is trying to be set on a copy of a slice from a DataFrame\n",
      "\n",
      "See the caveats in the documentation: https://pandas.pydata.org/pandas-docs/stable/user_guide/indexing.html#returning-a-view-versus-a-copy\n",
      "  return super().drop(\n",
      "/tmp/ipykernel_255/3770556371.py:5: SettingWithCopyWarning: \n",
      "A value is trying to be set on a copy of a slice from a DataFrame.\n",
      "Try using .loc[row_indexer,col_indexer] = value instead\n",
      "\n",
      "See the caveats in the documentation: https://pandas.pydata.org/pandas-docs/stable/user_guide/indexing.html#returning-a-view-versus-a-copy\n",
      "  mosca_wind[\"date\"] = pd.to_datetime(mosca_wind.date)\n",
      "/home/lukesmith194/.local/lib/python3.8/site-packages/pandas/core/frame.py:5034: SettingWithCopyWarning: \n",
      "A value is trying to be set on a copy of a slice from a DataFrame\n",
      "\n",
      "See the caveats in the documentation: https://pandas.pydata.org/pandas-docs/stable/user_guide/indexing.html#returning-a-view-versus-a-copy\n",
      "  return super().rename(\n"
     ]
    }
   ],
   "source": [
    "mosca_wind = wind[wind[\"Spot\"] == \"Mosca Point\"]\n",
    "\n",
    "mosca_wind.drop([\"Spot\"],axis=1,inplace = True)\n",
    "\n",
    "mosca_wind[\"date\"] = pd.to_datetime(mosca_wind.date)\n",
    "\n",
    "mosca_wind.rename(columns={\"date\": \"ds\", \"wind_kmh\": \"y\"},inplace = True)"
   ]
  },
  {
   "cell_type": "code",
   "execution_count": 65,
   "id": "c09ecd80",
   "metadata": {},
   "outputs": [
    {
     "data": {
      "text/html": [
       "<div>\n",
       "<style scoped>\n",
       "    .dataframe tbody tr th:only-of-type {\n",
       "        vertical-align: middle;\n",
       "    }\n",
       "\n",
       "    .dataframe tbody tr th {\n",
       "        vertical-align: top;\n",
       "    }\n",
       "\n",
       "    .dataframe thead th {\n",
       "        text-align: right;\n",
       "    }\n",
       "</style>\n",
       "<table border=\"1\" class=\"dataframe\">\n",
       "  <thead>\n",
       "    <tr style=\"text-align: right;\">\n",
       "      <th></th>\n",
       "      <th>ds</th>\n",
       "      <th>y</th>\n",
       "    </tr>\n",
       "  </thead>\n",
       "  <tbody>\n",
       "    <tr>\n",
       "      <th>2</th>\n",
       "      <td>2018-01-01</td>\n",
       "      <td>19.666667</td>\n",
       "    </tr>\n",
       "    <tr>\n",
       "      <th>11</th>\n",
       "      <td>2018-01-02</td>\n",
       "      <td>31.000000</td>\n",
       "    </tr>\n",
       "    <tr>\n",
       "      <th>20</th>\n",
       "      <td>2018-01-03</td>\n",
       "      <td>30.333333</td>\n",
       "    </tr>\n",
       "    <tr>\n",
       "      <th>29</th>\n",
       "      <td>2018-01-04</td>\n",
       "      <td>4.000000</td>\n",
       "    </tr>\n",
       "    <tr>\n",
       "      <th>38</th>\n",
       "      <td>2018-01-05</td>\n",
       "      <td>18.333333</td>\n",
       "    </tr>\n",
       "  </tbody>\n",
       "</table>\n",
       "</div>"
      ],
      "text/plain": [
       "           ds          y\n",
       "2  2018-01-01  19.666667\n",
       "11 2018-01-02  31.000000\n",
       "20 2018-01-03  30.333333\n",
       "29 2018-01-04   4.000000\n",
       "38 2018-01-05  18.333333"
      ]
     },
     "execution_count": 65,
     "metadata": {},
     "output_type": "execute_result"
    }
   ],
   "source": [
    "mosca_wind.head()"
   ]
  },
  {
   "cell_type": "markdown",
   "id": "fc3546fb",
   "metadata": {},
   "source": [
    "### Tauro"
   ]
  },
  {
   "cell_type": "code",
   "execution_count": 66,
   "id": "6a3a0ae2",
   "metadata": {},
   "outputs": [
    {
     "name": "stderr",
     "output_type": "stream",
     "text": [
      "/home/lukesmith194/.local/lib/python3.8/site-packages/pandas/core/frame.py:4901: SettingWithCopyWarning: \n",
      "A value is trying to be set on a copy of a slice from a DataFrame\n",
      "\n",
      "See the caveats in the documentation: https://pandas.pydata.org/pandas-docs/stable/user_guide/indexing.html#returning-a-view-versus-a-copy\n",
      "  return super().drop(\n",
      "/tmp/ipykernel_255/4050543017.py:5: SettingWithCopyWarning: \n",
      "A value is trying to be set on a copy of a slice from a DataFrame.\n",
      "Try using .loc[row_indexer,col_indexer] = value instead\n",
      "\n",
      "See the caveats in the documentation: https://pandas.pydata.org/pandas-docs/stable/user_guide/indexing.html#returning-a-view-versus-a-copy\n",
      "  tauro_wave[\"date\"] = pd.to_datetime(tauro_wave.date)\n",
      "/home/lukesmith194/.local/lib/python3.8/site-packages/pandas/core/frame.py:5034: SettingWithCopyWarning: \n",
      "A value is trying to be set on a copy of a slice from a DataFrame\n",
      "\n",
      "See the caveats in the documentation: https://pandas.pydata.org/pandas-docs/stable/user_guide/indexing.html#returning-a-view-versus-a-copy\n",
      "  return super().rename(\n"
     ]
    }
   ],
   "source": [
    "tauro_wave = height[height[\"Spot\"] == \"Tauro\"]\n",
    "\n",
    "tauro_wave.drop([\"Spot\"],axis=1,inplace = True)\n",
    "\n",
    "tauro_wave[\"date\"] = pd.to_datetime(tauro_wave.date)\n",
    "\n",
    "tauro_wave.rename(columns={\"date\": \"ds\", \"height_ft\": \"y\"},inplace = True)"
   ]
  },
  {
   "cell_type": "code",
   "execution_count": 67,
   "id": "40e5d06f",
   "metadata": {},
   "outputs": [
    {
     "data": {
      "text/html": [
       "<div>\n",
       "<style scoped>\n",
       "    .dataframe tbody tr th:only-of-type {\n",
       "        vertical-align: middle;\n",
       "    }\n",
       "\n",
       "    .dataframe tbody tr th {\n",
       "        vertical-align: top;\n",
       "    }\n",
       "\n",
       "    .dataframe thead th {\n",
       "        text-align: right;\n",
       "    }\n",
       "</style>\n",
       "<table border=\"1\" class=\"dataframe\">\n",
       "  <thead>\n",
       "    <tr style=\"text-align: right;\">\n",
       "      <th></th>\n",
       "      <th>ds</th>\n",
       "      <th>y</th>\n",
       "    </tr>\n",
       "  </thead>\n",
       "  <tbody>\n",
       "    <tr>\n",
       "      <th>7</th>\n",
       "      <td>2018-01-01</td>\n",
       "      <td>1.066667</td>\n",
       "    </tr>\n",
       "    <tr>\n",
       "      <th>16</th>\n",
       "      <td>2018-01-02</td>\n",
       "      <td>0.500000</td>\n",
       "    </tr>\n",
       "    <tr>\n",
       "      <th>25</th>\n",
       "      <td>2018-01-03</td>\n",
       "      <td>9.333333</td>\n",
       "    </tr>\n",
       "    <tr>\n",
       "      <th>34</th>\n",
       "      <td>2018-01-04</td>\n",
       "      <td>1.366667</td>\n",
       "    </tr>\n",
       "    <tr>\n",
       "      <th>43</th>\n",
       "      <td>2018-01-05</td>\n",
       "      <td>1.033333</td>\n",
       "    </tr>\n",
       "  </tbody>\n",
       "</table>\n",
       "</div>"
      ],
      "text/plain": [
       "           ds         y\n",
       "7  2018-01-01  1.066667\n",
       "16 2018-01-02  0.500000\n",
       "25 2018-01-03  9.333333\n",
       "34 2018-01-04  1.366667\n",
       "43 2018-01-05  1.033333"
      ]
     },
     "execution_count": 67,
     "metadata": {},
     "output_type": "execute_result"
    }
   ],
   "source": [
    "tauro_wave.head()"
   ]
  },
  {
   "cell_type": "code",
   "execution_count": 68,
   "id": "f5087742",
   "metadata": {},
   "outputs": [
    {
     "name": "stderr",
     "output_type": "stream",
     "text": [
      "/home/lukesmith194/.local/lib/python3.8/site-packages/pandas/core/frame.py:4901: SettingWithCopyWarning: \n",
      "A value is trying to be set on a copy of a slice from a DataFrame\n",
      "\n",
      "See the caveats in the documentation: https://pandas.pydata.org/pandas-docs/stable/user_guide/indexing.html#returning-a-view-versus-a-copy\n",
      "  return super().drop(\n",
      "/tmp/ipykernel_255/90605532.py:5: SettingWithCopyWarning: \n",
      "A value is trying to be set on a copy of a slice from a DataFrame.\n",
      "Try using .loc[row_indexer,col_indexer] = value instead\n",
      "\n",
      "See the caveats in the documentation: https://pandas.pydata.org/pandas-docs/stable/user_guide/indexing.html#returning-a-view-versus-a-copy\n",
      "  tauro_wind[\"date\"] = pd.to_datetime(tauro_wind.date)\n",
      "/home/lukesmith194/.local/lib/python3.8/site-packages/pandas/core/frame.py:5034: SettingWithCopyWarning: \n",
      "A value is trying to be set on a copy of a slice from a DataFrame\n",
      "\n",
      "See the caveats in the documentation: https://pandas.pydata.org/pandas-docs/stable/user_guide/indexing.html#returning-a-view-versus-a-copy\n",
      "  return super().rename(\n"
     ]
    }
   ],
   "source": [
    "tauro_wind = wind[wind[\"Spot\"] == \"Tauro\"]\n",
    "\n",
    "tauro_wind.drop([\"Spot\"],axis=1,inplace = True)\n",
    "\n",
    "tauro_wind[\"date\"] = pd.to_datetime(tauro_wind.date)\n",
    "\n",
    "tauro_wind.rename(columns={\"date\": \"ds\", \"wind_kmh\": \"y\"},inplace = True)"
   ]
  },
  {
   "cell_type": "code",
   "execution_count": 69,
   "id": "d4f635a5",
   "metadata": {},
   "outputs": [
    {
     "data": {
      "text/html": [
       "<div>\n",
       "<style scoped>\n",
       "    .dataframe tbody tr th:only-of-type {\n",
       "        vertical-align: middle;\n",
       "    }\n",
       "\n",
       "    .dataframe tbody tr th {\n",
       "        vertical-align: top;\n",
       "    }\n",
       "\n",
       "    .dataframe thead th {\n",
       "        text-align: right;\n",
       "    }\n",
       "</style>\n",
       "<table border=\"1\" class=\"dataframe\">\n",
       "  <thead>\n",
       "    <tr style=\"text-align: right;\">\n",
       "      <th></th>\n",
       "      <th>ds</th>\n",
       "      <th>y</th>\n",
       "    </tr>\n",
       "  </thead>\n",
       "  <tbody>\n",
       "    <tr>\n",
       "      <th>7</th>\n",
       "      <td>2018-01-01</td>\n",
       "      <td>19.666667</td>\n",
       "    </tr>\n",
       "    <tr>\n",
       "      <th>16</th>\n",
       "      <td>2018-01-02</td>\n",
       "      <td>31.000000</td>\n",
       "    </tr>\n",
       "    <tr>\n",
       "      <th>25</th>\n",
       "      <td>2018-01-03</td>\n",
       "      <td>30.333333</td>\n",
       "    </tr>\n",
       "    <tr>\n",
       "      <th>34</th>\n",
       "      <td>2018-01-04</td>\n",
       "      <td>4.000000</td>\n",
       "    </tr>\n",
       "    <tr>\n",
       "      <th>43</th>\n",
       "      <td>2018-01-05</td>\n",
       "      <td>18.333333</td>\n",
       "    </tr>\n",
       "  </tbody>\n",
       "</table>\n",
       "</div>"
      ],
      "text/plain": [
       "           ds          y\n",
       "7  2018-01-01  19.666667\n",
       "16 2018-01-02  31.000000\n",
       "25 2018-01-03  30.333333\n",
       "34 2018-01-04   4.000000\n",
       "43 2018-01-05  18.333333"
      ]
     },
     "execution_count": 69,
     "metadata": {},
     "output_type": "execute_result"
    }
   ],
   "source": [
    "tauro_wind.head()"
   ]
  },
  {
   "cell_type": "markdown",
   "id": "217bac1f",
   "metadata": {},
   "source": [
    "### Mundaka"
   ]
  },
  {
   "cell_type": "code",
   "execution_count": 70,
   "id": "a5bc6dbc",
   "metadata": {},
   "outputs": [
    {
     "name": "stderr",
     "output_type": "stream",
     "text": [
      "/home/lukesmith194/.local/lib/python3.8/site-packages/pandas/core/frame.py:4901: SettingWithCopyWarning: \n",
      "A value is trying to be set on a copy of a slice from a DataFrame\n",
      "\n",
      "See the caveats in the documentation: https://pandas.pydata.org/pandas-docs/stable/user_guide/indexing.html#returning-a-view-versus-a-copy\n",
      "  return super().drop(\n",
      "/tmp/ipykernel_255/1050220756.py:5: SettingWithCopyWarning: \n",
      "A value is trying to be set on a copy of a slice from a DataFrame.\n",
      "Try using .loc[row_indexer,col_indexer] = value instead\n",
      "\n",
      "See the caveats in the documentation: https://pandas.pydata.org/pandas-docs/stable/user_guide/indexing.html#returning-a-view-versus-a-copy\n",
      "  mundaka_wave[\"date\"] = pd.to_datetime(mundaka_wave.date)\n",
      "/home/lukesmith194/.local/lib/python3.8/site-packages/pandas/core/frame.py:5034: SettingWithCopyWarning: \n",
      "A value is trying to be set on a copy of a slice from a DataFrame\n",
      "\n",
      "See the caveats in the documentation: https://pandas.pydata.org/pandas-docs/stable/user_guide/indexing.html#returning-a-view-versus-a-copy\n",
      "  return super().rename(\n"
     ]
    }
   ],
   "source": [
    "mundaka_wave = height[height[\"Spot\"] == \"Mundaka\"]\n",
    "\n",
    "mundaka_wave.drop([\"Spot\"],axis=1,inplace = True)\n",
    "\n",
    "mundaka_wave[\"date\"] = pd.to_datetime(mundaka_wave.date)\n",
    "\n",
    "mundaka_wave.rename(columns={\"date\": \"ds\", \"height_ft\": \"y\"},inplace = True)"
   ]
  },
  {
   "cell_type": "code",
   "execution_count": 71,
   "id": "262da76b",
   "metadata": {},
   "outputs": [
    {
     "data": {
      "text/html": [
       "<div>\n",
       "<style scoped>\n",
       "    .dataframe tbody tr th:only-of-type {\n",
       "        vertical-align: middle;\n",
       "    }\n",
       "\n",
       "    .dataframe tbody tr th {\n",
       "        vertical-align: top;\n",
       "    }\n",
       "\n",
       "    .dataframe thead th {\n",
       "        text-align: right;\n",
       "    }\n",
       "</style>\n",
       "<table border=\"1\" class=\"dataframe\">\n",
       "  <thead>\n",
       "    <tr style=\"text-align: right;\">\n",
       "      <th></th>\n",
       "      <th>ds</th>\n",
       "      <th>y</th>\n",
       "    </tr>\n",
       "  </thead>\n",
       "  <tbody>\n",
       "    <tr>\n",
       "      <th>3288</th>\n",
       "      <td>2019-01-01</td>\n",
       "      <td>0.966667</td>\n",
       "    </tr>\n",
       "    <tr>\n",
       "      <th>3298</th>\n",
       "      <td>2019-01-02</td>\n",
       "      <td>12.000000</td>\n",
       "    </tr>\n",
       "    <tr>\n",
       "      <th>3308</th>\n",
       "      <td>2019-01-03</td>\n",
       "      <td>3.666667</td>\n",
       "    </tr>\n",
       "    <tr>\n",
       "      <th>3318</th>\n",
       "      <td>2019-01-04</td>\n",
       "      <td>4.000000</td>\n",
       "    </tr>\n",
       "    <tr>\n",
       "      <th>3328</th>\n",
       "      <td>2019-01-05</td>\n",
       "      <td>3.000000</td>\n",
       "    </tr>\n",
       "  </tbody>\n",
       "</table>\n",
       "</div>"
      ],
      "text/plain": [
       "             ds          y\n",
       "3288 2019-01-01   0.966667\n",
       "3298 2019-01-02  12.000000\n",
       "3308 2019-01-03   3.666667\n",
       "3318 2019-01-04   4.000000\n",
       "3328 2019-01-05   3.000000"
      ]
     },
     "execution_count": 71,
     "metadata": {},
     "output_type": "execute_result"
    }
   ],
   "source": [
    "mundaka_wave.head()"
   ]
  },
  {
   "cell_type": "code",
   "execution_count": 72,
   "id": "d7967675",
   "metadata": {},
   "outputs": [
    {
     "name": "stderr",
     "output_type": "stream",
     "text": [
      "/home/lukesmith194/.local/lib/python3.8/site-packages/pandas/core/frame.py:4901: SettingWithCopyWarning: \n",
      "A value is trying to be set on a copy of a slice from a DataFrame\n",
      "\n",
      "See the caveats in the documentation: https://pandas.pydata.org/pandas-docs/stable/user_guide/indexing.html#returning-a-view-versus-a-copy\n",
      "  return super().drop(\n",
      "/tmp/ipykernel_255/2619991192.py:5: SettingWithCopyWarning: \n",
      "A value is trying to be set on a copy of a slice from a DataFrame.\n",
      "Try using .loc[row_indexer,col_indexer] = value instead\n",
      "\n",
      "See the caveats in the documentation: https://pandas.pydata.org/pandas-docs/stable/user_guide/indexing.html#returning-a-view-versus-a-copy\n",
      "  mundaka_wind[\"date\"] = pd.to_datetime(mundaka_wind.date)\n",
      "/home/lukesmith194/.local/lib/python3.8/site-packages/pandas/core/frame.py:5034: SettingWithCopyWarning: \n",
      "A value is trying to be set on a copy of a slice from a DataFrame\n",
      "\n",
      "See the caveats in the documentation: https://pandas.pydata.org/pandas-docs/stable/user_guide/indexing.html#returning-a-view-versus-a-copy\n",
      "  return super().rename(\n"
     ]
    }
   ],
   "source": [
    "mundaka_wind = wind[wind[\"Spot\"] == \"Mundaka\"]\n",
    "\n",
    "mundaka_wind.drop([\"Spot\"],axis=1,inplace = True)\n",
    "\n",
    "mundaka_wind[\"date\"] = pd.to_datetime(mundaka_wind.date)\n",
    "\n",
    "mundaka_wind.rename(columns={\"date\": \"ds\", \"wind_kmh\": \"y\"},inplace = True)"
   ]
  },
  {
   "cell_type": "code",
   "execution_count": 73,
   "id": "840ecc89",
   "metadata": {},
   "outputs": [
    {
     "data": {
      "text/html": [
       "<div>\n",
       "<style scoped>\n",
       "    .dataframe tbody tr th:only-of-type {\n",
       "        vertical-align: middle;\n",
       "    }\n",
       "\n",
       "    .dataframe tbody tr th {\n",
       "        vertical-align: top;\n",
       "    }\n",
       "\n",
       "    .dataframe thead th {\n",
       "        text-align: right;\n",
       "    }\n",
       "</style>\n",
       "<table border=\"1\" class=\"dataframe\">\n",
       "  <thead>\n",
       "    <tr style=\"text-align: right;\">\n",
       "      <th></th>\n",
       "      <th>Spot</th>\n",
       "      <th>date</th>\n",
       "      <th>time</th>\n",
       "      <th>range</th>\n",
       "      <th>height_ft</th>\n",
       "      <th>swell_dir</th>\n",
       "      <th>swell_angle</th>\n",
       "      <th>period_sec</th>\n",
       "      <th>wind_kmh</th>\n",
       "      <th>wind_dir</th>\n",
       "      <th>wind</th>\n",
       "      <th>wind_angle</th>\n",
       "      <th>temp_°c</th>\n",
       "      <th>Conditions</th>\n",
       "    </tr>\n",
       "  </thead>\n",
       "  <tbody>\n",
       "    <tr>\n",
       "      <th>0</th>\n",
       "      <td>Nazare</td>\n",
       "      <td>2018-01-01</td>\n",
       "      <td>6am</td>\n",
       "      <td>20-30ft</td>\n",
       "      <td>15.5</td>\n",
       "      <td>WNW</td>\n",
       "      <td>292</td>\n",
       "      <td>15</td>\n",
       "      <td>6</td>\n",
       "      <td>S</td>\n",
       "      <td>Cross/Offshore</td>\n",
       "      <td>186</td>\n",
       "      <td>8</td>\n",
       "      <td>Good</td>\n",
       "    </tr>\n",
       "    <tr>\n",
       "      <th>1</th>\n",
       "      <td>Nazare</td>\n",
       "      <td>2018-01-01</td>\n",
       "      <td>12pm</td>\n",
       "      <td>18-28ft</td>\n",
       "      <td>14.5</td>\n",
       "      <td>WNW</td>\n",
       "      <td>292</td>\n",
       "      <td>15</td>\n",
       "      <td>14</td>\n",
       "      <td>W</td>\n",
       "      <td>Onshore</td>\n",
       "      <td>277</td>\n",
       "      <td>15</td>\n",
       "      <td>Good</td>\n",
       "    </tr>\n",
       "    <tr>\n",
       "      <th>2</th>\n",
       "      <td>Nazare</td>\n",
       "      <td>2018-01-01</td>\n",
       "      <td>6pm</td>\n",
       "      <td>18-26ft</td>\n",
       "      <td>13.5</td>\n",
       "      <td>WNW</td>\n",
       "      <td>293</td>\n",
       "      <td>14</td>\n",
       "      <td>6</td>\n",
       "      <td>WSW</td>\n",
       "      <td>Onshore</td>\n",
       "      <td>253</td>\n",
       "      <td>11</td>\n",
       "      <td>Good</td>\n",
       "    </tr>\n",
       "    <tr>\n",
       "      <th>3</th>\n",
       "      <td>Nazare</td>\n",
       "      <td>2018-02-01</td>\n",
       "      <td>6am</td>\n",
       "      <td>16-26ft</td>\n",
       "      <td>12.5</td>\n",
       "      <td>WNW</td>\n",
       "      <td>297</td>\n",
       "      <td>14</td>\n",
       "      <td>5</td>\n",
       "      <td>SSW</td>\n",
       "      <td>Cross-shore</td>\n",
       "      <td>207</td>\n",
       "      <td>10</td>\n",
       "      <td>Good</td>\n",
       "    </tr>\n",
       "    <tr>\n",
       "      <th>4</th>\n",
       "      <td>Nazare</td>\n",
       "      <td>2018-02-01</td>\n",
       "      <td>12pm</td>\n",
       "      <td>14-24ft</td>\n",
       "      <td>11.5</td>\n",
       "      <td>WNW</td>\n",
       "      <td>297</td>\n",
       "      <td>14</td>\n",
       "      <td>11</td>\n",
       "      <td>WSW</td>\n",
       "      <td>Onshore</td>\n",
       "      <td>258</td>\n",
       "      <td>16</td>\n",
       "      <td>Good</td>\n",
       "    </tr>\n",
       "  </tbody>\n",
       "</table>\n",
       "</div>"
      ],
      "text/plain": [
       "     Spot        date  time    range  height_ft swell_dir  swell_angle  \\\n",
       "0  Nazare  2018-01-01   6am  20-30ft       15.5       WNW          292   \n",
       "1  Nazare  2018-01-01  12pm  18-28ft       14.5       WNW          292   \n",
       "2  Nazare  2018-01-01   6pm  18-26ft       13.5       WNW          293   \n",
       "3  Nazare  2018-02-01   6am  16-26ft       12.5       WNW          297   \n",
       "4  Nazare  2018-02-01  12pm  14-24ft       11.5       WNW          297   \n",
       "\n",
       "   period_sec  wind_kmh wind_dir            wind  wind_angle  temp_°c  \\\n",
       "0          15         6        S  Cross/Offshore         186        8   \n",
       "1          15        14        W         Onshore         277       15   \n",
       "2          14         6      WSW         Onshore         253       11   \n",
       "3          14         5      SSW     Cross-shore         207       10   \n",
       "4          14        11      WSW         Onshore         258       16   \n",
       "\n",
       "  Conditions  \n",
       "0       Good  \n",
       "1       Good  \n",
       "2       Good  \n",
       "3       Good  \n",
       "4       Good  "
      ]
     },
     "execution_count": 73,
     "metadata": {},
     "output_type": "execute_result"
    }
   ],
   "source": [
    "full.head()"
   ]
  },
  {
   "cell_type": "code",
   "execution_count": 74,
   "id": "c8b3c889",
   "metadata": {},
   "outputs": [
    {
     "data": {
      "text/html": [
       "<div>\n",
       "<style scoped>\n",
       "    .dataframe tbody tr th:only-of-type {\n",
       "        vertical-align: middle;\n",
       "    }\n",
       "\n",
       "    .dataframe tbody tr th {\n",
       "        vertical-align: top;\n",
       "    }\n",
       "\n",
       "    .dataframe thead th {\n",
       "        text-align: right;\n",
       "    }\n",
       "</style>\n",
       "<table border=\"1\" class=\"dataframe\">\n",
       "  <thead>\n",
       "    <tr style=\"text-align: right;\">\n",
       "      <th></th>\n",
       "      <th>ds</th>\n",
       "      <th>y</th>\n",
       "    </tr>\n",
       "  </thead>\n",
       "  <tbody>\n",
       "    <tr>\n",
       "      <th>3288</th>\n",
       "      <td>2019-01-01</td>\n",
       "      <td>3.666667</td>\n",
       "    </tr>\n",
       "    <tr>\n",
       "      <th>3298</th>\n",
       "      <td>2019-01-02</td>\n",
       "      <td>24.333333</td>\n",
       "    </tr>\n",
       "    <tr>\n",
       "      <th>3308</th>\n",
       "      <td>2019-01-03</td>\n",
       "      <td>4.000000</td>\n",
       "    </tr>\n",
       "    <tr>\n",
       "      <th>3318</th>\n",
       "      <td>2019-01-04</td>\n",
       "      <td>8.333333</td>\n",
       "    </tr>\n",
       "    <tr>\n",
       "      <th>3328</th>\n",
       "      <td>2019-01-05</td>\n",
       "      <td>13.000000</td>\n",
       "    </tr>\n",
       "  </tbody>\n",
       "</table>\n",
       "</div>"
      ],
      "text/plain": [
       "             ds          y\n",
       "3288 2019-01-01   3.666667\n",
       "3298 2019-01-02  24.333333\n",
       "3308 2019-01-03   4.000000\n",
       "3318 2019-01-04   8.333333\n",
       "3328 2019-01-05  13.000000"
      ]
     },
     "execution_count": 74,
     "metadata": {},
     "output_type": "execute_result"
    }
   ],
   "source": [
    "mundaka_wind.head()"
   ]
  },
  {
   "cell_type": "code",
   "execution_count": 75,
   "id": "2fdb20f0",
   "metadata": {},
   "outputs": [
    {
     "data": {
      "text/html": [
       "<div>\n",
       "<style scoped>\n",
       "    .dataframe tbody tr th:only-of-type {\n",
       "        vertical-align: middle;\n",
       "    }\n",
       "\n",
       "    .dataframe tbody tr th {\n",
       "        vertical-align: top;\n",
       "    }\n",
       "\n",
       "    .dataframe thead th {\n",
       "        text-align: right;\n",
       "    }\n",
       "</style>\n",
       "<table border=\"1\" class=\"dataframe\">\n",
       "  <thead>\n",
       "    <tr style=\"text-align: right;\">\n",
       "      <th></th>\n",
       "      <th>Spot</th>\n",
       "      <th>date</th>\n",
       "      <th>time</th>\n",
       "      <th>range</th>\n",
       "      <th>height_ft</th>\n",
       "      <th>swell_dir</th>\n",
       "      <th>swell_angle</th>\n",
       "      <th>period_sec</th>\n",
       "      <th>wind_kmh</th>\n",
       "      <th>wind_dir</th>\n",
       "      <th>wind</th>\n",
       "      <th>wind_angle</th>\n",
       "      <th>temp_°c</th>\n",
       "      <th>Conditions</th>\n",
       "    </tr>\n",
       "  </thead>\n",
       "  <tbody>\n",
       "    <tr>\n",
       "      <th>0</th>\n",
       "      <td>Nazare</td>\n",
       "      <td>2018-01-01</td>\n",
       "      <td>6am</td>\n",
       "      <td>20-30ft</td>\n",
       "      <td>15.5</td>\n",
       "      <td>WNW</td>\n",
       "      <td>292</td>\n",
       "      <td>15</td>\n",
       "      <td>6</td>\n",
       "      <td>S</td>\n",
       "      <td>Cross/Offshore</td>\n",
       "      <td>186</td>\n",
       "      <td>8</td>\n",
       "      <td>Good</td>\n",
       "    </tr>\n",
       "    <tr>\n",
       "      <th>1</th>\n",
       "      <td>Nazare</td>\n",
       "      <td>2018-01-01</td>\n",
       "      <td>12pm</td>\n",
       "      <td>18-28ft</td>\n",
       "      <td>14.5</td>\n",
       "      <td>WNW</td>\n",
       "      <td>292</td>\n",
       "      <td>15</td>\n",
       "      <td>14</td>\n",
       "      <td>W</td>\n",
       "      <td>Onshore</td>\n",
       "      <td>277</td>\n",
       "      <td>15</td>\n",
       "      <td>Good</td>\n",
       "    </tr>\n",
       "    <tr>\n",
       "      <th>2</th>\n",
       "      <td>Nazare</td>\n",
       "      <td>2018-01-01</td>\n",
       "      <td>6pm</td>\n",
       "      <td>18-26ft</td>\n",
       "      <td>13.5</td>\n",
       "      <td>WNW</td>\n",
       "      <td>293</td>\n",
       "      <td>14</td>\n",
       "      <td>6</td>\n",
       "      <td>WSW</td>\n",
       "      <td>Onshore</td>\n",
       "      <td>253</td>\n",
       "      <td>11</td>\n",
       "      <td>Good</td>\n",
       "    </tr>\n",
       "    <tr>\n",
       "      <th>3</th>\n",
       "      <td>Nazare</td>\n",
       "      <td>2018-02-01</td>\n",
       "      <td>6am</td>\n",
       "      <td>16-26ft</td>\n",
       "      <td>12.5</td>\n",
       "      <td>WNW</td>\n",
       "      <td>297</td>\n",
       "      <td>14</td>\n",
       "      <td>5</td>\n",
       "      <td>SSW</td>\n",
       "      <td>Cross-shore</td>\n",
       "      <td>207</td>\n",
       "      <td>10</td>\n",
       "      <td>Good</td>\n",
       "    </tr>\n",
       "    <tr>\n",
       "      <th>4</th>\n",
       "      <td>Nazare</td>\n",
       "      <td>2018-02-01</td>\n",
       "      <td>12pm</td>\n",
       "      <td>14-24ft</td>\n",
       "      <td>11.5</td>\n",
       "      <td>WNW</td>\n",
       "      <td>297</td>\n",
       "      <td>14</td>\n",
       "      <td>11</td>\n",
       "      <td>WSW</td>\n",
       "      <td>Onshore</td>\n",
       "      <td>258</td>\n",
       "      <td>16</td>\n",
       "      <td>Good</td>\n",
       "    </tr>\n",
       "    <tr>\n",
       "      <th>...</th>\n",
       "      <td>...</td>\n",
       "      <td>...</td>\n",
       "      <td>...</td>\n",
       "      <td>...</td>\n",
       "      <td>...</td>\n",
       "      <td>...</td>\n",
       "      <td>...</td>\n",
       "      <td>...</td>\n",
       "      <td>...</td>\n",
       "      <td>...</td>\n",
       "      <td>...</td>\n",
       "      <td>...</td>\n",
       "      <td>...</td>\n",
       "      <td>...</td>\n",
       "    </tr>\n",
       "    <tr>\n",
       "      <th>32875</th>\n",
       "      <td>Tauro</td>\n",
       "      <td>2020-12-30</td>\n",
       "      <td>12pm</td>\n",
       "      <td>1ft</td>\n",
       "      <td>0.6</td>\n",
       "      <td>SSW</td>\n",
       "      <td>203</td>\n",
       "      <td>13</td>\n",
       "      <td>4</td>\n",
       "      <td>SSE</td>\n",
       "      <td>Cross/Onshore</td>\n",
       "      <td>154</td>\n",
       "      <td>18</td>\n",
       "      <td>Epic</td>\n",
       "    </tr>\n",
       "    <tr>\n",
       "      <th>32876</th>\n",
       "      <td>Tauro</td>\n",
       "      <td>2020-12-30</td>\n",
       "      <td>6pm</td>\n",
       "      <td>1ft</td>\n",
       "      <td>0.7</td>\n",
       "      <td>SSW</td>\n",
       "      <td>203</td>\n",
       "      <td>13</td>\n",
       "      <td>2</td>\n",
       "      <td>SW</td>\n",
       "      <td>Onshore</td>\n",
       "      <td>228</td>\n",
       "      <td>18</td>\n",
       "      <td>Epic</td>\n",
       "    </tr>\n",
       "    <tr>\n",
       "      <th>32877</th>\n",
       "      <td>Tauro</td>\n",
       "      <td>2020-12-31</td>\n",
       "      <td>6am</td>\n",
       "      <td>1-2ft</td>\n",
       "      <td>0.9</td>\n",
       "      <td>SSW</td>\n",
       "      <td>202</td>\n",
       "      <td>12</td>\n",
       "      <td>5</td>\n",
       "      <td>N</td>\n",
       "      <td>Offshore</td>\n",
       "      <td>349</td>\n",
       "      <td>17</td>\n",
       "      <td>Epic</td>\n",
       "    </tr>\n",
       "    <tr>\n",
       "      <th>32878</th>\n",
       "      <td>Tauro</td>\n",
       "      <td>2020-12-31</td>\n",
       "      <td>12pm</td>\n",
       "      <td>1-2ft</td>\n",
       "      <td>1.0</td>\n",
       "      <td>SSW</td>\n",
       "      <td>203</td>\n",
       "      <td>12</td>\n",
       "      <td>3</td>\n",
       "      <td>SSW</td>\n",
       "      <td>Onshore</td>\n",
       "      <td>207</td>\n",
       "      <td>19</td>\n",
       "      <td>Epic</td>\n",
       "    </tr>\n",
       "    <tr>\n",
       "      <th>32879</th>\n",
       "      <td>Tauro</td>\n",
       "      <td>2020-12-31</td>\n",
       "      <td>6pm</td>\n",
       "      <td>1ft</td>\n",
       "      <td>0.8</td>\n",
       "      <td>SSW</td>\n",
       "      <td>202</td>\n",
       "      <td>12</td>\n",
       "      <td>4</td>\n",
       "      <td>SE</td>\n",
       "      <td>Cross/Onshore</td>\n",
       "      <td>146</td>\n",
       "      <td>18</td>\n",
       "      <td>Epic</td>\n",
       "    </tr>\n",
       "  </tbody>\n",
       "</table>\n",
       "<p>32880 rows × 14 columns</p>\n",
       "</div>"
      ],
      "text/plain": [
       "         Spot        date  time    range  height_ft swell_dir  swell_angle  \\\n",
       "0      Nazare  2018-01-01   6am  20-30ft       15.5       WNW          292   \n",
       "1      Nazare  2018-01-01  12pm  18-28ft       14.5       WNW          292   \n",
       "2      Nazare  2018-01-01   6pm  18-26ft       13.5       WNW          293   \n",
       "3      Nazare  2018-02-01   6am  16-26ft       12.5       WNW          297   \n",
       "4      Nazare  2018-02-01  12pm  14-24ft       11.5       WNW          297   \n",
       "...       ...         ...   ...      ...        ...       ...          ...   \n",
       "32875   Tauro  2020-12-30  12pm      1ft        0.6       SSW          203   \n",
       "32876   Tauro  2020-12-30   6pm      1ft        0.7       SSW          203   \n",
       "32877   Tauro  2020-12-31   6am    1-2ft        0.9       SSW          202   \n",
       "32878   Tauro  2020-12-31  12pm    1-2ft        1.0       SSW          203   \n",
       "32879   Tauro  2020-12-31   6pm      1ft        0.8       SSW          202   \n",
       "\n",
       "       period_sec  wind_kmh wind_dir            wind  wind_angle  temp_°c  \\\n",
       "0              15         6        S  Cross/Offshore         186        8   \n",
       "1              15        14        W         Onshore         277       15   \n",
       "2              14         6      WSW         Onshore         253       11   \n",
       "3              14         5      SSW     Cross-shore         207       10   \n",
       "4              14        11      WSW         Onshore         258       16   \n",
       "...           ...       ...      ...             ...         ...      ...   \n",
       "32875          13         4      SSE   Cross/Onshore         154       18   \n",
       "32876          13         2       SW         Onshore         228       18   \n",
       "32877          12         5        N        Offshore         349       17   \n",
       "32878          12         3      SSW         Onshore         207       19   \n",
       "32879          12         4       SE   Cross/Onshore         146       18   \n",
       "\n",
       "      Conditions  \n",
       "0           Good  \n",
       "1           Good  \n",
       "2           Good  \n",
       "3           Good  \n",
       "4           Good  \n",
       "...          ...  \n",
       "32875       Epic  \n",
       "32876       Epic  \n",
       "32877       Epic  \n",
       "32878       Epic  \n",
       "32879       Epic  \n",
       "\n",
       "[32880 rows x 14 columns]"
      ]
     },
     "execution_count": 75,
     "metadata": {},
     "output_type": "execute_result"
    }
   ],
   "source": [
    "full"
   ]
  },
  {
   "cell_type": "code",
   "execution_count": 76,
   "id": "22f4b6b9",
   "metadata": {},
   "outputs": [],
   "source": [
    "def apply_condi_naz(string):\n",
    "    if int(string[5:7]) in ([10,11,3]) :\n",
    "        return \"Epic\"\n",
    "    elif int(string[5:7]) in([9,12,1,2]):\n",
    "        return \"Good\"\n",
    "    elif int(string[5:7]) in ([4]):\n",
    "        return \"Mediocre\"\n",
    "    else:\n",
    "        return \"Not recommended\""
   ]
  },
  {
   "cell_type": "code",
   "execution_count": 77,
   "id": "eb9df332",
   "metadata": {},
   "outputs": [],
   "source": [
    "def apply_condi_pip(string):\n",
    "    if int(string[5:7]) in ([11,12,1,2]) :\n",
    "        return \"Epic\"\n",
    "    elif int(string[5:7]) in([10,3]):\n",
    "        return \"Good\"\n",
    "    elif int(string[5:7]) in ([9]):\n",
    "        return \"Mediocre\"\n",
    "    else:\n",
    "        return \"Not recommended\""
   ]
  },
  {
   "cell_type": "code",
   "execution_count": 78,
   "id": "5a6b963f",
   "metadata": {},
   "outputs": [],
   "source": [
    "def apply_condi_mun(string):\n",
    "    if int(string[5:7]) in ([12,1]) :\n",
    "        return \"Epic\"\n",
    "    elif int(string[5:7]) in([10,11,2,3]):\n",
    "        return \"Good\"\n",
    "    elif int(string[5:7]) in ([9]):\n",
    "        return \"Mediocre\"\n",
    "    else:\n",
    "        return \"Not recommended\""
   ]
  },
  {
   "cell_type": "code",
   "execution_count": 79,
   "id": "c534194c",
   "metadata": {},
   "outputs": [],
   "source": [
    "def apply_condi_fron(string):\n",
    "    if int(string[5:7]) in ([10,11,12,1]) :\n",
    "        return \"Epic\"\n",
    "    elif int(string[5:7]) in([2,3]):\n",
    "        return \"Good\"\n",
    "    elif int(string[5:7]) in ([9]):\n",
    "        return \"Mediocre\"\n",
    "    else:\n",
    "        return \"Not recommended\""
   ]
  },
  {
   "cell_type": "code",
   "execution_count": 80,
   "id": "f82ab2a9",
   "metadata": {},
   "outputs": [],
   "source": [
    "def apply_condi_box(string):\n",
    "    if int(string[5:7]) in ([6,7,8,9]) :\n",
    "        return \"Epic\"\n",
    "    elif int(string[5:7]) in([1,2,3,4,5,10,11,12]):\n",
    "        return \"Good\""
   ]
  },
  {
   "cell_type": "code",
   "execution_count": 81,
   "id": "a3268406",
   "metadata": {},
   "outputs": [],
   "source": [
    "def apply_condi_pe(string):\n",
    "    if int(string[5:7]) in ([4,5,6]) :\n",
    "        return \"Epic\"\n",
    "    elif int(string[5:7]) in([7,8,9]):\n",
    "        return \"Good\"\n",
    "    elif int(string[5:7]) in ([2,3,10]):\n",
    "        return \"Mediocre\"\n",
    "    else:\n",
    "        return \"Not recommended\""
   ]
  },
  {
   "cell_type": "code",
   "execution_count": 82,
   "id": "2210a773",
   "metadata": {},
   "outputs": [],
   "source": [
    "def apply_condi_ita(string):\n",
    "    if int(string[5:7]) in ([6,7]) :\n",
    "        return \"Epic\"\n",
    "    elif int(string[5:7]) in([5,8,9]):\n",
    "        return \"Good\"\n",
    "    elif int(string[5:7]) in ([4]):\n",
    "        return \"Mediocre\"\n",
    "    else:\n",
    "        return \"Not recommended\""
   ]
  },
  {
   "cell_type": "code",
   "execution_count": 83,
   "id": "bb7a9e12",
   "metadata": {},
   "outputs": [],
   "source": [
    "def apply_condi_pp(string):\n",
    "    if int(string[5:7]) in ([6,7,8]) :\n",
    "        return \"Epic\"\n",
    "    elif int(string[5:7]) in([5,10,9]):\n",
    "        return \"Good\"\n",
    "    elif int(string[5:7]) in ([1,2,3,4,11,12]):\n",
    "        return \"Mediocre\""
   ]
  },
  {
   "cell_type": "code",
   "execution_count": 84,
   "id": "2872585e",
   "metadata": {},
   "outputs": [],
   "source": [
    "def apply_condi_mosca(string):\n",
    "    if int(string[5:7]) in ([11,12,1,2]) :\n",
    "        return \"Epic\"\n",
    "    elif int(string[5:7]) in([3,9,10]):\n",
    "        return \"Good\"\n",
    "    elif int(string[5:7]) in([6,7,8]):\n",
    "        return \"Choppy\"\n",
    "    else:\n",
    "        return \"Not recommended\""
   ]
  },
  {
   "cell_type": "code",
   "execution_count": 85,
   "id": "244bda82",
   "metadata": {},
   "outputs": [],
   "source": [
    "def apply_condi_tauro(string):\n",
    "    if (string[5:7]) in ([11,12,1,2]) :\n",
    "        return \"Epic\"\n",
    "    elif int(string[5:7]) in([3,9,10]):\n",
    "        return \"Good\"\n",
    "    else:\n",
    "        return \"Not recommended\""
   ]
  },
  {
   "cell_type": "markdown",
   "id": "75ebafb6",
   "metadata": {},
   "source": [
    "### Exports"
   ]
  },
  {
   "cell_type": "code",
   "execution_count": 86,
   "id": "d4d21453",
   "metadata": {},
   "outputs": [],
   "source": [
    "nazare_wave.to_csv(\"nazare_wave.csv\", index=False)"
   ]
  },
  {
   "cell_type": "code",
   "execution_count": 87,
   "id": "01bcd09e",
   "metadata": {},
   "outputs": [],
   "source": [
    "nazare_wind.to_csv(\"nazare_wind.csv\", index=False)"
   ]
  },
  {
   "cell_type": "code",
   "execution_count": 88,
   "id": "b35ec3bc",
   "metadata": {},
   "outputs": [],
   "source": [
    "pipe_wave.to_csv(\"pipe_wave.csv\", index=False)"
   ]
  },
  {
   "cell_type": "code",
   "execution_count": 89,
   "id": "bf84c52e",
   "metadata": {},
   "outputs": [],
   "source": [
    "pipe_wind.to_csv(\"pipe_wind.csv\", index=False)"
   ]
  },
  {
   "cell_type": "code",
   "execution_count": 90,
   "id": "99aa1e48",
   "metadata": {},
   "outputs": [],
   "source": [
    "fronton_wave.to_csv(\"fronton_wave.csv\", index=False)"
   ]
  },
  {
   "cell_type": "code",
   "execution_count": 91,
   "id": "2be558e3",
   "metadata": {},
   "outputs": [],
   "source": [
    "fronton_wind.to_csv(\"fronton_wind.csv\", index=False)"
   ]
  },
  {
   "cell_type": "code",
   "execution_count": 92,
   "id": "19541e57",
   "metadata": {},
   "outputs": [],
   "source": [
    "box_wave.to_csv(\"box_wave.csv\", index=False)"
   ]
  },
  {
   "cell_type": "code",
   "execution_count": 93,
   "id": "cbeb31bc",
   "metadata": {},
   "outputs": [],
   "source": [
    "box_wind.to_csv(\"box_wind.csv\", index=False)"
   ]
  },
  {
   "cell_type": "code",
   "execution_count": 94,
   "id": "b3631f4f",
   "metadata": {},
   "outputs": [],
   "source": [
    "pe_wave.to_csv(\"pe_wave.csv\", index=False)"
   ]
  },
  {
   "cell_type": "code",
   "execution_count": 95,
   "id": "8a58fff1",
   "metadata": {},
   "outputs": [],
   "source": [
    "pe_wind.to_csv(\"pe_wind.csv\", index=False)"
   ]
  },
  {
   "cell_type": "code",
   "execution_count": 96,
   "id": "057cd676",
   "metadata": {},
   "outputs": [],
   "source": [
    "ita_wave.to_csv(\"ita_wave.csv\", index=False)"
   ]
  },
  {
   "cell_type": "code",
   "execution_count": 97,
   "id": "e14d03f6",
   "metadata": {},
   "outputs": [],
   "source": [
    "ita_wind.to_csv(\"ita_wind.csv\", index=False)"
   ]
  },
  {
   "cell_type": "code",
   "execution_count": 98,
   "id": "a8eeedec",
   "metadata": {},
   "outputs": [],
   "source": [
    "pp_wave.to_csv(\"pp_wave.csv\", index=False)"
   ]
  },
  {
   "cell_type": "code",
   "execution_count": 99,
   "id": "d346f3aa",
   "metadata": {},
   "outputs": [],
   "source": [
    "pp_wind.to_csv(\"pp_wind.csv\", index=False)"
   ]
  },
  {
   "cell_type": "code",
   "execution_count": 100,
   "id": "3c6eeae0",
   "metadata": {},
   "outputs": [],
   "source": [
    "mosca_wave.to_csv(\"mosca_wave.csv\", index=False)"
   ]
  },
  {
   "cell_type": "code",
   "execution_count": 101,
   "id": "d3ccffd6",
   "metadata": {},
   "outputs": [],
   "source": [
    "mosca_wind.to_csv(\"mosca_wind.csv\", index=False)"
   ]
  },
  {
   "cell_type": "code",
   "execution_count": 102,
   "id": "0934ed74",
   "metadata": {},
   "outputs": [],
   "source": [
    "tauro_wave.to_csv(\"tauro_wave.csv\", index=False)"
   ]
  },
  {
   "cell_type": "code",
   "execution_count": 103,
   "id": "f971f89f",
   "metadata": {},
   "outputs": [],
   "source": [
    "tauro_wave.to_csv(\"tauro_wind.csv\", index=False)"
   ]
  },
  {
   "cell_type": "code",
   "execution_count": 104,
   "id": "eace64c3",
   "metadata": {},
   "outputs": [],
   "source": [
    "mundaka_wave.to_csv(\"mundaka_wave.csv\", index=False)"
   ]
  },
  {
   "cell_type": "code",
   "execution_count": 105,
   "id": "4c39588f",
   "metadata": {},
   "outputs": [],
   "source": [
    "mundaka_wind.to_csv(\"mundaka_wind.csv\", index=False)"
   ]
  },
  {
   "cell_type": "markdown",
   "id": "f3b15f77",
   "metadata": {},
   "source": [
    "# Prophet"
   ]
  },
  {
   "cell_type": "code",
   "execution_count": 106,
   "id": "ffe3f97e",
   "metadata": {},
   "outputs": [],
   "source": [
    "df_wave = [nazare_wave,pipe_wave,fronton_wave,box_wave,pe_wave,ita_wave,pp_wave,mosca_wave,tauro_wave,mundaka_wave]"
   ]
  },
  {
   "cell_type": "code",
   "execution_count": 107,
   "id": "a21858ee",
   "metadata": {},
   "outputs": [],
   "source": [
    "df_winds = [nazare_wind,pipe_wind,fronton_wind,box_wind,pe_wind,ita_wind,pp_wind,mosca_wind,tauro_wind,mundaka_wind]"
   ]
  },
  {
   "cell_type": "code",
   "execution_count": 108,
   "id": "f1cde706",
   "metadata": {},
   "outputs": [],
   "source": [
    "list_spot = [\"Nazare\",\"Pipeline\",\"Fronton\",\"The Box\",\"Puerto Escondido\",\"Itacoatiara\",\"Padang-Padang\",\"Mosca Point\",\"Tauro\",\"Mundaka\"]"
   ]
  },
  {
   "cell_type": "code",
   "execution_count": 109,
   "id": "8cd81424",
   "metadata": {},
   "outputs": [],
   "source": [
    "def find_empties(df_wave_list,df_wind_list,spot_list,start_date,end_date):\n",
    "    prueba = []\n",
    "    for i,j,k in zip(df_wave,df_winds,list_spot):\n",
    "        spot_num,wave_fig,wind_fig = prophet(i,j,k,start_date,end_date)\n",
    "        if spot_num.empty:\n",
    "            print(\"empty\")\n",
    "        else:\n",
    "            prueba.append([spot_num,wave_fig,wind_fig])"
   ]
  },
  {
   "cell_type": "code",
   "execution_count": 110,
   "id": "0de14859",
   "metadata": {},
   "outputs": [],
   "source": [
    "def prophet(df_waves, df_wind, spot, start_date,end_date):\n",
    "    \n",
    "    #model waves\n",
    "    model_waves = Prophet(daily_seasonality=True)\n",
    "    model_waves.fit(df_waves)\n",
    "    future_waves = model_waves.make_future_dataframe(periods=730, freq='D')\n",
    "    forecast_waves = model_waves.predict(future_waves)\n",
    "    forecast_waves = forecast_waves[['ds', 'yhat', 'yhat_lower', 'yhat_upper']]\n",
    "    fig1_waves = model_waves.plot(forecast_waves, uncertainty = True)\n",
    "    forecast_waves.drop([\"yhat_lower\",\"yhat_upper\"],axis= 1, inplace= True)\n",
    "    forecast_waves.columns = [\"date\", \"waves_pred\"]\n",
    "    \n",
    "    # model wind\n",
    "    model_wind = Prophet(daily_seasonality=True)\n",
    "    model_wind.fit(df_wind)\n",
    "    future_wind = model_wind.make_future_dataframe(periods=730, freq='D')\n",
    "    forecast_wind = model_wind.predict(future_wind)\n",
    "    forecast_wind = forecast_wind[['ds', 'yhat', 'yhat_lower', 'yhat_upper']]\n",
    "    fig1_wind = model_wind.plot(forecast_wind, uncertainty = True)\n",
    "    forecast_wind.drop([\"yhat_lower\",\"yhat_upper\"],axis= 1, inplace= True)\n",
    "    forecast_wind.columns = [\"date2\", \"wind_pred\"]\n",
    "    \n",
    "    #join\n",
    "    forecast = pd.concat([forecast_waves,forecast_wind],axis = 1, join =  \"inner\")\n",
    "    forecast.drop([\"date2\"],axis= 1, inplace = True)\n",
    "    forecast.date = forecast.date.dt.strftime('%Y/%m/%d')\n",
    "    forecast.date = forecast.date.astype(str)\n",
    "    forecast[\"Spot\"] = f'{spot}'\n",
    "    \n",
    "    if spot == \"Nazare\":\n",
    "        forecast[\"Conditions\"] = forecast.date.apply(apply_condi_naz)\n",
    "    elif spot == \"Pipeline\":\n",
    "         forecast[\"Conditions\"] = forecast.date.apply(apply_condi_pip)\n",
    "    elif spot == \"Fronton\":\n",
    "         forecast[\"Conditions\"] = forecast.date.apply(apply_condi_fron)\n",
    "    elif spot == \"The Box\":\n",
    "         forecast[\"Conditions\"] = forecast.date.apply(apply_condi_box)\n",
    "    elif spot == \"Puerto Escondido\":\n",
    "         forecast[\"Conditions\"] = forecast.date.apply(apply_condi_pe)\n",
    "    elif spot == \"Itacoatiara\":\n",
    "        forecast[\"Conditions\"] = forecast.date.apply(apply_condi_ita)\n",
    "    elif spot == \"Padang-Padang\":\n",
    "        forecast[\"Conditions\"] = forecast.date.apply(apply_condi_pp)\n",
    "    elif spot == \"Mosca Point\":\n",
    "        forecast[\"Conditions\"] = forecast.date.apply(apply_condi_mosca)\n",
    "    elif spot == \"Tauro\":\n",
    "        forecast[\"Conditions\"] = forecast.date.apply(apply_condi_tauro)\n",
    "    else:\n",
    "        forecast[\"Conditions\"] = forecast.date.apply(apply_condi_mun)\n",
    "        \n",
    "    \n",
    "    forecast.date = pd.to_datetime(forecast.date)\n",
    "    \n",
    "    start_date = datetime.strptime(start_date,'%Y/%m/%d')\n",
    "    end_date = datetime.strptime(end_date, '%Y/%m/%d')\n",
    "    \n",
    "    mask = (forecast[\"date\"] > start_date) & (forecast[\"date\"] <= end_date)\n",
    "    forecast = forecast.loc[mask]\n",
    "    forecast= forecast[(forecast[\"Conditions\"] == \"Good\") | (forecast[\"Conditions\"] == \"Epic\")]\n",
    "    \n",
    "    \n",
    "    \n",
    "    \n",
    "    return forecast, fig1_waves,fig1_wind\n"
   ]
  },
  {
   "cell_type": "code",
   "execution_count": 111,
   "id": "3753f931",
   "metadata": {},
   "outputs": [
    {
     "name": "stdout",
     "output_type": "stream",
     "text": [
      "Initial log joint probability = -6.14219\n",
      "    Iter      log prob        ||dx||      ||grad||       alpha      alpha0  # evals  Notes \n",
      "      99        2219.8   6.15984e-07       63.6207       0.577       0.577      128   \n",
      "    Iter      log prob        ||dx||      ||grad||       alpha      alpha0  # evals  Notes \n",
      "     106        2219.8   1.64721e-06       45.4647   2.352e-08       0.001      184  LS failed, Hessian reset \n",
      "     116        2219.8   1.79017e-07       55.2136      0.4552      0.8994      196   \n",
      "Optimization terminated normally: \n",
      "  Convergence detected: relative gradient magnitude is below tolerance\n",
      "Initial log joint probability = -10.2854\n",
      "    Iter      log prob        ||dx||      ||grad||       alpha      alpha0  # evals  Notes \n",
      "      99       1870.55   0.000402107        82.838           1           1      129   \n",
      "    Iter      log prob        ||dx||      ||grad||       alpha      alpha0  # evals  Notes \n",
      "     103       1870.59   0.000534509       82.5408   7.684e-06       0.001      166  LS failed, Hessian reset \n",
      "     134       1870.61   4.08583e-05       72.1786   6.462e-07       0.001      242  LS failed, Hessian reset \n",
      "     166       1870.61   1.35794e-05       59.3386   1.583e-07       0.001      321  LS failed, Hessian reset \n",
      "     186       1870.61   4.21194e-08       59.9336      0.3313      0.3313      354   \n",
      "Optimization terminated normally: \n",
      "  Convergence detected: relative gradient magnitude is below tolerance\n"
     ]
    },
    {
     "data": {
      "image/png": "[encoded data removed]",
      "text/plain": [
       "<Figure size 720x432 with 1 Axes>"
      ]
     },
     "metadata": {},
     "output_type": "display_data"
    },
    {
     "data": {
      "image/png": "[encoded data removed]",
      "text/plain": [
       "<Figure size 720x432 with 1 Axes>"
      ]
     },
     "metadata": {},
     "output_type": "display_data"
    }
   ],
   "source": [
    "nazare_num,nazare_wave_fig,nazare_wind_fig = prophet(tauro_wave,tauro_wind, \"Tauro\",\"2022/08/10\",\"2022/12/15\")"
   ]
  },
  {
   "cell_type": "code",
   "execution_count": 112,
   "id": "819523f0",
   "metadata": {},
   "outputs": [
    {
     "name": "stdout",
     "output_type": "stream",
     "text": [
      "Initial log joint probability = -39.0489\n",
      "    Iter      log prob        ||dx||      ||grad||       alpha      alpha0  # evals  Notes \n",
      "      99        1634.3   0.000911807       81.7787           1           1      124   \n",
      "    Iter      log prob        ||dx||      ||grad||       alpha      alpha0  # evals  Notes \n",
      "     152       1634.76   0.000772888       107.558   7.253e-06       0.001      232  LS failed, Hessian reset \n",
      "     199       1634.79   2.65403e-07       83.6874      0.7159      0.7159      292   \n",
      "    Iter      log prob        ||dx||      ||grad||       alpha      alpha0  # evals  Notes \n",
      "     207       1634.79   3.28186e-06       81.4836   3.859e-08       0.001      344  LS failed, Hessian reset \n",
      "     217       1634.79   6.07616e-08       64.3025      0.2981      0.2981      356   \n",
      "Optimization terminated normally: \n",
      "  Convergence detected: relative gradient magnitude is below tolerance\n",
      "Initial log joint probability = -23.8382\n",
      "    Iter      log prob        ||dx||      ||grad||       alpha      alpha0  # evals  Notes \n",
      "      99       1334.23   3.83839e-07       82.7435      0.1719      0.4694      137   \n",
      "    Iter      log prob        ||dx||      ||grad||       alpha      alpha0  # evals  Notes \n",
      "     130       1334.23   5.41896e-06        81.353   6.253e-08       0.001      209  LS failed, Hessian reset \n",
      "     153       1334.23   3.10604e-08       80.4411     0.08535           1      238   \n",
      "Optimization terminated normally: \n",
      "  Convergence detected: relative gradient magnitude is below tolerance\n"
     ]
    },
    {
     "data": {
      "image/png": "[encoded data removed]",
      "text/plain": [
       "<Figure size 720x432 with 1 Axes>"
      ]
     },
     "metadata": {},
     "output_type": "display_data"
    },
    {
     "data": {
      "image/png": "[encoded data removed]",
      "text/plain": [
       "<Figure size 720x432 with 1 Axes>"
      ]
     },
     "metadata": {},
     "output_type": "display_data"
    }
   ],
   "source": [
    "nazare_num,nazare_wave_fig,nazare_wind_fig = prophet(nazare_wave,nazare_wind, \"Nazare\",\"2022/08/10\",\"2022/12/15\")"
   ]
  },
  {
   "cell_type": "code",
   "execution_count": 115,
   "id": "4407d9c6",
   "metadata": {},
   "outputs": [
    {
     "data": {
      "text/html": [
       "<div>\n",
       "<style scoped>\n",
       "    .dataframe tbody tr th:only-of-type {\n",
       "        vertical-align: middle;\n",
       "    }\n",
       "\n",
       "    .dataframe tbody tr th {\n",
       "        vertical-align: top;\n",
       "    }\n",
       "\n",
       "    .dataframe thead th {\n",
       "        text-align: right;\n",
       "    }\n",
       "</style>\n",
       "<table border=\"1\" class=\"dataframe\">\n",
       "  <thead>\n",
       "    <tr style=\"text-align: right;\">\n",
       "      <th></th>\n",
       "      <th>date</th>\n",
       "      <th>waves_pred</th>\n",
       "      <th>wind_pred</th>\n",
       "      <th>Spot</th>\n",
       "      <th>Conditions</th>\n",
       "    </tr>\n",
       "  </thead>\n",
       "  <tbody>\n",
       "    <tr>\n",
       "      <th>1704</th>\n",
       "      <td>2022-09-01</td>\n",
       "      <td>4.838032</td>\n",
       "      <td>10.502341</td>\n",
       "      <td>Nazare</td>\n",
       "      <td>Good</td>\n",
       "    </tr>\n",
       "    <tr>\n",
       "      <th>1705</th>\n",
       "      <td>2022-09-02</td>\n",
       "      <td>4.295383</td>\n",
       "      <td>9.035072</td>\n",
       "      <td>Nazare</td>\n",
       "      <td>Good</td>\n",
       "    </tr>\n",
       "    <tr>\n",
       "      <th>1706</th>\n",
       "      <td>2022-09-03</td>\n",
       "      <td>4.277703</td>\n",
       "      <td>9.775729</td>\n",
       "      <td>Nazare</td>\n",
       "      <td>Good</td>\n",
       "    </tr>\n",
       "    <tr>\n",
       "      <th>1707</th>\n",
       "      <td>2022-09-04</td>\n",
       "      <td>4.217809</td>\n",
       "      <td>8.862004</td>\n",
       "      <td>Nazare</td>\n",
       "      <td>Good</td>\n",
       "    </tr>\n",
       "    <tr>\n",
       "      <th>1708</th>\n",
       "      <td>2022-09-05</td>\n",
       "      <td>4.252858</td>\n",
       "      <td>8.661150</td>\n",
       "      <td>Nazare</td>\n",
       "      <td>Good</td>\n",
       "    </tr>\n",
       "    <tr>\n",
       "      <th>...</th>\n",
       "      <td>...</td>\n",
       "      <td>...</td>\n",
       "      <td>...</td>\n",
       "      <td>...</td>\n",
       "      <td>...</td>\n",
       "    </tr>\n",
       "    <tr>\n",
       "      <th>1805</th>\n",
       "      <td>2022-12-11</td>\n",
       "      <td>7.826817</td>\n",
       "      <td>9.649991</td>\n",
       "      <td>Nazare</td>\n",
       "      <td>Good</td>\n",
       "    </tr>\n",
       "    <tr>\n",
       "      <th>1806</th>\n",
       "      <td>2022-12-12</td>\n",
       "      <td>8.026498</td>\n",
       "      <td>9.725620</td>\n",
       "      <td>Nazare</td>\n",
       "      <td>Good</td>\n",
       "    </tr>\n",
       "    <tr>\n",
       "      <th>1807</th>\n",
       "      <td>2022-12-13</td>\n",
       "      <td>8.009360</td>\n",
       "      <td>9.958599</td>\n",
       "      <td>Nazare</td>\n",
       "      <td>Good</td>\n",
       "    </tr>\n",
       "    <tr>\n",
       "      <th>1808</th>\n",
       "      <td>2022-12-14</td>\n",
       "      <td>8.447614</td>\n",
       "      <td>10.449556</td>\n",
       "      <td>Nazare</td>\n",
       "      <td>Good</td>\n",
       "    </tr>\n",
       "    <tr>\n",
       "      <th>1809</th>\n",
       "      <td>2022-12-15</td>\n",
       "      <td>8.512303</td>\n",
       "      <td>11.017802</td>\n",
       "      <td>Nazare</td>\n",
       "      <td>Good</td>\n",
       "    </tr>\n",
       "  </tbody>\n",
       "</table>\n",
       "<p>106 rows × 5 columns</p>\n",
       "</div>"
      ],
      "text/plain": [
       "           date  waves_pred  wind_pred    Spot Conditions\n",
       "1704 2022-09-01    4.838032  10.502341  Nazare       Good\n",
       "1705 2022-09-02    4.295383   9.035072  Nazare       Good\n",
       "1706 2022-09-03    4.277703   9.775729  Nazare       Good\n",
       "1707 2022-09-04    4.217809   8.862004  Nazare       Good\n",
       "1708 2022-09-05    4.252858   8.661150  Nazare       Good\n",
       "...         ...         ...        ...     ...        ...\n",
       "1805 2022-12-11    7.826817   9.649991  Nazare       Good\n",
       "1806 2022-12-12    8.026498   9.725620  Nazare       Good\n",
       "1807 2022-12-13    8.009360   9.958599  Nazare       Good\n",
       "1808 2022-12-14    8.447614  10.449556  Nazare       Good\n",
       "1809 2022-12-15    8.512303  11.017802  Nazare       Good\n",
       "\n",
       "[106 rows x 5 columns]"
      ]
     },
     "execution_count": 115,
     "metadata": {},
     "output_type": "execute_result"
    }
   ],
   "source": [
    "nazare_num"
   ]
  },
  {
   "cell_type": "code",
   "execution_count": 114,
   "id": "9170428f",
   "metadata": {},
   "outputs": [
    {
     "ename": "KeyError",
     "evalue": "0",
     "output_type": "error",
     "traceback": [
      "\u001b[0;31m---------------------------------------------------------------------------\u001b[0m",
      "\u001b[0;31mKeyError\u001b[0m                                  Traceback (most recent call last)",
      "\u001b[0;32m~/.local/lib/python3.8/site-packages/pandas/core/indexes/base.py\u001b[0m in \u001b[0;36mget_loc\u001b[0;34m(self, key, method, tolerance)\u001b[0m\n\u001b[1;32m   3360\u001b[0m             \u001b[0;32mtry\u001b[0m\u001b[0;34m:\u001b[0m\u001b[0;34m\u001b[0m\u001b[0;34m\u001b[0m\u001b[0m\n\u001b[0;32m-> 3361\u001b[0;31m                 \u001b[0;32mreturn\u001b[0m \u001b[0mself\u001b[0m\u001b[0;34m.\u001b[0m\u001b[0m_engine\u001b[0m\u001b[0;34m.\u001b[0m\u001b[0mget_loc\u001b[0m\u001b[0;34m(\u001b[0m\u001b[0mcasted_key\u001b[0m\u001b[0;34m)\u001b[0m\u001b[0;34m\u001b[0m\u001b[0;34m\u001b[0m\u001b[0m\n\u001b[0m\u001b[1;32m   3362\u001b[0m             \u001b[0;32mexcept\u001b[0m \u001b[0mKeyError\u001b[0m \u001b[0;32mas\u001b[0m \u001b[0merr\u001b[0m\u001b[0;34m:\u001b[0m\u001b[0;34m\u001b[0m\u001b[0;34m\u001b[0m\u001b[0m\n",
      "\u001b[0;32m~/.local/lib/python3.8/site-packages/pandas/_libs/index.pyx\u001b[0m in \u001b[0;36mpandas._libs.index.IndexEngine.get_loc\u001b[0;34m()\u001b[0m\n",
      "\u001b[0;32m~/.local/lib/python3.8/site-packages/pandas/_libs/index.pyx\u001b[0m in \u001b[0;36mpandas._libs.index.IndexEngine.get_loc\u001b[0;34m()\u001b[0m\n",
      "\u001b[0;32mpandas/_libs/hashtable_class_helper.pxi\u001b[0m in \u001b[0;36mpandas._libs.hashtable.Int64HashTable.get_item\u001b[0;34m()\u001b[0m\n",
      "\u001b[0;32mpandas/_libs/hashtable_class_helper.pxi\u001b[0m in \u001b[0;36mpandas._libs.hashtable.Int64HashTable.get_item\u001b[0;34m()\u001b[0m\n",
      "\u001b[0;31mKeyError\u001b[0m: 0",
      "\nThe above exception was the direct cause of the following exception:\n",
      "\u001b[0;31mKeyError\u001b[0m                                  Traceback (most recent call last)",
      "\u001b[0;32m/tmp/ipykernel_255/1560518759.py\u001b[0m in \u001b[0;36m<module>\u001b[0;34m\u001b[0m\n\u001b[0;32m----> 1\u001b[0;31m \u001b[0;32mif\u001b[0m \u001b[0mnazare_num\u001b[0m\u001b[0;34m.\u001b[0m\u001b[0mSpot\u001b[0m\u001b[0;34m[\u001b[0m\u001b[0;36m0\u001b[0m\u001b[0;34m]\u001b[0m \u001b[0;34m==\u001b[0m \u001b[0;34m\"Nazare\"\u001b[0m\u001b[0;34m:\u001b[0m\u001b[0;34m\u001b[0m\u001b[0;34m\u001b[0m\u001b[0m\n\u001b[0m\u001b[1;32m      2\u001b[0m     \u001b[0mprint\u001b[0m\u001b[0;34m(\u001b[0m\u001b[0;32mTrue\u001b[0m\u001b[0;34m)\u001b[0m\u001b[0;34m\u001b[0m\u001b[0;34m\u001b[0m\u001b[0m\n",
      "\u001b[0;32m~/.local/lib/python3.8/site-packages/pandas/core/series.py\u001b[0m in \u001b[0;36m__getitem__\u001b[0;34m(self, key)\u001b[0m\n\u001b[1;32m    940\u001b[0m \u001b[0;34m\u001b[0m\u001b[0m\n\u001b[1;32m    941\u001b[0m         \u001b[0;32melif\u001b[0m \u001b[0mkey_is_scalar\u001b[0m\u001b[0;34m:\u001b[0m\u001b[0;34m\u001b[0m\u001b[0;34m\u001b[0m\u001b[0m\n\u001b[0;32m--> 942\u001b[0;31m             \u001b[0;32mreturn\u001b[0m \u001b[0mself\u001b[0m\u001b[0;34m.\u001b[0m\u001b[0m_get_value\u001b[0m\u001b[0;34m(\u001b[0m\u001b[0mkey\u001b[0m\u001b[0;34m)\u001b[0m\u001b[0;34m\u001b[0m\u001b[0;34m\u001b[0m\u001b[0m\n\u001b[0m\u001b[1;32m    943\u001b[0m \u001b[0;34m\u001b[0m\u001b[0m\n\u001b[1;32m    944\u001b[0m         \u001b[0;32mif\u001b[0m \u001b[0mis_hashable\u001b[0m\u001b[0;34m(\u001b[0m\u001b[0mkey\u001b[0m\u001b[0;34m)\u001b[0m\u001b[0;34m:\u001b[0m\u001b[0;34m\u001b[0m\u001b[0;34m\u001b[0m\u001b[0m\n",
      "\u001b[0;32m~/.local/lib/python3.8/site-packages/pandas/core/series.py\u001b[0m in \u001b[0;36m_get_value\u001b[0;34m(self, label, takeable)\u001b[0m\n\u001b[1;32m   1049\u001b[0m \u001b[0;34m\u001b[0m\u001b[0m\n\u001b[1;32m   1050\u001b[0m         \u001b[0;31m# Similar to Index.get_value, but we do not fall back to positional\u001b[0m\u001b[0;34m\u001b[0m\u001b[0;34m\u001b[0m\u001b[0;34m\u001b[0m\u001b[0m\n\u001b[0;32m-> 1051\u001b[0;31m         \u001b[0mloc\u001b[0m \u001b[0;34m=\u001b[0m \u001b[0mself\u001b[0m\u001b[0;34m.\u001b[0m\u001b[0mindex\u001b[0m\u001b[0;34m.\u001b[0m\u001b[0mget_loc\u001b[0m\u001b[0;34m(\u001b[0m\u001b[0mlabel\u001b[0m\u001b[0;34m)\u001b[0m\u001b[0;34m\u001b[0m\u001b[0;34m\u001b[0m\u001b[0m\n\u001b[0m\u001b[1;32m   1052\u001b[0m         \u001b[0;32mreturn\u001b[0m \u001b[0mself\u001b[0m\u001b[0;34m.\u001b[0m\u001b[0mindex\u001b[0m\u001b[0;34m.\u001b[0m\u001b[0m_get_values_for_loc\u001b[0m\u001b[0;34m(\u001b[0m\u001b[0mself\u001b[0m\u001b[0;34m,\u001b[0m \u001b[0mloc\u001b[0m\u001b[0;34m,\u001b[0m \u001b[0mlabel\u001b[0m\u001b[0;34m)\u001b[0m\u001b[0;34m\u001b[0m\u001b[0;34m\u001b[0m\u001b[0m\n\u001b[1;32m   1053\u001b[0m \u001b[0;34m\u001b[0m\u001b[0m\n",
      "\u001b[0;32m~/.local/lib/python3.8/site-packages/pandas/core/indexes/base.py\u001b[0m in \u001b[0;36mget_loc\u001b[0;34m(self, key, method, tolerance)\u001b[0m\n\u001b[1;32m   3361\u001b[0m                 \u001b[0;32mreturn\u001b[0m \u001b[0mself\u001b[0m\u001b[0;34m.\u001b[0m\u001b[0m_engine\u001b[0m\u001b[0;34m.\u001b[0m\u001b[0mget_loc\u001b[0m\u001b[0;34m(\u001b[0m\u001b[0mcasted_key\u001b[0m\u001b[0;34m)\u001b[0m\u001b[0;34m\u001b[0m\u001b[0;34m\u001b[0m\u001b[0m\n\u001b[1;32m   3362\u001b[0m             \u001b[0;32mexcept\u001b[0m \u001b[0mKeyError\u001b[0m \u001b[0;32mas\u001b[0m \u001b[0merr\u001b[0m\u001b[0;34m:\u001b[0m\u001b[0;34m\u001b[0m\u001b[0;34m\u001b[0m\u001b[0m\n\u001b[0;32m-> 3363\u001b[0;31m                 \u001b[0;32mraise\u001b[0m \u001b[0mKeyError\u001b[0m\u001b[0;34m(\u001b[0m\u001b[0mkey\u001b[0m\u001b[0;34m)\u001b[0m \u001b[0;32mfrom\u001b[0m \u001b[0merr\u001b[0m\u001b[0;34m\u001b[0m\u001b[0;34m\u001b[0m\u001b[0m\n\u001b[0m\u001b[1;32m   3364\u001b[0m \u001b[0;34m\u001b[0m\u001b[0m\n\u001b[1;32m   3365\u001b[0m         \u001b[0;32mif\u001b[0m \u001b[0mis_scalar\u001b[0m\u001b[0;34m(\u001b[0m\u001b[0mkey\u001b[0m\u001b[0;34m)\u001b[0m \u001b[0;32mand\u001b[0m \u001b[0misna\u001b[0m\u001b[0;34m(\u001b[0m\u001b[0mkey\u001b[0m\u001b[0;34m)\u001b[0m \u001b[0;32mand\u001b[0m \u001b[0;32mnot\u001b[0m \u001b[0mself\u001b[0m\u001b[0;34m.\u001b[0m\u001b[0mhasnans\u001b[0m\u001b[0;34m:\u001b[0m\u001b[0;34m\u001b[0m\u001b[0;34m\u001b[0m\u001b[0m\n",
      "\u001b[0;31mKeyError\u001b[0m: 0"
     ]
    }
   ],
   "source": [
    "if nazare_num.Spot[0] == \"Nazare\":\n",
    "    print(True)"
   ]
  },
  {
   "cell_type": "code",
   "execution_count": null,
   "id": "3a203096",
   "metadata": {},
   "outputs": [],
   "source": [
    "list(nazare_num.Spot)[0]"
   ]
  },
  {
   "cell_type": "code",
   "execution_count": null,
   "id": "0572f731",
   "metadata": {},
   "outputs": [],
   "source": [
    "nazare_num[(nazare_num[\"Conditions\"] == \"Good\") | (nazare_num[\"Conditions\"] == \"Epic\")]"
   ]
  },
  {
   "cell_type": "code",
   "execution_count": null,
   "id": "b3ea5a4d",
   "metadata": {},
   "outputs": [],
   "source": []
  }
 ],
 "metadata": {
  "kernelspec": {
   "display_name": "Python 3 (ipykernel)",
   "language": "python",
   "name": "python3"
  },
  "language_info": {
   "codemirror_mode": {
    "name": "ipython",
    "version": 3
   },
   "file_extension": ".py",
   "mimetype": "text/x-python",
   "name": "python",
   "nbconvert_exporter": "python",
   "pygments_lexer": "ipython3",
   "version": "3.8.10"
  }
 },
 "nbformat": 4,
 "nbformat_minor": 5
}
